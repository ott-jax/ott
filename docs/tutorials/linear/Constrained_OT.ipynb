{
 "cells": [
  {
   "cell_type": "markdown",
   "id": "c40c1a11",
   "metadata": {},
   "source": [
    "# Constrained Optimal Transport\n",
    "\n",
    "We provide in this notebook a tutorial for the use of {class}`OTT's <ott.solvers.linear.sinkhorn.Sinkhorn>` to solve constrained optimal transport problem. This tutorials relies heavily on both the paper {cite}`tang:24` and the ott-jax package.\n",
    "\n",
    "Throughout the notebook:\n",
    "- given $a$, $b \\in \\mathbb{R}^n$ respectively the source and target density, $\\mathcal{U}(a,b)=\\left\\{P \\in \\mathbb{R}_+^{n\\times n}:~P\\mathbf{1}=a,~P^T\\mathbf{1}=b\\right\\}$ denote the correponding set of transport matrix.\n",
    "- given $C$, $P\\in \\mathbb{R}^{n\\times n}$, $\\langle C, P \\rangle=\\sum_{1\\leq i,j\\leq n}C_{ij}P_{ij}$ denote the entry-wise inner product.\n",
    "- given $P \\in \\mathbb{R}^{n\\times n}$ and $s_1, \\dots, s_K$ is given by $H(P,s_1,\\dots,s_K)=\\sum_{1\\leq i,j\\leq n}P_{ij}\\log P_{ij} + \\sum_{k=1}^K s_k \\log s_k$ denote the entropy regularization term.\n",
    "\n",
    "Given $b$, $a \\in \\mathbb{R}^n$, $C\\in \\mathbb{R}^{n\\times n}$ the cost matrix and matrices $D_1, \\dots, D_K, D_{K+1}, \\dots, D_{K+L} \\in \\mathbb{R}^{n\\times n}$, the corresponding constrained optimal transport problem (COT) is defined as:\n",
    "$$\\min_{P \\in \\mathcal{U}(a,b)} \\langle C, P \\rangle \\quad \\text{subject to} \\quad \\begin{array}{cc}\n",
    "\\forall k=1,\\dots,K & \\langle D_k, P \\rangle \\geq 0\\\\\n",
    "\\forall l=1,\\dots,L & \\langle D_{K+l}, P \\rangle =0 \n",
    "\\end{array} $$\n",
    "\n",
    "Motivated by {cite}`tang:24`'s results, one may solve instead the following entropic relaxation which has an exponentially close solution to the original COT:\n",
    "\n",
    "$$\\min_{P \\in \\mathcal{U}(a,b),~s\\in \\mathbb{R}_+^{K}} \\langle C, P \\rangle + \\frac{1}{\\eta}H(P,s_1,\\dots,s_K) \\quad \\text{subject to} \\quad \\begin{array}{cc}\n",
    "\\forall k=1,\\dots,K & \\langle D_k, P \\rangle = s_k\\\\\n",
    "\\forall l=1,\\dots,L & \\langle D_{K+l}, P \\rangle =0 \n",
    "\\end{array} $$\n",
    "\n",
    "The associated primal-dual problem is given by:\n",
    "\n",
    "$$\\max_{u,v \\in \\mathbb{R}^n;t\\in \\mathbb{R}^{K+L}}\\min_{P,s}L(u,v,t;P,s) := \\frac{1}{\\eta} \\langle P, \\log P \\rangle + \\langle C, P \\rangle - \\langle u, P\\mathbf{1}-a \\rangle - \\langle v, P^T\\mathbf{1}- b\\rangle + \\frac{1}{\\eta}\\sum_{k=1}^Ks_k\\log s_k + \\sum_{k=1}^K t_k s_k + \\sum_{m=1}^{K+L}h_m\\langle D_m, P\\rangle$$\n",
    "\n",
    "We consider $f(u,v,t)=\\min_{P,s}L(u,v,t;P,s)$. By the minimax theorem, solving the entropic relaxation is equivalent to maximize $f$ that admits the following formulation:\n",
    "$$f(u,v,t)=-\\frac{1}{\\eta}\\sum_{1\\leq i,j\\leq n}\\exp{\\left(\\eta\\left(-C_{ij}+\\sum_{m=1}^{K+L}t_m(D_m)_{ij}+u_i+v_j\\right)-1\\right)} + \\sum_{i=1}^n u_ia_i + \\sum_{j=1}^n v_jb_j - \\frac{1}{\\eta}\\sum_{k=1}^{K}\\exp\\left(-\\eta t_k -1\\right)"
   ]
  },
  {
   "cell_type": "markdown",
   "id": "02723f8b",
   "metadata": {},
   "source": [
    "## Packages Import"
   ]
  },
  {
   "cell_type": "code",
   "execution_count": 3,
   "id": "5eaaedbb",
   "metadata": {},
   "outputs": [],
   "source": [
    "import jax\n",
    "import jax.numpy as jnp\n",
    "\n",
    "from ott.geometry import pointcloud\n",
    "from ott.problems.linear import linear_problem\n",
    "from ott.solvers.linear import sinkhorn"
   ]
  },
  {
   "cell_type": "code",
   "execution_count": 13,
   "id": "c34592c1",
   "metadata": {},
   "outputs": [],
   "source": [
    "A = jnp.array([[1.0, 2.0, -2.5], [3.0, 4.0, 6]])\n",
    "a = jnp.sum(A, axis=1)  # sum over rows"
   ]
  },
  {
   "cell_type": "code",
   "execution_count": 14,
   "id": "a80085cc",
   "metadata": {},
   "outputs": [],
   "source": [
    "X = jnp.minimum(a, 1)"
   ]
  },
  {
   "cell_type": "code",
   "execution_count": 15,
   "id": "25706ea1",
   "metadata": {},
   "outputs": [
    {
     "data": {
      "text/plain": [
       "Array([0.5, 1. ], dtype=float32)"
      ]
     },
     "execution_count": 15,
     "metadata": {},
     "output_type": "execute_result"
    }
   ],
   "source": [
    "X"
   ]
  },
  {
   "cell_type": "markdown",
   "id": "eba6d165",
   "metadata": {},
   "source": [
    "## Utils"
   ]
  },
  {
   "cell_type": "code",
   "execution_count": null,
   "id": "35e5215a",
   "metadata": {},
   "outputs": [],
   "source": [
    "def round(F: jnp.array, a: jnp.array, b: jnp.array) -> jnp.array:\n",
    "    \"\"\"Round an approximate transport matrix F to ensure it lies in\n",
    "    the set U(a,b)={F: F1=a, F^T1=b, F>=0}.\n",
    "\n",
    "    Args:\n",
    "        F (jnp.array): approximate transport matrix of shape (n,m)\n",
    "        a (jnp.array): marginal a of shape (n,)\n",
    "        b (jnp.array): marginal b of shape (m,)\n",
    "\n",
    "    Returns:\n",
    "        jnp.array: rounded transport matrix lying in U(a,b)\n",
    "    \"\"\"\n",
    "    X = jnp.minimum(a / jnp.sum(F, axis=1), 1)\n",
    "    F = X @ F\n",
    "    Y = jnp.minimum(b / jnp.sum(F, axis=0), 1)\n",
    "    F = F @ Y\n",
    "    err_a, err_b = a - jnp.sum(F, axis=1), b - jnp.sum(F, axis=0)\n",
    "    return F + jnp.outer(err_a, err_b) / jnp.sum(err_a)\n",
    "\n",
    "\n",
    "def cost(P: jnp.array, C: jnp.array, a: jnp.array, b: jnp.array) -> float:\n",
    "    \"\"\"Compute the cost of an approximate transport plan P.\n",
    "\n",
    "    Args:\n",
    "        P (jnp.array): approximate transport plan of shape (n,n)\n",
    "        C (jnp.array): cost matrix of shape (n,n)\n",
    "        a (jnp.array): marginal a of shape (n,)\n",
    "        b (jnp.array): marginal b of shape (n,)\n",
    "\n",
    "    Returns:\n",
    "        float: cost of the transport plan\n",
    "    \"\"\"\n",
    "    return jnp.sum(C * round(P, a, b))"
   ]
  },
  {
   "cell_type": "markdown",
   "id": "47216aa0",
   "metadata": {},
   "source": [
    "## Solvers implementation for the constrained OT"
   ]
  },
  {
   "cell_type": "markdown",
   "id": "8106b5d4",
   "metadata": {},
   "source": [
    "### Sinkhorn-type Algorithm for Constrained OT"
   ]
  },
  {
   "cell_type": "markdown",
   "id": "ccbd249f",
   "metadata": {},
   "source": [
    "### Sinkhorn-Newton-Sparse (SNS) for Constrained OT"
   ]
  },
  {
   "cell_type": "markdown",
   "id": "791cf398",
   "metadata": {},
   "source": [
    "### Sinkhorn-Newton-Sparse with entropy regularization scheduling for Constrained OT"
   ]
  },
  {
   "cell_type": "markdown",
   "id": "23bcd34c",
   "metadata": {},
   "source": [
    "## Numerical Experiments"
   ]
  }
 ],
 "metadata": {
  "kernelspec": {
   "display_name": "constrained_ot",
   "language": "python",
   "name": "python3"
  },
  "language_info": {
   "codemirror_mode": {
    "name": "ipython",
    "version": 3
   },
   "file_extension": ".py",
   "mimetype": "text/x-python",
   "name": "python",
   "nbconvert_exporter": "python",
   "pygments_lexer": "ipython3",
   "version": "3.9.21"
  }
 },
 "nbformat": 4,
 "nbformat_minor": 5
}
