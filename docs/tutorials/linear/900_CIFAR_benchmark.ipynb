{
 "cells": [
  {
   "cell_type": "markdown",
   "id": "0379ed8c",
   "metadata": {},
   "source": [
    "# Sharded Sinkhorn"
   ]
  },
  {
   "cell_type": "code",
   "execution_count": 1,
   "id": "a2c60b29",
   "metadata": {},
   "outputs": [],
   "source": [
    "# Misc.\n",
    "import functools\n",
    "import time\n",
    "from typing import Optional\n",
    "\n",
    "# Jax and sharding utils\n",
    "import jax\n",
    "import jax.numpy as jnp\n",
    "from jax.experimental import mesh_utils\n",
    "\n",
    "import matplotlib.pyplot as plt\n",
    "\n",
    "# Ott\n",
    "from ott.data import get_cifar10\n",
    "from ott.geometry import costs, pointcloud\n",
    "from ott.math import utils\n",
    "from ott.solvers import linear\n",
    "from ott.solvers.linear import sinkhorn"
   ]
  },
  {
   "cell_type": "markdown",
   "id": "e005a4f7",
   "metadata": {},
   "source": [
    "We show in this notebook how calls the {class}`~ott.solvers.linear.sinkhorn.Sinkhorn` solver can be scaled to handle a hundred thousand points (and possibly more) using data sharding across multiple GPUs. We start by loading the `CIFAR-10` train fold, originally of size `50k`, duplicated using horizontal flips."
   ]
  },
  {
   "cell_type": "code",
   "execution_count": 2,
   "id": "82387ff5",
   "metadata": {
    "scrolled": true
   },
   "outputs": [],
   "source": [
    "x, y, label = get_cifar10(\n",
    "    sigma=1.0, gaussian_blur_kernel_size=15, use_flip=True\n",
    ")"
   ]
  },
  {
   "cell_type": "markdown",
   "id": "d6673dbc",
   "metadata": {},
   "source": [
    "This loads two point-clouds in dimension `3072` of `100k` points each."
   ]
  },
  {
   "cell_type": "code",
   "execution_count": 3,
   "id": "e22af423",
   "metadata": {},
   "outputs": [
    {
     "data": {
      "text/plain": [
       "((100000, 3072), (100000, 3072))"
      ]
     },
     "execution_count": 3,
     "metadata": {},
     "output_type": "execute_result"
    }
   ],
   "source": [
    "x.shape, y.shape"
   ]
  },
  {
   "cell_type": "markdown",
   "id": "92227da5",
   "metadata": {},
   "source": [
    "The source `x` contains all images. The target `y` contains the same images, to which a Gaussian blur has been applied. This blurring operation is an optimal transport: as shown in {cite}`kassraie:24`, an optimal transport solver parameterized with a squared-Euclidean cost should match `x` to `y` exactly in that order. In other words, the optimal transport matrix should be the identity divided by `100k`, each image is optimally matched to its blurred counterpart."
   ]
  },
  {
   "cell_type": "code",
   "execution_count": 4,
   "id": "28b3c1ff",
   "metadata": {},
   "outputs": [
    {
     "data": {
      "image/png": "[encoded data removed]",
      "text/plain": [
       "<Figure size 800x500 with 2 Axes>"
      ]
     },
     "metadata": {},
     "output_type": "display_data"
    }
   ],
   "source": [
    "plt.figure(figsize=(8, 5))\n",
    "plt.subplot(1, 2, 1)\n",
    "plt.imshow(x[0].reshape((3, 32, 32)).transpose(1, 2, 0) / 2 + 0.5)\n",
    "plt.title(\"Input Image\")\n",
    "plt.subplot(1, 2, 2)\n",
    "plt.title(\"Blurred Image\")\n",
    "plt.imshow(y[0].reshape((3, 32, 32)).transpose(1, 2, 0) / 2 + 0.5)\n",
    "plt.show()"
   ]
  },
  {
   "cell_type": "markdown",
   "id": "5d46c58b",
   "metadata": {},
   "source": [
    "We run this notebook on a node of 8 GPUs (`A100`), as is revealed in this call."
   ]
  },
  {
   "cell_type": "code",
   "execution_count": 5,
   "id": "4ac4fd7a-f0fd-4fad-bf14-a5f5abfb3295",
   "metadata": {},
   "outputs": [
    {
     "data": {
      "text/plain": [
       "[CudaDevice(id=0),\n",
       " CudaDevice(id=1),\n",
       " CudaDevice(id=2),\n",
       " CudaDevice(id=3),\n",
       " CudaDevice(id=4),\n",
       " CudaDevice(id=5),\n",
       " CudaDevice(id=6),\n",
       " CudaDevice(id=7)]"
      ]
     },
     "execution_count": 5,
     "metadata": {},
     "output_type": "execute_result"
    }
   ],
   "source": [
    "jax.devices()"
   ]
  },
  {
   "cell_type": "markdown",
   "id": "901906f2",
   "metadata": {},
   "source": [
    "We introduce a simple convenience wrapper designed to shard the input point clouds `x` and `y` across 8 GPUs. A more advanced sharding across multiple nodes can be carried out if necessary."
   ]
  },
  {
   "cell_type": "code",
   "execution_count": 6,
   "id": "b7408a9c",
   "metadata": {},
   "outputs": [],
   "source": [
    "from jax.sharding import Mesh, NamedSharding\n",
    "from jax.sharding import PartitionSpec as P\n",
    "\n",
    "\n",
    "def shard_samples(x: jnp.ndarray) -> tuple[jnp.ndarray, NamedSharding]:\n",
    "    num_devices = jax.device_count()\n",
    "    devices = mesh_utils.create_device_mesh((num_devices,))\n",
    "    mesh = Mesh(devices, axis_names=(\"batch\",))\n",
    "    sharding = NamedSharding(mesh, P(\"batch\", None))\n",
    "\n",
    "    return jax.device_put(x, sharding), sharding"
   ]
  },
  {
   "cell_type": "markdown",
   "id": "3915d927",
   "metadata": {},
   "source": [
    "The inputs are both sharded, and we store that sharding information."
   ]
  },
  {
   "cell_type": "code",
   "execution_count": 7,
   "id": "ab2aca8d",
   "metadata": {},
   "outputs": [],
   "source": [
    "x_sharded, _ = shard_samples(x)\n",
    "y_sharded, sharding = shard_samples(y)"
   ]
  },
  {
   "cell_type": "markdown",
   "id": "331695a6",
   "metadata": {},
   "source": [
    "The `run` function is a wrapper around a {class}`~ott.solvers.linear.sinkhorn.Sinkhorn` solver. The `batch_size` parameter is unchanged, and set to `None` by default. This means that the full `100k x 100k` cost matrix will be materialized, and stored in blocks across multiple GPUs. If that `batch_size` argument is set to an integer, the cost matrix would be re-instantiated at each iteration, using blocks of `100k x batch_size`. Although the code below would still be able to run in the default setting, we advocate using a large batch size in practice.\n",
    "\n",
    "Note that we use the {class}`~ott.geometry.costs.Dotp` cost function to obtain better efficiency, as outlined in {cite}:`klein:25`."
   ]
  },
  {
   "cell_type": "code",
   "execution_count": 12,
   "id": "d9b54fdb",
   "metadata": {},
   "outputs": [],
   "source": [
    "# x, y, epsilon\n",
    "in_shardings = (sharding, sharding, None)\n",
    "\n",
    "\n",
    "@functools.partial(\n",
    "    jax.jit, static_argnames=(\"batch_size\",), in_shardings=in_shardings\n",
    ")\n",
    "def run(\n",
    "    x: jnp.ndarray,\n",
    "    y: jnp.ndarray,\n",
    "    epsilon: Optional[float] = None,\n",
    "    batch_size: Optional[int] = None,\n",
    ") -> sinkhorn.SinkhornOutput:\n",
    "    geom = pointcloud.PointCloud(\n",
    "        x,\n",
    "        y,\n",
    "        cost_fn=costs.Dotp(),\n",
    "        batch_size=batch_size,\n",
    "        epsilon=epsilon,\n",
    "        relative_epsilon=\"std\",\n",
    "    )\n",
    "    return linear.solve(geom)"
   ]
  },
  {
   "cell_type": "markdown",
   "id": "f651cd79",
   "metadata": {},
   "source": [
    "Since the expected optimal coupling should be `I_n/n`, we simply compute to what extent the output of the Sinkhorn algorithm resembles that matrix. We extract its diagonal and compute its sum (should be close to 1 when using a small `epsilon`), or alternatively its generalized KL to `1_n/n`. We carry out that computation over a grid of 10 `epsilon` values."
   ]
  },
  {
   "cell_type": "code",
   "execution_count": null,
   "id": "77dd54bd",
   "metadata": {
    "scrolled": true
   },
   "outputs": [],
   "source": [
    "n = x.shape[0]\n",
    "kls = []\n",
    "sums = []\n",
    "times = []\n",
    "norm_ents = []\n",
    "num_iters = []\n",
    "epsilons = 10 ** jnp.linspace(-1.5, 1, 10)  # Epsilon values from 1 to 100\n",
    "# Run the Sinkhorn solver with different epsilon values\n",
    "for epsilon in epsilons:\n",
    "    start = time.time()\n",
    "    out = run(x_sharded, y_sharded, epsilon, 25_000)\n",
    "    assert (\n",
    "        out.converged\n",
    "    ), f\"Sinkhorn did not converge in {out.n_iters} iterations\"\n",
    "    times.append(time.time() - start)\n",
    "    diag = out.diag\n",
    "    kls.append(utils.gen_kl(jnp.ones((n,)) / n, diag))\n",
    "    sums.append(jnp.sum(diag))\n",
    "    num_iters.append(out.n_iters)\n",
    "    norm_ents.append(out.normalized_entropy)"
   ]
  },
  {
   "cell_type": "markdown",
   "id": "374f8a7c",
   "metadata": {},
   "source": [
    "These results are summarized in plots below, displaying also running time, number of iterations and normalized entropy (as presented  as a function of `epsilon`."
   ]
  },
  {
   "cell_type": "code",
   "execution_count": null,
   "id": "a7435130",
   "metadata": {},
   "outputs": [],
   "source": [
    "ax_met = plt.subplot2grid((5, 1), (0, 0), rowspan=2)\n",
    "ax_times = plt.subplot2grid((5, 1), (2, 0), rowspan=2)\n",
    "ax_norment = plt.subplot2grid((5, 1), (4, 0))\n",
    "color = \"tab:red\"\n",
    "ax_met.set_ylabel(\"KL-Divergence\", color=color)\n",
    "ax_met.plot(epsilons, kls, color=color, marker=\"o\")\n",
    "\n",
    "ax2 = ax_met.twinx()\n",
    "color = \"tab:blue\"\n",
    "ax2.set_ylabel(\"Diagonal Sum\", color=color)\n",
    "ax2.plot(epsilons, sums, color=color, marker=\"x\")\n",
    "ax_met.set_xscale(\"log\")\n",
    "ax_met.set_yscale(\"log\")\n",
    "ax_met.set_title(\"KL Divergence / Sum oF Diagonal vs. Epsilon\")\n",
    "ax_met.grid(True)\n",
    "\n",
    "color = \"tab:red\"\n",
    "ax_times.plot(epsilons, times, marker=\"o\", color=color)\n",
    "ax3 = ax_times.twinx()\n",
    "color = \"tab:blue\"\n",
    "ax2.set_ylabel(\"Diagonal Sum\", color=color)\n",
    "ax2.plot(epsilons, num_iters, color=color, marker=\"d\")\n",
    "\n",
    "ax_times.set_ylabel(\"Time (seconds)\")\n",
    "ax_times.set_xscale(\"log\")\n",
    "ax_times.set_yscale(\"log\")\n",
    "ax_times.set_title(\"Time vs. Epsilon\")\n",
    "ax_times.grid(True)\n",
    "\n",
    "\n",
    "ax_norment.plot(epsilons, num_iters, marker=\"h\", color=color)\n",
    "ax_norment.set_xlabel(\"Epsilons\")\n",
    "ax_norment.set_ylabel(\"Normalized Entropy\")\n",
    "ax_norment.set_xscale(\"log\")\n",
    "ax_norment.set_yscale(\"log\")\n",
    "ax_norment.set_title(\"Normalized Entropy vs. Epsilon\")\n",
    "\n",
    "plt.tight_layout()"
   ]
  }
 ],
 "metadata": {
  "kernelspec": {
   "display_name": "py39",
   "language": "python",
   "name": "py39"
  },
  "language_info": {
   "codemirror_mode": {
    "name": "ipython",
    "version": 3
   },
   "file_extension": ".py",
   "mimetype": "text/x-python",
   "name": "python",
   "nbconvert_exporter": "python",
   "pygments_lexer": "ipython3",
   "version": "3.10.16"
  }
 },
 "nbformat": 4,
 "nbformat_minor": 5
}
