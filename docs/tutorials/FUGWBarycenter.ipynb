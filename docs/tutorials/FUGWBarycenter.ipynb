{
 "cells": [
  {
   "cell_type": "markdown",
   "metadata": {
    "id": "E_-S77MmiOou"
   },
   "source": [
    "# FUGW Barycenter"
   ]
  },
  {
   "cell_type": "code",
   "execution_count": 14,
   "metadata": {},
   "outputs": [],
   "source": [
    "import sys\n",
    "\n",
    "if \"google.colab\" in sys.modules:\n",
    "    !pip install -q git+https://github.com/ott-jax/ott@main"
   ]
  },
  {
   "cell_type": "code",
   "execution_count": 15,
   "metadata": {},
   "outputs": [],
   "source": [
    "import gdist\n",
    "from nilearn import datasets, image, plotting, surface\n",
    "\n",
    "import jax\n",
    "import jax.numpy as jnp\n",
    "import numpy as np\n",
    "\n",
    "import matplotlib as mpl\n",
    "import matplotlib.gridspec as gridspec\n",
    "import matplotlib.pyplot as plt\n",
    "\n",
    "from ott.geometry import pointcloud\n",
    "from ott.problems.quadratic import gw_barycenter as gwb\n",
    "from ott.solvers.quadratic import gw_barycenter as gwb_solver"
   ]
  },
  {
   "cell_type": "code",
   "execution_count": 25,
   "metadata": {},
   "outputs": [
    {
     "data": {
      "text/plain": [
       "['/Users/plbar/nilearn_data/brainomics_localizer/brainomics_data/S01/cmaps_VisualSentencesVsCheckerboard.nii.gz',\n",
       " '/Users/plbar/nilearn_data/brainomics_localizer/brainomics_data/S01/cmaps_AuditorySentences.nii.gz',\n",
       " '/Users/plbar/nilearn_data/brainomics_localizer/brainomics_data/S01/cmaps_Auditory&VisualCalculationVsSentences.nii.gz',\n",
       " '/Users/plbar/nilearn_data/brainomics_localizer/brainomics_data/S01/cmaps_LeftAuditory&VisualClickVsRightAuditory&VisualClick.nii.gz',\n",
       " '/Users/plbar/nilearn_data/brainomics_localizer/brainomics_data/S01/cmaps_Checkerboard.nii.gz',\n",
       " '/Users/plbar/nilearn_data/brainomics_localizer/brainomics_data/S02/cmaps_VisualSentencesVsCheckerboard.nii.gz',\n",
       " '/Users/plbar/nilearn_data/brainomics_localizer/brainomics_data/S02/cmaps_AuditorySentences.nii.gz',\n",
       " '/Users/plbar/nilearn_data/brainomics_localizer/brainomics_data/S02/cmaps_Auditory&VisualCalculationVsSentences.nii.gz',\n",
       " '/Users/plbar/nilearn_data/brainomics_localizer/brainomics_data/S02/cmaps_LeftAuditory&VisualClickVsRightAuditory&VisualClick.nii.gz',\n",
       " '/Users/plbar/nilearn_data/brainomics_localizer/brainomics_data/S02/cmaps_Checkerboard.nii.gz',\n",
       " '/Users/plbar/nilearn_data/brainomics_localizer/brainomics_data/S03/cmaps_VisualSentencesVsCheckerboard.nii.gz',\n",
       " '/Users/plbar/nilearn_data/brainomics_localizer/brainomics_data/S03/cmaps_AuditorySentences.nii.gz',\n",
       " '/Users/plbar/nilearn_data/brainomics_localizer/brainomics_data/S03/cmaps_Auditory&VisualCalculationVsSentences.nii.gz',\n",
       " '/Users/plbar/nilearn_data/brainomics_localizer/brainomics_data/S03/cmaps_LeftAuditory&VisualClickVsRightAuditory&VisualClick.nii.gz',\n",
       " '/Users/plbar/nilearn_data/brainomics_localizer/brainomics_data/S03/cmaps_Checkerboard.nii.gz',\n",
       " '/Users/plbar/nilearn_data/brainomics_localizer/brainomics_data/S04/cmaps_VisualSentencesVsCheckerboard.nii.gz',\n",
       " '/Users/plbar/nilearn_data/brainomics_localizer/brainomics_data/S04/cmaps_AuditorySentences.nii.gz',\n",
       " '/Users/plbar/nilearn_data/brainomics_localizer/brainomics_data/S04/cmaps_Auditory&VisualCalculationVsSentences.nii.gz',\n",
       " '/Users/plbar/nilearn_data/brainomics_localizer/brainomics_data/S04/cmaps_LeftAuditory&VisualClickVsRightAuditory&VisualClick.nii.gz',\n",
       " '/Users/plbar/nilearn_data/brainomics_localizer/brainomics_data/S04/cmaps_Checkerboard.nii.gz']"
      ]
     },
     "execution_count": 25,
     "metadata": {},
     "output_type": "execute_result"
    }
   ],
   "source": [
    "n_subjects = 4\n",
    "\n",
    "contrasts = [\n",
    "    \"sentence reading vs checkerboard\",\n",
    "    \"sentence listening\",\n",
    "    \"calculation vs sentences\",\n",
    "    \"left vs right button press\",\n",
    "    \"checkerboard\",\n",
    "]\n",
    "\n",
    "\n",
    "brain_data = datasets.fetch_localizer_contrasts(\n",
    "    contrasts,\n",
    "    n_subjects=n_subjects,\n",
    "    get_anats=True,\n",
    ")\n",
    "\n",
    "subjects_ = []\n",
    "for i in range(n_subjects):\n",
    "    sub"
   ]
  },
  {
   "cell_type": "code",
   "execution_count": 17,
   "metadata": {},
   "outputs": [],
   "source": [
    "fsaverage3 = datasets.fetch_surf_fsaverage(mesh=\"fsaverage3\")\n",
    "\n",
    "\n",
    "def load_images_and_project_to_surface(image_paths):\n",
    "    \"\"\"Util function for loading and projecting volumetric images.\"\"\"\n",
    "    images = [image.load_img(img) for img in image_paths]\n",
    "    surface_images = [\n",
    "        np.nan_to_num(surface.vol_to_surf(img, fsaverage3.pial_left))\n",
    "        for img in images\n",
    "    ]\n",
    "\n",
    "    return np.stack(surface_images)"
   ]
  },
  {
   "cell_type": "code",
   "execution_count": 18,
   "metadata": {},
   "outputs": [
    {
     "data": {
      "text/plain": [
       "(642, 642)"
      ]
     },
     "execution_count": 18,
     "metadata": {},
     "output_type": "execute_result"
    }
   ],
   "source": [
    "def compute_geometry_from_mesh(mesh_path):\n",
    "    \"\"\"Util function to compute matrix of geodesic distances of a mesh.\"\"\"\n",
    "    (coordinates, triangles) = surface.load_surf_mesh(mesh_path)\n",
    "    geometry = gdist.local_gdist_matrix(\n",
    "        coordinates.astype(np.float64), triangles.astype(np.int32)\n",
    "    ).toarray()\n",
    "    return geometry\n",
    "\n",
    "\n",
    "fsaverage3_pial_left_geometry = compute_geometry_from_mesh(fsaverage3.pial_left)\n",
    "source_geometry = fsaverage3_pial_left_geometry\n",
    "target_geometry = fsaverage3_pial_left_geometry\n",
    "source_geometry.shape"
   ]
  },
  {
   "cell_type": "code",
   "execution_count": 19,
   "metadata": {},
   "outputs": [],
   "source": [
    "ndim = 3\n",
    "ndim_f = 4\n",
    "bar_size = 10\n",
    "num_per_segment = (7, 12)\n",
    "epsilon = 1.0\n",
    "tau_a = 0.75\n",
    "tau_b = 0.75\n",
    "\n",
    "rng = jax.random.PRNGKey(0)\n",
    "\n",
    "\n",
    "def random_pc(\n",
    "    n: int, d: int, rng: jax.Array, m: int = None\n",
    ") -> pointcloud.PointCloud:\n",
    "    rng1, rng2 = jax.random.split(rng, 2)\n",
    "    x = jax.random.normal(rng1, (n, d))\n",
    "    y = x if m is None else jax.random.normal(rng2, (m, d))\n",
    "    return pointcloud.PointCloud(x, y)\n",
    "\n",
    "\n",
    "rng1, *rngs = jax.random.split(rng, len(num_per_segment) + 1)\n",
    "y = jnp.concatenate(\n",
    "    [random_pc(n, d=ndim_f, rng=rng).x for n, rng in zip(num_per_segment, rngs)]\n",
    ")\n",
    "rngs = jax.random.split(rng1, len(num_per_segment))\n",
    "y_fused = jnp.concatenate(\n",
    "    [random_pc(n, d=ndim_f, rng=rng).x for n, rng in zip(num_per_segment, rngs)]\n",
    ")"
   ]
  },
  {
   "cell_type": "code",
   "execution_count": 20,
   "metadata": {},
   "outputs": [],
   "source": [
    "prob = gwb.GWBarycenterProblem(\n",
    "    y=y,\n",
    "    y_fused=y_fused,\n",
    "    num_per_segment=num_per_segment,\n",
    "    fused_penalty=1.0,\n",
    "    scale_cost=\"max_cost\",\n",
    "    tau_a=tau_a,\n",
    "    tau_b=tau_b,\n",
    "    gw_unbalanced_correction=True,\n",
    ")"
   ]
  },
  {
   "cell_type": "code",
   "execution_count": 21,
   "metadata": {},
   "outputs": [],
   "source": [
    "solver = gwb_solver.GromovWassersteinBarycenter(\n",
    "    store_inner_errors=True, epsilon=epsilon\n",
    ")\n",
    "\n",
    "x_init = jax.random.normal(rng, (bar_size, ndim_f))\n",
    "cost_init = pointcloud.PointCloud(x_init).cost_matrix\n",
    "\n",
    "fugw = solver(prob, bar_size=bar_size, bar_init=(cost_init, x_init))"
   ]
  },
  {
   "cell_type": "code",
   "execution_count": 22,
   "metadata": {},
   "outputs": [
    {
     "data": {
      "text/plain": [
       "(10, 4)"
      ]
     },
     "execution_count": 22,
     "metadata": {},
     "output_type": "execute_result"
    }
   ],
   "source": [
    "fugw.x.shape"
   ]
  }
 ],
 "metadata": {
  "colab": {
   "collapsed_sections": [],
   "last_runtime": {
    "build_target": "//learning/deepmind/public/tools/ml_python:ml_notebook",
    "kind": "private"
   },
   "name": "GWLRSinkhorn.ipynb",
   "provenance": [
    {
     "file_id": "1AYbnnVVudg2LCcmepy2CL8g00EzOx4Jx",
     "timestamp": 1642072748057
    }
   ]
  },
  "kernelspec": {
   "display_name": "Python 3",
   "language": "python",
   "name": "python3"
  },
  "language_info": {
   "codemirror_mode": {
    "name": "ipython",
    "version": 3
   },
   "file_extension": ".py",
   "mimetype": "text/x-python",
   "name": "python",
   "nbconvert_exporter": "python",
   "pygments_lexer": "ipython3",
   "version": "3.11.9"
  }
 },
 "nbformat": 4,
 "nbformat_minor": 1
}
