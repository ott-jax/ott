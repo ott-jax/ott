{
 "cells": [
  {
   "cell_type": "markdown",
   "id": "de2405cc",
   "metadata": {},
   "source": [
    "# Getting Started : Optimal Transport Between Two Datasets\n",
    "\n",
    "This tutorial covers the most basic use of the `ott` toolbox:\n",
    "\n",
    "- Compute the optimal transport between two point clouds using the {class}`~ott.solvers.linear.sinkhorn.Sinkhorn` algorithm. \n",
    "- Use the seamless integration with `jax` to differentiate through this operation."
   ]
  },
  {
   "cell_type": "markdown",
   "id": "e023f962",
   "metadata": {},
   "source": [
    "## Imports and toy data definition\n",
    "\n",
    "`ott` is built on top of `jax`, so we use `jax` to define all the variables of the problem."
   ]
  },
  {
   "cell_type": "code",
   "execution_count": null,
   "id": "09ea40f5",
   "metadata": {},
   "outputs": [],
   "source": [
    "import jax\n",
    "import jax.numpy as jnp"
   ]
  },
  {
   "cell_type": "markdown",
   "id": "48ceb929",
   "metadata": {},
   "source": [
    "We also import `matplotlib` to plot the results."
   ]
  },
  {
   "cell_type": "code",
   "execution_count": null,
   "id": "2917f0ef",
   "metadata": {},
   "outputs": [],
   "source": [
    "import matplotlib as mpl\n",
    "import matplotlib.pyplot as plt\n",
    "from matplotlib import cycler\n",
    "\n",
    "mpl.rcParams[\"axes.prop_cycle\"] = cycler(\n",
    "    color=[\n",
    "        \"#377eb8\",\n",
    "        \"#ff7f00\",\n",
    "        \"#4daf4a\",\n",
    "        \"#f781bf\",\n",
    "        \"#a65628\",\n",
    "        \"#984ea3\",\n",
    "        \"#999999\",\n",
    "        \"#e41a1c\",\n",
    "        \"#dede00\",\n",
    "    ]\n",
    ")  # colorblind friendly cycle from https://gist.github.com/thriveth/8560036"
   ]
  },
  {
   "cell_type": "markdown",
   "id": "7d97950d",
   "metadata": {},
   "source": [
    "We define a toy function and use it to generate two datasets of points, `X_target` and `X_source`:"
   ]
  },
  {
   "cell_type": "code",
   "execution_count": null,
   "id": "06e772a6",
   "metadata": {
    "scrolled": true
   },
   "outputs": [],
   "source": [
    "def create_points(rng, n_samples_source, n_samples_target, n_features):\n",
    "    rngs = jax.random.split(rng, 2)\n",
    "    X_source = jax.random.uniform(rngs[1], (n_samples_source, n_features))\n",
    "    X_target = jax.random.normal(rngs[0], (n_samples_target, n_features)) + 1.0\n",
    "    return X_source, X_target\n",
    "\n",
    "\n",
    "rng = jax.random.PRNGKey(0)\n",
    "n_samples_source, n_samples_target, n_features = 13, 20, 2\n",
    "X_source, X_target = create_points(\n",
    "    rng, n_samples_source, n_samples_target, n_features\n",
    ")\n",
    "\n",
    "plt.scatter(X_source[:, 0], X_source[:, 1], label=\"source\")\n",
    "plt.scatter(X_target[:, 0], X_target[:, 1], label=\"target\", marker=\"x\")\n",
    "plt.legend()"
   ]
  },
  {
   "cell_type": "markdown",
   "id": "0e696ec1",
   "metadata": {},
   "source": [
    "## Optimal transport with OTT"
   ]
  },
  {
   "cell_type": "markdown",
   "id": "388c2e46",
   "metadata": {},
   "source": [
    "We will now use `ott` to compute the optimal transport between `X_target` and `X_source`. To do so, we first create a `geometry` object that defines the geometry between the two point clouds:"
   ]
  },
  {
   "cell_type": "code",
   "execution_count": null,
   "id": "7a84b9a7",
   "metadata": {},
   "outputs": [],
   "source": [
    "from ott.geometry import pointcloud\n",
    "\n",
    "geometry = pointcloud.PointCloud(X_target, X_source)"
   ]
  },
  {
   "cell_type": "markdown",
   "id": "aafe996a",
   "metadata": {},
   "source": [
    "`geometry` contains the two datasets `X_target` and `X_source`, as well as a `cost_fn` that is a way to measure distances between points. Here, we use the default settings, so the `cost_fn` is {class}`~ott.geometry.costs.SqEuclidean`, the standard squared Euclidean distance.\n",
    "\n",
    "In order to compute the optimal transport corresponding to this `geometry`, we use the Sinkhorn algorithm. The Sinkhorn algorithm has an hyperparameter `epsilon` that controls the amount of regularization. It is stored in `geometry`, and by default it is 1/20th of the mean cost value."
   ]
  },
  {
   "cell_type": "code",
   "execution_count": null,
   "id": "8e967b17",
   "metadata": {},
   "outputs": [],
   "source": [
    "from ott.solvers.linear import sinkhorn\n",
    "\n",
    "ot = sinkhorn.solve(geometry)"
   ]
  },
  {
   "cell_type": "markdown",
   "id": "7a62ae43",
   "metadata": {},
   "source": [
    "As a small note: the computations here are *jitted*, meaning that the second time the solver is run it will be much faster:"
   ]
  },
  {
   "cell_type": "code",
   "execution_count": null,
   "id": "53de5494",
   "metadata": {},
   "outputs": [],
   "source": [
    "ot = sinkhorn.solve(geometry)"
   ]
  },
  {
   "cell_type": "markdown",
   "id": "bd078587",
   "metadata": {},
   "source": [
    "This object `ot` contains all the information about the solution of the optimal transport problems, including the transport plan matrix that indicates how much of the mass of the point `X_target[i]` is moved towards `X_source[j]`."
   ]
  },
  {
   "cell_type": "code",
   "execution_count": null,
   "id": "4d1d9c65",
   "metadata": {
    "scrolled": false
   },
   "outputs": [],
   "source": [
    "plt.imshow(ot.matrix)\n",
    "plt.colorbar()"
   ]
  },
  {
   "cell_type": "markdown",
   "id": "222f5e56",
   "metadata": {},
   "source": [
    "## Seamless integration in JAX automatic differentiation pipelines\n",
    "\n",
    "We finish this quick tour by illustrating one of the most interesting feature of `ott`: it can be plugged easily into differentiable pipelines built in `jax`, like neural networks.\n",
    "\n",
    "We demonstrate this by differentiating the loss of optimal transport with respect to the input dataset.\n",
    "\n",
    "To do so, we simply define a function that takes `X_source` as input and outputs the loss:"
   ]
  },
  {
   "cell_type": "code",
   "execution_count": null,
   "id": "f31d98b6",
   "metadata": {},
   "outputs": [],
   "source": [
    "def cost_from_source(X_source):\n",
    "    geometry = pointcloud.PointCloud(X_target, X_source)\n",
    "    ot = sinkhorn.solve(geometry)\n",
    "    return ot.reg_ot_cost\n",
    "\n",
    "\n",
    "cost_from_source(X_source)"
   ]
  },
  {
   "cell_type": "markdown",
   "id": "4aff5c21",
   "metadata": {},
   "source": [
    "The gradient of this function is obtained as usual with `jax`:"
   ]
  },
  {
   "cell_type": "code",
   "execution_count": null,
   "id": "f673a9b8",
   "metadata": {
    "scrolled": true
   },
   "outputs": [],
   "source": [
    "gradient_function = jax.grad(cost_from_source)\n",
    "gradient = gradient_function(X_source)"
   ]
  },
  {
   "cell_type": "markdown",
   "id": "915fa745",
   "metadata": {},
   "source": [
    "This gradient defines a direction for each sample in `X_source`, and following the opposite of this direction leads to a decrease in the primal cost: it pushes `X_source` closer to `X_target`."
   ]
  },
  {
   "cell_type": "code",
   "execution_count": null,
   "id": "37e61ebc",
   "metadata": {},
   "outputs": [],
   "source": [
    "plt.scatter(X_source[:, 0], X_source[:, 1], label=\"source\")\n",
    "plt.quiver(X_source[:, 0], X_source[:, 1], -gradient[:, 0], -gradient[:, 1])\n",
    "plt.scatter(X_target[:, 0], X_target[:, 1], label=\"target\", marker=\"x\")\n",
    "plt.legend()"
   ]
  },
  {
   "cell_type": "markdown",
   "id": "821e0981",
   "metadata": {},
   "source": [
    "For instance, this gradient can be used to update the dataset `X_source` to make it go towards `X_target`:"
   ]
  },
  {
   "cell_type": "code",
   "execution_count": null,
   "id": "da27de91",
   "metadata": {},
   "outputs": [],
   "source": [
    "step_size = 2.0\n",
    "\n",
    "f, axes = plt.subplots(1, 4, sharey=True, sharex=True, figsize=(12, 3))\n",
    "for iteration, axe in enumerate(axes):\n",
    "    gradient = gradient_function(X_source)\n",
    "    axe.scatter(X_source[:, 0], X_source[:, 1], label=f\"source\")\n",
    "    axe.quiver(X_source[:, 0], X_source[:, 1], -gradient[:, 0], -gradient[:, 1])\n",
    "    axe.scatter(X_target[:, 0], X_target[:, 1], label=\"target\", marker=\"x\")\n",
    "    axe.set_title(f\"iteration {iteration}\")\n",
    "    X_source -= step_size * gradient\n"
   ]
  }
 ],
 "metadata": {
  "kernelspec": {
   "display_name": "Python 3 (ipykernel)",
   "language": "python",
   "name": "python3"
  },
  "language_info": {
   "codemirror_mode": {
    "name": "ipython",
    "version": 3
   },
   "file_extension": ".py",
   "mimetype": "text/x-python",
   "name": "python",
   "nbconvert_exporter": "python",
   "pygments_lexer": "ipython3",
   "version": "3.9.12"
  }
 },
 "nbformat": 4,
 "nbformat_minor": 5
}
