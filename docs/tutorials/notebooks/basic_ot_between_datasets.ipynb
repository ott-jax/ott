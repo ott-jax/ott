{
 "cells": [
  {
   "cell_type": "markdown",
   "id": "de2405cc",
   "metadata": {},
   "source": [
    "# Getting Started : Optimal Transport Between Two Datasets\n",
    "\n",
    "This tutorial covers the most basic use of the `ott` toolbox:\n",
    "\n",
    "- Compute the optimal transport between two point clouds using the {class}`~ott.solvers.linear.sinkhorn.Sinkhorn` algorithm. \n",
    "- Use the seamless integration with `jax` to differentiate through this operation."
   ]
  },
  {
   "cell_type": "markdown",
   "id": "e023f962",
   "metadata": {},
   "source": [
    "## Imports and toy data definition\n",
    "\n",
    "`ott` is built on top of `jax`, so we use `jax` to define all the variables of the problem."
   ]
  },
  {
   "cell_type": "code",
   "execution_count": 1,
   "id": "09ea40f5",
   "metadata": {},
   "outputs": [],
   "source": [
    "import jax\n",
    "import jax.numpy as jnp"
   ]
  },
  {
   "cell_type": "markdown",
   "id": "48ceb929",
   "metadata": {},
   "source": [
    "We also import `matplotlib` to plot the results."
   ]
  },
  {
   "cell_type": "code",
   "execution_count": 2,
   "id": "2917f0ef",
   "metadata": {},
   "outputs": [],
   "source": [
    "import matplotlib.pyplot as plt"
   ]
  },
  {
   "cell_type": "markdown",
   "id": "7d97950d",
   "metadata": {},
   "source": [
    "We define a toy function and use it to generate two datasets of points, `x` and `y`:"
   ]
  },
  {
   "cell_type": "code",
   "execution_count": 3,
   "id": "06e772a6",
   "metadata": {
    "scrolled": true
   },
   "outputs": [
    {
     "data": {
      "text/plain": [
       "<matplotlib.legend.Legend at 0x146caed60>"
      ]
     },
     "execution_count": 3,
     "metadata": {},
     "output_type": "execute_result"
    },
    {
     "data": {
      "image/png": "[encoded data removed]",
      "text/plain": [
       "<Figure size 432x288 with 1 Axes>"
      ]
     },
     "metadata": {
      "needs_background": "light"
     },
     "output_type": "display_data"
    }
   ],
   "source": [
    "def create_points(rng, n_samples_x, n_samples_y, n_features):\n",
    "    rngs = jax.random.split(rng, 3)\n",
    "    x = jax.random.normal(rngs[0], (n_samples_x, n_features)) + 1\n",
    "    y = jax.random.uniform(rngs[1], (n_samples_y, n_features))\n",
    "    return x, y\n",
    "\n",
    "\n",
    "rng = jax.random.PRNGKey(0)\n",
    "n_samples_x, n_samples_y, n_features = 13, 17, 2\n",
    "x, y = create_points(rng, n_samples_x, n_samples_y, n_features)\n",
    "\n",
    "plt.scatter(x[:, 0], x[:, 1], label=\"x\")\n",
    "plt.scatter(y[:, 0], y[:, 1], label=\"y\")\n",
    "plt.legend()"
   ]
  },
  {
   "cell_type": "markdown",
   "id": "0e696ec1",
   "metadata": {},
   "source": [
    "## Optimal transport with OTT"
   ]
  },
  {
   "cell_type": "markdown",
   "id": "388c2e46",
   "metadata": {},
   "source": [
    "We will now use `ott` to compute the optimal transport between `x` and `y`. To do so, we first create a `geometry` object that defines the geometry between the two point clouds:"
   ]
  },
  {
   "cell_type": "code",
   "execution_count": 4,
   "id": "7a84b9a7",
   "metadata": {},
   "outputs": [],
   "source": [
    "from ott.geometry import pointcloud\n",
    "\n",
    "geometry = pointcloud.PointCloud(x, y)"
   ]
  },
  {
   "cell_type": "markdown",
   "id": "aafe996a",
   "metadata": {},
   "source": [
    "`geometry` contains the two datasets `x` and `y`, as well as a `cost_fn` that is a way to measure distances between points. Here, we use the default settings, so the `cost_fn` is {class}`~ott.geometry.costs.SqEuclidean`, the standard Euclidean distance.\n",
    "\n",
    "In order to compute the optimal transport corresponding to this `geometry`, we use the Sinkhorn algorithm. The Sinkhorn algorithm has an hyperparameter `epsilon` that controls the amount of regularization. It is stored in `geometry`, and by default it is 1/20th of the mean cost value."
   ]
  },
  {
   "cell_type": "code",
   "execution_count": 5,
   "id": "8e967b17",
   "metadata": {},
   "outputs": [],
   "source": [
    "from ott.solvers.linear import sinkhorn\n",
    "\n",
    "ot = sinkhorn.solve(geometry)"
   ]
  },
  {
   "cell_type": "markdown",
   "id": "7a62ae43",
   "metadata": {},
   "source": [
    "As a small note: the computations here are *jitted*, meaning that the second time the solver is run it will be much faster:"
   ]
  },
  {
   "cell_type": "code",
   "execution_count": 6,
   "id": "53de5494",
   "metadata": {},
   "outputs": [],
   "source": [
    "ot = sinkhorn.solve(geometry)"
   ]
  },
  {
   "cell_type": "markdown",
   "id": "bd078587",
   "metadata": {},
   "source": [
    "This object `ot` contains all the information about the solution of the optimal transport problems, including the transport plan matrix that indicates how much of the mass of the point `x[i]` is moved towards `y[j]`."
   ]
  },
  {
   "cell_type": "code",
   "execution_count": 7,
   "id": "4d1d9c65",
   "metadata": {
    "scrolled": false
   },
   "outputs": [
    {
     "data": {
      "text/plain": [
       "<matplotlib.colorbar.Colorbar at 0x16c0eec10>"
      ]
     },
     "execution_count": 7,
     "metadata": {},
     "output_type": "execute_result"
    },
    {
     "data": {
      "image/png": "[encoded data removed]",
      "text/plain": [
       "<Figure size 432x288 with 2 Axes>"
      ]
     },
     "metadata": {
      "needs_background": "light"
     },
     "output_type": "display_data"
    }
   ],
   "source": [
    "plt.imshow(ot.matrix)\n",
    "plt.colorbar()"
   ]
  },
  {
   "cell_type": "markdown",
   "id": "222f5e56",
   "metadata": {},
   "source": [
    "## Seamless integration in JAX automatic differentiation pipelines\n",
    "\n",
    "We finish this quick tour by illustrating one of the most interesting feature of `ott`: it can be plugged easily into differentiable pipelines built in `jax`, like neural networks.\n",
    "\n",
    "We demonstrate this by differentiating the primal loss of optimal transport with respect to the input dataset.\n",
    "\n",
    "To do so, we simply define a function that takes `y` as input and outputs the loss:"
   ]
  },
  {
   "cell_type": "code",
   "execution_count": 8,
   "id": "f31d98b6",
   "metadata": {},
   "outputs": [
    {
     "data": {
      "text/plain": [
       "DeviceArray(1.2848568, dtype=float32)"
      ]
     },
     "execution_count": 8,
     "metadata": {},
     "output_type": "execute_result"
    }
   ],
   "source": [
    "def primal_cost_from_y(y):\n",
    "    geometry = pointcloud.PointCloud(x, y)\n",
    "    ot = sinkhorn.solve(geometry)\n",
    "    return ot.primal_cost\n",
    "\n",
    "\n",
    "primal_cost_from_y(y)"
   ]
  },
  {
   "cell_type": "markdown",
   "id": "4aff5c21",
   "metadata": {},
   "source": [
    "The gradient of this function is obtained as usual with `jax`:"
   ]
  },
  {
   "cell_type": "code",
   "execution_count": 9,
   "id": "f673a9b8",
   "metadata": {
    "scrolled": true
   },
   "outputs": [],
   "source": [
    "gradient_function = jax.grad(primal_cost_from_y)\n",
    "gradients = gradient_function(y)"
   ]
  },
  {
   "cell_type": "markdown",
   "id": "915fa745",
   "metadata": {},
   "source": [
    "This gradient defines a direction for each sample in `y`, and following the opposite of this direction leads to a decrease in the primal cost: it pushes `y` closer to `x`."
   ]
  },
  {
   "cell_type": "code",
   "execution_count": 10,
   "id": "37e61ebc",
   "metadata": {},
   "outputs": [
    {
     "data": {
      "text/plain": [
       "<matplotlib.legend.Legend at 0x1775615e0>"
      ]
     },
     "execution_count": 10,
     "metadata": {},
     "output_type": "execute_result"
    },
    {
     "data": {
      "image/png": "[encoded data removed]",
      "text/plain": [
       "<Figure size 432x288 with 1 Axes>"
      ]
     },
     "metadata": {
      "needs_background": "light"
     },
     "output_type": "display_data"
    }
   ],
   "source": [
    "plt.scatter(x[:, 0], x[:, 1], label=\"x\")\n",
    "plt.scatter(y[:, 0], y[:, 1], label=\"y\")\n",
    "plt.quiver(y[:, 0], y[:, 1], -gradients[:, 0], -gradients[:, 0])\n",
    "plt.legend()"
   ]
  },
  {
   "cell_type": "markdown",
   "id": "821e0981",
   "metadata": {},
   "source": [
    "For instance, this gradient can be used to update the dataset `y` to make it go towards `x`:"
   ]
  },
  {
   "cell_type": "code",
   "execution_count": 11,
   "id": "da27de91",
   "metadata": {},
   "outputs": [
    {
     "data": {
      "text/plain": [
       "<matplotlib.legend.Legend at 0x177887400>"
      ]
     },
     "execution_count": 11,
     "metadata": {},
     "output_type": "execute_result"
    },
    {
     "data": {
      "image/png": "[encoded data removed]",
      "text/plain": [
       "<Figure size 432x288 with 1 Axes>"
      ]
     },
     "metadata": {
      "needs_background": "light"
     },
     "output_type": "display_data"
    }
   ],
   "source": [
    "step_size = 2.0\n",
    "\n",
    "plt.scatter(x[:, 0], x[:, 1], label=\"x\")\n",
    "for i in range(3):\n",
    "    plt.scatter(y[:, 0], y[:, 1], label=f\"y, iteration {i}\")\n",
    "    y -= step_size * gradient_function(y)\n",
    "plt.legend()"
   ]
  }
 ],
 "metadata": {
  "kernelspec": {
   "display_name": "Python 3 (ipykernel)",
   "language": "python",
   "name": "python3"
  },
  "language_info": {
   "codemirror_mode": {
    "name": "ipython",
    "version": 3
   },
   "file_extension": ".py",
   "mimetype": "text/x-python",
   "name": "python",
   "nbconvert_exporter": "python",
   "pygments_lexer": "ipython3",
   "version": "3.9.12"
  }
 },
 "nbformat": 4,
 "nbformat_minor": 5
}
