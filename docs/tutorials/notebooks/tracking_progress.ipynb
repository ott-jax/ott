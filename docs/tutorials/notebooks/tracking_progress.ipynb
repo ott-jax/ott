{
 "cells": [
  {
   "cell_type": "markdown",
   "id": "d9ee0ff0-e502-4809-a553-caf3d17ddb7e",
   "metadata": {
    "tags": []
   },
   "source": [
    "# Tracking progress in Sinkhorn and Low-Rank Sinkhorn\n",
    "\n",
    "This tutorial shows how to track progress and errors during iterations of {class}`~ott.solvers.linear.sinkhorn.Sinkhorn` and {class}`~ott.solvers.linear.sinkhorn_lr.LRSinkhorn` algorithms.\n",
    "\n",
    "We use the same basic example as in the {doc}`basic_ot_between_datasets` notebook."
   ]
  },
  {
   "cell_type": "markdown",
   "id": "46ebff53-e738-44ea-9cc7-173d560f6a75",
   "metadata": {},
   "source": [
    "## Without tracking (default behavior)\n",
    "\n",
    "Let's recap the basic example we use in this notebook:"
   ]
  },
  {
   "cell_type": "code",
   "execution_count": 1,
   "id": "d7ea0e9d-f518-4798-90d0-062776b4ac5d",
   "metadata": {},
   "outputs": [],
   "source": [
    "import sys\n",
    "\n",
    "if \"google.colab\" in sys.modules:\n",
    "    %pip install -q git+https://github.com/ott-jax/ott@main\n",
    "    %pip install -q tqdm"
   ]
  },
  {
   "cell_type": "code",
   "execution_count": 2,
   "id": "9dca5e59-5c90-4cf2-ae19-7043f68ebc66",
   "metadata": {},
   "outputs": [],
   "source": [
    "from tqdm import tqdm\n",
    "\n",
    "import jax\n",
    "import jax.numpy as jnp\n",
    "import numpy as np\n",
    "\n",
    "import matplotlib.pyplot as plt\n",
    "\n",
    "from ott import utils\n",
    "from ott.geometry import pointcloud\n",
    "from ott.problems.linear import linear_problem\n",
    "from ott.solvers.linear import sinkhorn, sinkhorn_lr"
   ]
  },
  {
   "cell_type": "code",
   "execution_count": 3,
   "id": "334d6131-e52c-489b-9aa5-4a4c0d8c462c",
   "metadata": {},
   "outputs": [],
   "source": [
    "rngs = jax.random.split(jax.random.PRNGKey(0), 2)\n",
    "d, n_x, n_y = 2, 7, 11\n",
    "x = jax.random.normal(rngs[0], (n_x, d))\n",
    "y = jax.random.normal(rngs[1], (n_y, d)) + 0.5"
   ]
  },
  {
   "cell_type": "code",
   "execution_count": 4,
   "id": "d64f5e0c-9053-4364-bed3-aff2ca7c6018",
   "metadata": {},
   "outputs": [],
   "source": [
    "geom = pointcloud.PointCloud(x, y)"
   ]
  },
  {
   "cell_type": "markdown",
   "id": "a7583315-7340-4d0f-95b5-3a2c0398bce3",
   "metadata": {},
   "source": [
    "This problem is very simple, so the {class}`~ott.solvers.linear.sinkhorn.Sinkhorn` solver converges after only 7 iterations. The solver would otherwise keep iterating for 200 steps (default value)."
   ]
  },
  {
   "cell_type": "code",
   "execution_count": 5,
   "id": "03fce59f-1435-400f-a463-6576f5979260",
   "metadata": {},
   "outputs": [
    {
     "name": "stdout",
     "output_type": "stream",
     "text": [
      "has converged: True, #iters: 7, cost: 1.2429015636444092\n"
     ]
    }
   ],
   "source": [
    "solve_fn = jax.jit(sinkhorn.solve)\n",
    "ot = solve_fn(geom)\n",
    "\n",
    "print(\n",
    "    f\"has converged: {ot.converged}, #iters: {ot.n_iters}, cost: {ot.reg_ot_cost}\"\n",
    ")"
   ]
  },
  {
   "cell_type": "markdown",
   "id": "e0fb44c5-a0d2-43ce-8b69-a82e84768dab",
   "metadata": {},
   "source": [
    "Obviously, not tracking progress (the default) is fine.However when tackling larger problems, we will probably want to track the various metrics that the Sinkhorn algorithm updates at each iteration.\n",
    "\n",
    "In the next sections, we show how to track progress for that same example."
   ]
  },
  {
   "cell_type": "markdown",
   "id": "8b551db9-f308-4540-a57f-0d4c74d48feb",
   "metadata": {},
   "source": [
    "## How to track progress\n",
    "\n",
    "{mod}`ott` offers a simple and flexible mechanism that works well with {func}`~jax.jit`, and applies to both the functional interface and the class interface.\n",
    "\n",
    "The {class}`~ott.solvers.linear.sinkhorn.Sinkhorn` and low-rank Sinkhorn {class}`ott.solvers.linear.sinkhorn_lr.LRSinkhorn` solver implementations only report progress if we pass a callback function (with some specific signature) to its initializer. This callback is called at each iteration."
   ]
  },
  {
   "cell_type": "markdown",
   "id": "f74f472b-12a3-49ad-9d81-8431674f512e",
   "metadata": {},
   "source": [
    "### Callback function signature\n",
    "\n",
    "The required signature of the callback function is: `(status: Tuple[ndarray, ndarray, ndarray, NamedTuple], args: Any) -> None`.\n",
    "\n",
    "The arguments are:\n",
    "\n",
    "- status: a tuple of:\n",
    "  - the current iteration index (0-based)\n",
    "  - the number of inner iterations after which the error is computed\n",
    "  - the total number of iterations\n",
    "  - the current {class}`~ott.solvers.linear.sinkhorn.SinkhornState` or {class}`~ott.solvers.linear.sinkhorn_lr.LRSinkhornState`. For technical reasons, the type of this argument in the signature is simply {class}`~typing.NamedTuple` (the common super-type).\n",
    "\n",
    "-  args: unused, see {mod}`jax.experimental.host_callback`.\n",
    "\n",
    "Note:\n",
    "\n",
    "- Above, the {class}`~numpy.ndarray` types are required by the underlying mechanism {mod}`~jax.experimental.host_callback`, but their arguments simply contain one integer value and can be safely cast."
   ]
  },
  {
   "cell_type": "markdown",
   "id": "cfaa93d7-728d-4995-b625-5bdd682af4de",
   "metadata": {},
   "source": [
    "## Examples\n",
    "\n",
    "Here are a few examples of how to track progress for Sinkhorn and low-rank Sinkhorn."
   ]
  },
  {
   "cell_type": "markdown",
   "id": "dd179a46-7772-4656-a837-411667e8c26c",
   "metadata": {},
   "source": [
    "### Tracking progress for Sinkhorn via the functional interface"
   ]
  },
  {
   "cell_type": "markdown",
   "id": "6732bf21-a0c3-47eb-bb5d-0111724340aa",
   "metadata": {},
   "source": [
    "#### With the basic callback function\n",
    "\n",
    "\n",
    "{mod}`ott` provides a basic callback function: {func}`~ott.utils.default_progress_fn` that we can use directly (it simply prints iteration and error to the console). It can also serve as a basis for customizations.\n",
    "\n",
    "Here, we simply pass that basic callback as a static argument:"
   ]
  },
  {
   "cell_type": "code",
   "execution_count": 6,
   "id": "b031225b-5c6a-4a00-a567-d336a80a66c9",
   "metadata": {},
   "outputs": [
    {
     "name": "stdout",
     "output_type": "stream",
     "text": [
      "10 / 2000 -- 0.049124784767627716\n",
      "20 / 2000 -- 0.019962385296821594\n",
      "30 / 2000 -- 0.00910455733537674\n",
      "40 / 2000 -- 0.004339158535003662\n",
      "50 / 2000 -- 0.002111591398715973\n",
      "60 / 2000 -- 0.001037590205669403\n",
      "70 / 2000 -- 0.0005124583840370178\n",
      "has converged: True, #iters: 7, cost: 1.2429015636444092\n"
     ]
    }
   ],
   "source": [
    "solve_fn = jax.jit(sinkhorn.solve, static_argnames=[\"progress_fn\"])\n",
    "ot = solve_fn(geom, a=None, b=None, progress_fn=utils.default_progress_fn)\n",
    "\n",
    "print(\n",
    "    f\"has converged: {ot.converged}, #iters: {ot.n_iters}, cost: {ot.reg_ot_cost}\"\n",
    ")"
   ]
  },
  {
   "cell_type": "markdown",
   "id": "e7b51753-15c5-47d0-b7cb-f9f4cca84f63",
   "metadata": {},
   "source": [
    "This reveals that the solver reports its metrics each 10 _inner_ iterations (default value)."
   ]
  },
  {
   "cell_type": "markdown",
   "id": "e1957d0f-7e53-4dcd-85f1-a61ddb7e99bf",
   "metadata": {},
   "source": [
    "#### With `tqdm`\n",
    "\n",
    "Here, we first define a function that updates a `tqdm` progress bar."
   ]
  },
  {
   "cell_type": "code",
   "execution_count": 7,
   "id": "f7ac907f-2327-4c79-88f4-b7fdae72df75",
   "metadata": {},
   "outputs": [],
   "source": [
    "def progress_fn(status, *args):\n",
    "    iteration, inner_iterations, total_iter, state = status\n",
    "    iteration = int(iteration) + 1  # from [0;n-1] to [1;n]\n",
    "    inner_iterations = int(inner_iterations)\n",
    "    total_iter = int(total_iter)\n",
    "    errors = np.asarray(state.errors).ravel()\n",
    "\n",
    "    # Avoid reporting error on each iteration,\n",
    "    # because errors are only computed every `inner_iterations`.\n",
    "    if iteration % inner_iterations == 0:\n",
    "        error_idx = max(0, iteration // inner_iterations - 1)\n",
    "        error = errors[error_idx]\n",
    "\n",
    "        pbar.set_postfix_str(f\"error: {error:0.6e}\")\n",
    "        pbar.total = total_iter // inner_iterations\n",
    "        pbar.update()"
   ]
  },
  {
   "cell_type": "markdown",
   "id": "0a412dc6-fada-4ba7-a49d-b29d42f0fc8f",
   "metadata": {},
   "source": [
    "and then use it as previously, but in the context of an existing `tqdm` progress bar:"
   ]
  },
  {
   "cell_type": "code",
   "execution_count": 8,
   "id": "d3ab5bce-bb3f-49ae-827c-39548adf2f48",
   "metadata": {},
   "outputs": [
    {
     "name": "stderr",
     "output_type": "stream",
     "text": [
      "  4%|███▍                                                                                              | 7/200 [00:00<00:10, 18.58it/s, error: 5.124584e-04]\n"
     ]
    }
   ],
   "source": [
    "with tqdm() as pbar:\n",
    "    solve_fn = jax.jit(sinkhorn.solve, static_argnames=[\"progress_fn\"])\n",
    "    ot = solve_fn(geom, a=None, b=None, progress_fn=progress_fn)"
   ]
  },
  {
   "cell_type": "code",
   "execution_count": 9,
   "id": "dee13ce4-344c-47e2-ad5e-599e14e4dce1",
   "metadata": {},
   "outputs": [
    {
     "name": "stdout",
     "output_type": "stream",
     "text": [
      "has converged: True, #iters: 7, cost: 1.2429015636444092\n"
     ]
    }
   ],
   "source": [
    "print(\n",
    "    f\"has converged: {ot.converged}, #iters: {ot.n_iters}, cost: {ot.reg_ot_cost}\"\n",
    ")"
   ]
  },
  {
   "cell_type": "markdown",
   "id": "e3842473-76b6-401f-8c05-54e7244d8c95",
   "metadata": {},
   "source": [
    "### Tracking progress for Sinkhorn via the class interface"
   ]
  },
  {
   "cell_type": "markdown",
   "id": "a52db5bb-a5cf-4484-953b-211f82a487a2",
   "metadata": {},
   "source": [
    "Here, we provide the callback function to the {class}`~ott.solvers.linear.sinkhorn.Sinkhorn` class initializer and display progress with `tqdm`:"
   ]
  },
  {
   "cell_type": "code",
   "execution_count": 10,
   "id": "d2d70a82-8203-45e6-917b-dd7fc59dafb8",
   "metadata": {},
   "outputs": [
    {
     "name": "stderr",
     "output_type": "stream",
     "text": [
      "  4%|███▍                                                                                              | 7/200 [00:00<00:10, 18.95it/s, error: 5.124584e-04]\n"
     ]
    }
   ],
   "source": [
    "prob = linear_problem.LinearProblem(geom)\n",
    "\n",
    "with tqdm() as pbar:\n",
    "    solver = sinkhorn.Sinkhorn(progress_fn=progress_fn)\n",
    "    ot = jax.jit(solver)(prob)"
   ]
  },
  {
   "cell_type": "code",
   "execution_count": 11,
   "id": "e020a49f-e9f9-4d3e-a5d5-98b08c7d243d",
   "metadata": {},
   "outputs": [
    {
     "name": "stdout",
     "output_type": "stream",
     "text": [
      "has converged: True, #iters: 7, cost: 1.2429015636444092\n"
     ]
    }
   ],
   "source": [
    "print(\n",
    "    f\"has converged: {ot.converged}, #iters: {ot.n_iters}, cost: {ot.reg_ot_cost}\"\n",
    ")"
   ]
  },
  {
   "cell_type": "markdown",
   "id": "b375412e-e374-445f-9330-0cf785d1965e",
   "metadata": {},
   "source": [
    "### Tracking progress of Low-Rank Sinkhorn iterations via the class interface\n",
    "\n",
    "We can track progress of the Low-rank Sinkhorn solver, however because it currently doesn't have a functional interface, we can only use the class interface {class}`~ott.solvers.linear.sinkhorn_lr.LRSinkhorn`:"
   ]
  },
  {
   "cell_type": "code",
   "execution_count": 12,
   "id": "a78ab13c-d9a2-4201-bb10-cb9bd4ac5f57",
   "metadata": {},
   "outputs": [
    {
     "name": "stderr",
     "output_type": "stream",
     "text": [
      "  8%|███████▊                                                                                         | 16/200 [00:00<00:07, 23.01it/s, error: 3.191826e-04]\n"
     ]
    }
   ],
   "source": [
    "prob = linear_problem.LinearProblem(geom)\n",
    "rank = 2\n",
    "\n",
    "with tqdm() as pbar:\n",
    "    solver = sinkhorn_lr.LRSinkhorn(rank, progress_fn=progress_fn)\n",
    "    ot = jax.jit(solver)(prob)"
   ]
  },
  {
   "cell_type": "code",
   "execution_count": 13,
   "id": "10563fb7-e982-4607-9f48-c7ac73516abc",
   "metadata": {},
   "outputs": [
    {
     "name": "stdout",
     "output_type": "stream",
     "text": [
      "has converged: True, cost: 1.7340877056121826\n"
     ]
    }
   ],
   "source": [
    "print(f\"has converged: {ot.converged}, cost: {ot.reg_ot_cost}\")"
   ]
  },
  {
   "cell_type": "markdown",
   "id": "41dc6533-a707-4f3d-bfc8-bb446fda382c",
   "metadata": {},
   "source": [
    "That's it, this is how to track progress and errors during Sinkhorn and Low-rank Sinkhorn iterations."
   ]
  },
  {
   "cell_type": "code",
   "execution_count": null,
   "id": "3a35db13-4672-4185-aa9d-7f4600fa91c7",
   "metadata": {},
   "outputs": [],
   "source": []
  }
 ],
 "metadata": {
  "kernelspec": {
   "display_name": "Python 3 (ipykernel)",
   "language": "python",
   "name": "python3"
  },
  "language_info": {
   "codemirror_mode": {
    "name": "ipython",
    "version": 3
   },
   "file_extension": ".py",
   "mimetype": "text/x-python",
   "name": "python",
   "nbconvert_exporter": "python",
   "pygments_lexer": "ipython3",
   "version": "3.10.5"
  }
 },
 "nbformat": 4,
 "nbformat_minor": 5
}
