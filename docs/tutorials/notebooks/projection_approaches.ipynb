{
 "cells": [
  {
   "cell_type": "markdown",
   "id": "d614d975",
   "metadata": {},
   "source": [
    "# Riemannian gradient ascent with Sinkhorn (RGAS)\n",
    "In this tutorial we implement the Riemannian gradient ascent with Sinkhorn (RGAS) algorithm from {cite}`lin:20`.\n",
    "\n",
    "The Wasserstein distance, derived from the optimal transport problem, is a useful metric for comparing probability measures due to its theoretical properties and practical implications. However, it has limitations in large-scale scenarios. As the dimension of the data space increases, computing the Wasserstein distance becomes computationally expensive due to its definition as a linear program. Additionally, its sample complexity can grow exponentially with the problem dimension. To overcome these issues, recent advancements in computational optimal transport methods have been developed. These methods offer alternatives to the Wasserstein distance with improved computational and statistical properties, enabling the application of optimal transport in machine learning.\n",
    "\n",
    "One approach is to compute the Wasserstein distance between lower-dimensional representations of the distributions being compared. This involves projecting the d-dimensional distributions onto a k-dimensional subspace (where k < d) to maximize the Wasserstein distance between these reduced dimensions. This approach, known as the Projection Robust Wasserstein (PRW) distance or Wasserstein Projection Pursuit, has gained popularity. Previous research has shown that, under certain assumptions about the structure of the high-dimensional distributions (referred to as the \"spiked transport model\"), PRW provides a sample complexity that is independent of the dimension. However, efficiently computing PRW remains challenging due to the non-convex nature of the underlying max-min optimization problem.\n",
    "\n",
    "The paper {cite}`lin:20` proposes a max-min optimization model for computing the PRW distance over the Stiefel manifold.\n",
    "\n",
    "Define the Stiefel manifold $St(d, k) : = \\{U \\in \\mathbb{R}^{d \\times k} \\mid U^\\top U = I_k\\}$ and the transportation polytope $\\Pi(\\mu, \\nu) : = \\{\\pi \\in \\mathbb{R}_+^{n \\times n} \\mid r(\\pi) = r, \\ c(\\pi) = c\\}$.\n",
    "\n",
    "The computation of the PRW distance is equivalent to\n",
    "\\begin{equation}\\label{prob:Stiefel-nonsmooth}\n",
    "\\max\\limits_{U \\in St(d, k)} \\ \\left\\{f(U) := \\min\\limits_{\\pi \\in \\Pi(\\mu, \\nu)} \\sum_{i=1}^n \\sum_{j=1}^n \\pi_{i, j} \\|U^\\top x_i - U^\\top y_j\\|^2\\right\\}\n",
    "\\end{equation}\n",
    "To be able to use gradient-type and adaptive gradient-type algorithms the authors consider an entropic regularized version\n",
    "\\begin{equation}\\label{prob:Stiefel-smooth}\n",
    "\\max\\limits_{U \\in St(d, k)} \\ \\left\\{f_\\eta(U) := \\min\\limits_{\\pi \\in \\Pi(\\mu, \\nu)} \\sum_{i=1}^n \\sum_{j=1}^n \\pi_{i, j} \\|U^\\top x_i - U^\\top y_j\\|^2 - \\eta H(\\pi)\\right\\} \n",
    "\\end{equation}"
   ]
  },
  {
   "cell_type": "code",
   "execution_count": 1,
   "id": "7bb87151",
   "metadata": {},
   "outputs": [],
   "source": [
    "import jax\n",
    "import jax.numpy as jnp\n",
    "import numpy as np\n",
    "import pandas as pd\n",
    "\n",
    "import matplotlib.pyplot as plt\n",
    "import matplotlib.ticker as ticker\n",
    "\n",
    "import ott\n",
    "from ott.geometry import geometry, pointcloud\n",
    "from ott.problems.linear import linear_problem\n",
    "from ott.solvers.linear import sinkhorn"
   ]
  },
  {
   "cell_type": "markdown",
   "id": "6b71cfda",
   "metadata": {},
   "source": [
    "The correlation matrix between $\\mu = \\sum_{i=1}^n r_i\\delta_{x_i}$ and $\\nu = \\sum_{j=1}^n c_j\\delta_{y_j}$ is defined by $V_\\pi = \\sum_{i=1}^n \\sum_{j=1}^n \\pi_{i, j} (x_i - y_j)(x_i - y_j)^\\top \\in \\mathbb{R}^{d \\times d}$. "
   ]
  },
  {
   "cell_type": "code",
   "execution_count": 2,
   "id": "c2ec73ad",
   "metadata": {},
   "outputs": [],
   "source": [
    "def V_pi(X, Y, a, b, pi):\n",
    "    L = (X.T @ pi) @ Y\n",
    "    return (X.T @ jnp.diag(a)) @ X + (Y.T @ jnp.diag(b)) @ Y - L - L.T"
   ]
  },
  {
   "cell_type": "markdown",
   "id": "95dc5c2b",
   "metadata": {},
   "source": [
    "The cost function is defined by $Cost_{i,j} = \\|U^{T}x_i - U^Ty_j\\|^2$"
   ]
  },
  {
   "cell_type": "code",
   "execution_count": 3,
   "id": "e05e2682",
   "metadata": {},
   "outputs": [],
   "source": [
    "def compute_projected_ground_cost(X, Y, Omega):\n",
    "    n = X.shape[0]\n",
    "    m = Y.shape[0]\n",
    "\n",
    "    return (\n",
    "        jnp.diag(jnp.diag((X @ Omega) @ (X.T))) @ (jnp.ones((n, m)))\n",
    "        + jnp.ones((n, m)) @ (jnp.diag(jnp.diag((Y @ Omega) @ Y.T)))\n",
    "        - 2 * X @ (Omega) @ (Y.T)\n",
    "    )"
   ]
  },
  {
   "cell_type": "markdown",
   "id": "4dd97e8c",
   "metadata": {},
   "source": [
    "$\n",
    "Retr_Z^{\\text{qr}}(\\xi) \\ = \\ \\text{qr}(Z + \\xi), \n",
    "$\n",
    "where $\\text{qr}(A)$ is the Q factor of the QR factorization of $A$."
   ]
  },
  {
   "cell_type": "code",
   "execution_count": 4,
   "id": "1b41a6a1",
   "metadata": {},
   "outputs": [],
   "source": [
    "def qr_retraction(Z, qsi):\n",
    "    q, r = jnp.linalg.qr(Z + qsi)\n",
    "    return q"
   ]
  },
  {
   "cell_type": "markdown",
   "id": "ebf5f5f5",
   "metadata": {},
   "source": [
    "The projection of $G \\in \\mathbb{R}^{d \\times k}$ onto $T_ZSt := \\{\\xi \\in \\mathbb{R}^{d \\times k}: \\xi^\\top Z + Z^\\top\\xi = 0\\}$ is given by $P_{T_ZSt}(G) = G - Z(G^\\top Z + Z^\\top G)/2$."
   ]
  },
  {
   "cell_type": "code",
   "execution_count": 5,
   "id": "9358b213",
   "metadata": {},
   "outputs": [],
   "source": [
    "def project(Z, G):\n",
    "    L = G.T @ Z\n",
    "    return G - Z @ (L + L.T) / 2"
   ]
  },
  {
   "cell_type": "code",
   "execution_count": 6,
   "id": "f3893868",
   "metadata": {},
   "outputs": [],
   "source": [
    "def sinkhorn_knopp(a, b, cost, reg, threshold_sinkhorn, max_iter_sinkhorn):\n",
    "    geom = geometry.Geometry(cost, epsilon=reg)\n",
    "    prob = linear_problem.LinearProblem(geom, a=a, b=b)\n",
    "\n",
    "    solver = sinkhorn.Sinkhorn(\n",
    "        threshold=threshold_sinkhorn,\n",
    "        lse_mode=False,\n",
    "        max_iterations=max_iter_sinkhorn,\n",
    "    )\n",
    "    out = solver(prob)\n",
    "\n",
    "    K = jnp.exp(cost / (-reg))\n",
    "    u = jnp.exp(out.f / reg)\n",
    "    v = jnp.exp(out.g / reg)\n",
    "\n",
    "    return u.reshape((-1, 1)) * K * v.reshape((1, -1))"
   ]
  },
  {
   "cell_type": "markdown",
   "id": "5dd2320b",
   "metadata": {},
   "source": [
    "The Riemannian gradient ascent with Sinkhorn (RGAS) solves the following problem\n",
    "$$\\max\\limits_{U \\in St(d, k)} \\ \\left\\{f_\\eta(U) := \\min\\limits_{\\pi \\in \\Pi(\\mu, \\nu)} \\sum_{i=1}^n \\sum_{j=1}^n \\pi_{i, j} \\|U^\\top x_i - U^\\top y_j\\|^2 - \\eta H(\\pi)\\right\\}$$\n",
    "By the definition of $V_\\pi$, $f_\\eta(U) = \\min_{\\pi \\in \\Pi(\\mu, \\nu)} \\{\\left< U U^\\top, V_\\pi\\right> - \\eta H(\\pi)\\}$. Fix $U \\in \\mathbb{R}^{d \\times k}$, and define the mapping $\\pi\\rightarrow \\left< U U^\\top, V_\\pi\\right> - \\eta H(\\pi)$ with respect to $\\ell_1$-norm. By the compactness of the transportation polytope $\\Pi(\\mu, \\nu)$, Danskin's theorem implies that $f_\\eta$ is smooth. Moreover, by the symmetry of $V_\\pi$\n",
    "$$\n",
    "\\nabla f_\\eta(U) \\ = \\ 2V_{\\pi^\\star(U)} U \\quad \\text{for any } U \\in \\mathbb{R}^{d \\times k},\n",
    "$$\n",
    "where $\\pi^\\star(U) := \\text{arg min}_{\\pi \\in \\Pi(\\mu, \\nu)} \\ \\{\\left< U U^\\top, V_\\pi\\right> - \\eta H(\\pi)\\}$. This entropic regularized OT is solved inexactly at each inner loop of the maximization and the authors use the output $\\pi_{t+1} \\approx \\pi(U_t)$ to obtain an inexact gradient of $f_\\eta$ which permits the Riemannian gradient ascent update.\n",
    "\n",
    "To approximately solve an entropic regularized OT efficiently the authors leverage Cuturi's approach and obtain the desired output $\\pi_{t+1}$ for $U_t \\in St(d, k)$ using the Sinkhorn iteration."
   ]
  },
  {
   "cell_type": "code",
   "execution_count": 1,
   "id": "240bb635",
   "metadata": {},
   "outputs": [],
   "source": [
    "def rgas(\n",
    "    X,\n",
    "    Y,\n",
    "    a,\n",
    "    b,\n",
    "    reg=0.2,\n",
    "    max_iter=30,\n",
    "    threshold=1e-03,\n",
    "    max_iter_sinkhorn=30,\n",
    "    threshold_sinkhorn=1e-03,\n",
    "    gamma=0.01,\n",
    "):\n",
    "    U_prev = jnp.zeros((d, k))\n",
    "    U_prev = U_prev.at[:k, :].set(jnp.eye(k))\n",
    "    U = U_prev\n",
    "    Omega = U @ U.T\n",
    "    maxmin_values = []\n",
    "\n",
    "    for t in range(max_iter):\n",
    "        ground_cost = compute_projected_ground_cost(X, Y, Omega)\n",
    "        pi = sinkhorn_knopp(\n",
    "            a, b, ground_cost, reg, threshold_sinkhorn, max_iter_sinkhorn\n",
    "        )\n",
    "        optimal_value = jnp.sum(ground_cost * pi)\n",
    "        maxmin_values.append(optimal_value)\n",
    "\n",
    "        V = V_pi(X, Y, a, b, pi)  # d x d\n",
    "\n",
    "        qsi = project(U_prev, 2 * V @ U_prev)  # d x k\n",
    "        U = qr_retraction(U_prev, gamma * qsi)\n",
    "        Omega = U @ U.T\n",
    "\n",
    "        # stopping criteria\n",
    "        if jnp.linalg.norm(U - U_prev) / jnp.linalg.norm(U) < threshold:\n",
    "            break\n",
    "        U_prev = U\n",
    "    optimal_value = max(maxmin_values)\n",
    "\n",
    "    return optimal_value, pi, U_prev"
   ]
  },
  {
   "cell_type": "markdown",
   "id": "cbb1a038",
   "metadata": {},
   "source": [
    "We experiment the algorithm on fragmented hypercube.\n",
    "In particular, we consider $\\mu = \\mathcal{U}([-1,1]^d)$ which is an uniform distribution over an hypercube and $\\nu = T_{\\#} \\mu$ which is the push-forward of $\\mu$ under the map $T(x) = x + 2sign(x)\\odot(\\sum_{k=1}^{k^*} e_k)$. Note that $sign(\\cdot)$ is taken element-wise, $k^* \\in [d]$ and $(e_1, \\ldots, e_d)$ is the canonical basis of $\\mathbb{R}^d$. By the definition, $T$ divides $[-1,1]^d$ into four different hyper-rectangles, as well as serves as a subgradient of convex function. This together with Brenier's theorem implies that $T$ is an optimal transport map between $\\mu$ and $\\nu = T_{\\#}\\mu$ with $\\mathcal{W}_2^2(\\mu, \\nu) = 4k^*$. Notice that the displacement vector $T(x) - x$ is optimal for any $x \\in \\mathbb{R}^d$ and always belongs to the $k^*$-dimensional subspace spanned by $\\{e_j\\}_{j \\in [k^*]}$. Putting these pieces together yields that $\\mathcal{P}_k^2(\\mu, \\nu) = 4k^*$ for any $k \\geq k^*$. "
   ]
  },
  {
   "cell_type": "code",
   "execution_count": 8,
   "id": "3b6ffb48",
   "metadata": {},
   "outputs": [],
   "source": [
    "def T(x, d, dim=2):\n",
    "    return x + 2 * jnp.sign(x) * jnp.array(dim * [1] + (d - dim) * [0])\n",
    "\n",
    "\n",
    "def fragmented_hypercube(n, d, seed, dim=3):\n",
    "    key = jax.random.PRNGKey(seed)\n",
    "    a = (1.0 / n) * jnp.ones(n)\n",
    "    b = (1.0 / n) * jnp.ones(n)\n",
    "\n",
    "    # First measure : uniform on the hypercube\n",
    "    X = jax.random.uniform(key, minval=-1, maxval=1, shape=(n, d))\n",
    "\n",
    "    # Second measure : fragmentation\n",
    "    Y = T(jax.random.uniform(key, minval=-1, maxval=1, shape=(n, d)), d, dim)\n",
    "    return X, Y, a, b"
   ]
  },
  {
   "cell_type": "markdown",
   "id": "7d71e932",
   "metadata": {},
   "source": [
    "Compute $|\\mathcal{P}_k^2(\\hat{\\mu}, \\hat{\\nu}) - \\mathcal{W}_2^2(\\mu, \\nu)|$ for different $n$ where $\\hat{\\mu}$ and\n",
    "$\\hat{\\nu}$ stand for the empirical measures of $\\mu$ and $\\nu$ with 100 samples."
   ]
  },
  {
   "cell_type": "code",
   "execution_count": 9,
   "id": "f2574f72",
   "metadata": {},
   "outputs": [
    {
     "data": {
      "text/html": [
       "<div>\n",
       "<style scoped>\n",
       "    .dataframe tbody tr th:only-of-type {\n",
       "        vertical-align: middle;\n",
       "    }\n",
       "\n",
       "    .dataframe tbody tr th {\n",
       "        vertical-align: top;\n",
       "    }\n",
       "\n",
       "    .dataframe thead th {\n",
       "        text-align: right;\n",
       "    }\n",
       "</style>\n",
       "<table border=\"1\" class=\"dataframe\">\n",
       "  <thead>\n",
       "    <tr style=\"text-align: right;\">\n",
       "      <th></th>\n",
       "      <th>25</th>\n",
       "      <th>50</th>\n",
       "      <th>100</th>\n",
       "      <th>250</th>\n",
       "    </tr>\n",
       "  </thead>\n",
       "  <tbody>\n",
       "    <tr>\n",
       "      <th>$|\\mathcal{P}_k^2(\\hat{\\mu}, \\hat{\\nu}) - \\mathcal{W}_2^2(\\mu, \\nu)|$</th>\n",
       "      <td>0.837732</td>\n",
       "      <td>0.452446</td>\n",
       "      <td>0.33539</td>\n",
       "      <td>0.211396</td>\n",
       "    </tr>\n",
       "  </tbody>\n",
       "</table>\n",
       "</div>"
      ],
      "text/plain": [
       "                                                         25        50    \n",
       "$|\\mathcal{P}_k^2(\\hat{\\mu}, \\hat{\\nu}) - \\math...  0.837732  0.452446  \\\n",
       "\n",
       "                                                        100       250  \n",
       "$|\\mathcal{P}_k^2(\\hat{\\mu}, \\hat{\\nu}) - \\math...  0.33539  0.211396  "
      ]
     },
     "execution_count": 9,
     "metadata": {},
     "output_type": "execute_result"
    }
   ],
   "source": [
    "n = 100  # Number of points\n",
    "d = 30  # Total dimension\n",
    "k = 2\n",
    "sample_number = 100  # Do 100 experiments\n",
    "\n",
    "\n",
    "diff = {}\n",
    "for n in [25, 50, 100, 250]:\n",
    "    optimal_values = []\n",
    "    for i in range(sample_number):\n",
    "        X, Y, a, b = fragmented_hypercube(n, d, i, dim=3)\n",
    "        optimal_value, _, _ = rgas(\n",
    "            X,\n",
    "            Y,\n",
    "            a,\n",
    "            b,\n",
    "            reg=0.2,\n",
    "            max_iter=30,\n",
    "            threshold=1e-03,\n",
    "            max_iter_sinkhorn=30,\n",
    "            threshold_sinkhorn=1e-03,\n",
    "            gamma=0.01,\n",
    "        )\n",
    "        optimal_values.append(float(optimal_value))\n",
    "    diff[n] = float(jnp.abs(jnp.array(optimal_values).mean() - 2 * 4))\n",
    "pd.DataFrame(\n",
    "    diff,\n",
    "    index=[\n",
    "        \"$|\\\\mathcal{P}_k^2(\\\\hat{\\\\mu}, \\\\hat{\\nu}) - \\\\mathcal{W}_2^2(\\\\mu, \\nu)|$\"\n",
    "    ],\n",
    ")"
   ]
  },
  {
   "cell_type": "code",
   "execution_count": 10,
   "id": "81ff9abf",
   "metadata": {},
   "outputs": [
    {
     "data": {
      "image/png": "[encoded data removed]",
      "text/plain": [
       "<Figure size 432x288 with 1 Axes>"
      ]
     },
     "metadata": {
      "needs_background": "light"
     },
     "output_type": "display_data"
    }
   ],
   "source": [
    "n = 50\n",
    "X, Y, a, b = fragmented_hypercube(n, d, 0, dim=2)\n",
    "\n",
    "_, pi, _ = rgas(\n",
    "    X,\n",
    "    Y,\n",
    "    a,\n",
    "    b,\n",
    "    reg=0.2,\n",
    "    max_iter=30,\n",
    "    threshold=1e-03,\n",
    "    max_iter_sinkhorn=30,\n",
    "    threshold_sinkhorn=1e-03,\n",
    "    gamma=0.01,\n",
    ")\n",
    "\n",
    "for i in range(X.shape[0]):\n",
    "    for j in range(Y.shape[0]):\n",
    "        if pi[i, j] > 0.0:\n",
    "            plt.plot(\n",
    "                [X[i, 0], Y[j, 0]], [X[i, 1], Y[j, 1]], c=\"k\", lw=30 * pi[i, j]\n",
    "            )\n",
    "\n",
    "plt.scatter(X[:, 0], X[:, 1], s=20, c=\"r\")\n",
    "plt.scatter(Y[:, 0], Y[:, 1], s=20, c=\"b\")\n",
    "plt.title(\"Optimal PRW transport plan (n=%d)\" % (X.shape[0],), fontsize=15)\n",
    "plt.axis(\"equal\")\n",
    "plt.show()"
   ]
  },
  {
   "cell_type": "code",
   "execution_count": null,
   "id": "934d11fa",
   "metadata": {},
   "outputs": [],
   "source": []
  }
 ],
 "metadata": {
  "kernelspec": {
   "display_name": "ot",
   "language": "python",
   "name": "ot"
  },
  "language_info": {
   "codemirror_mode": {
    "name": "ipython",
    "version": 3
   },
   "file_extension": ".py",
   "mimetype": "text/x-python",
   "name": "python",
   "nbconvert_exporter": "python",
   "pygments_lexer": "ipython3",
   "version": "3.11.3"
  }
 },
 "nbformat": 4,
 "nbformat_minor": 5
}
