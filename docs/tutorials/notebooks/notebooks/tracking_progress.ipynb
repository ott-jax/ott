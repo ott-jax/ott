{
 "cells": [
  {
   "cell_type": "markdown",
   "id": "d9ee0ff0-e502-4809-a553-caf3d17ddb7e",
   "metadata": {
    "tags": []
   },
   "source": [
    "# Tracking progress of {mod}`ott.solvers`\n",
    "\n",
    "This tutorial shows how to track progress and errors of the following solvers:\n",
    "\n",
    "- {class}`~ott.solvers.linear.sinkhorn.Sinkhorn`,\n",
    "- {class}`~ott.solvers.linear.sinkhorn_lr.LRSinkhorn`,\n",
    "- {class}`~ott.solvers.quadratic.gromov_wasserstein.GromovWasserstein`.\n",
    "\n",
    "We'll see that we simply need to provide a callback function to the solvers."
   ]
  },
  {
   "cell_type": "code",
   "execution_count": 1,
   "id": "d7ea0e9d-f518-4798-90d0-062776b4ac5d",
   "metadata": {},
   "outputs": [],
   "source": [
    "import sys\n",
    "\n",
    "if \"google.colab\" in sys.modules:\n",
    "    %pip install -q git+https://github.com/ott-jax/ott@main\n",
    "    %pip install -q tqdm"
   ]
  },
  {
   "cell_type": "code",
   "execution_count": 2,
   "id": "9dca5e59-5c90-4cf2-ae19-7043f68ebc66",
   "metadata": {},
   "outputs": [],
   "source": [
    "from tqdm import tqdm\n",
    "\n",
    "import jax\n",
    "import jax.numpy as jnp\n",
    "import numpy as np\n",
    "\n",
    "import matplotlib.pyplot as plt\n",
    "\n",
    "from ott import utils\n",
    "from ott.geometry import pointcloud\n",
    "from ott.problems.linear import linear_problem\n",
    "from ott.problems.quadratic import quadratic_problem\n",
    "from ott.solvers.linear import sinkhorn, sinkhorn_lr\n",
    "from ott.solvers.quadratic import gromov_wasserstein"
   ]
  },
  {
   "cell_type": "markdown",
   "id": "8b551db9-f308-4540-a57f-0d4c74d48feb",
   "metadata": {},
   "source": [
    "## How to track progress\n",
    "\n",
    "{mod}`ott` offers a simple and flexible mechanism that works well with {func}`~jax.jit`, and applies to both the functional interface and the class interface.\n",
    "\n",
    "The solvers {class}`~ott.solvers.linear.sinkhorn.Sinkhorn`, {class}`low-rank Sinkhorn  <ott.solvers.linear.sinkhorn_lr.LRSinkhorn>`, and {class}`~ott.solvers.quadratic.gromov_wasserstein.GromovWasserstein` only report progress if we pass a callback function with a specific signature. The callback is then called at each iteration."
   ]
  },
  {
   "cell_type": "markdown",
   "id": "f74f472b-12a3-49ad-9d81-8431674f512e",
   "metadata": {},
   "source": [
    "### Callback function signature\n",
    "\n",
    "The required signature of the callback function is: `(status: Tuple[ndarray, ndarray, ndarray, NamedTuple], args: Any) -> None`.\n",
    "\n",
    "The arguments are:\n",
    "- status: a tuple of:\n",
    "  - the current iteration index (0-based),\n",
    "  - the number of inner iterations after which the error is computed,\n",
    "  - the total number of iterations,\n",
    "  - the current solver state: {class}`~ott.solvers.linear.sinkhorn.SinkhornState`, or {class}`~ott.solvers.linear.sinkhorn_lr.LRSinkhornState`, or {class}`~ott.solvers.quadratic.gromov_wasserstein.GWState`. For technical reasons, the type of this argument in the signature is simply {class}`~typing.NamedTuple` (the common super-type).\n",
    "-  args: unused, see {mod}`jax.experimental.host_callback`.\n",
    "\n",
    ":::{note}\n",
    "Above, the {class}`~numpy.ndarray` types are passed by the underlying mechanism of the {mod}`~jax.experimental.host_callback`, but their arguments simply contain one integer value and can be safely cast.\n",
    ":::"
   ]
  },
  {
   "cell_type": "markdown",
   "id": "46ebff53-e738-44ea-9cc7-173d560f6a75",
   "metadata": {},
   "source": [
    "## Tracking progress of Sinkhorn solvers\n",
    "\n",
    "Let's start with the {class}`~ott.solvers.linear.sinkhorn.Sinkhorn` solver without any tracking (the default behavior):"
   ]
  },
  {
   "cell_type": "code",
   "execution_count": 3,
   "id": "334d6131-e52c-489b-9aa5-4a4c0d8c462c",
   "metadata": {},
   "outputs": [],
   "source": [
    "rngs = jax.random.split(jax.random.PRNGKey(0), 2)\n",
    "d, n_x, n_y = 2, 7, 11\n",
    "x = jax.random.normal(rngs[0], (n_x, d))\n",
    "y = jax.random.normal(rngs[1], (n_y, d)) + 0.5\n",
    "geom = pointcloud.PointCloud(x, y)"
   ]
  },
  {
   "cell_type": "markdown",
   "id": "a7583315-7340-4d0f-95b5-3a2c0398bce3",
   "metadata": {},
   "source": [
    "This problem is very simple, so the {class}`~ott.solvers.linear.sinkhorn.Sinkhorn` solver converges after only 7 iterations."
   ]
  },
  {
   "cell_type": "code",
   "execution_count": 4,
   "id": "03fce59f-1435-400f-a463-6576f5979260",
   "metadata": {},
   "outputs": [
    {
     "name": "stdout",
     "output_type": "stream",
     "text": [
      "Converged: True, #iters: 7, cost: 1.2429015636444092\n"
     ]
    }
   ],
   "source": [
    "solve_fn = jax.jit(sinkhorn.solve)\n",
    "ot = solve_fn(geom)\n",
    "\n",
    "print(\n",
    "    f\"Converged: {ot.converged}, #iters: {ot.n_iters}, cost: {ot.reg_ot_cost}\"\n",
    ")"
   ]
  },
  {
   "cell_type": "markdown",
   "id": "e0fb44c5-a0d2-43ce-8b69-a82e84768dab",
   "metadata": {},
   "source": [
    "For small problems such as this one, it's fine to not track progress (the default behavior). However when tackling larger problems, we might want to track various values that the {class}`~ott.solvers.linear.sinkhorn.Sinkhorn` solver updates at each iteration."
   ]
  },
  {
   "cell_type": "markdown",
   "id": "dd179a46-7772-4656-a837-411667e8c26c",
   "metadata": {},
   "source": [
    "### Tracking progress of Sinkhorn via the functional interface\n",
    "\n",
    "Here are a few examples of how to track progress for {class}`~ott.solvers.linear.sinkhorn.Sinkhorn` and {class}`low-rank Sinkhorn <ott.solvers.linear.sinkhorn_lr.LRSinkhorn>`.\n",
    "\n",
    "#### With the default callback function\n",
    "\n",
    "{mod}`ott.utils` provides a basic callback function: {func}`~ott.utils.default_progress_fn` that we can use directly: it simply prints the iteration and the error. Let's simply pass that basic callback as a static argument to {func}`~ott.solvers.linear.sinkhorn.solve`:"
   ]
  },
  {
   "cell_type": "code",
   "execution_count": 5,
   "id": "b031225b-5c6a-4a00-a567-d336a80a66c9",
   "metadata": {},
   "outputs": [
    {
     "name": "stdout",
     "output_type": "stream",
     "text": [
      "10 / 2000 -- 0.049124784767627716\n",
      "20 / 2000 -- 0.019962385296821594\n",
      "30 / 2000 -- 0.00910455733537674\n",
      "40 / 2000 -- 0.004339158535003662\n",
      "50 / 2000 -- 0.002111591398715973\n",
      "60 / 2000 -- 0.001037590205669403\n",
      "70 / 2000 -- 0.0005124583840370178\n",
      "Converged: True, #iters: 7, cost: 1.2429015636444092\n"
     ]
    }
   ],
   "source": [
    "solve_fn = jax.jit(sinkhorn.solve, static_argnames=[\"progress_fn\"])\n",
    "ot = solve_fn(geom, a=None, b=None, progress_fn=utils.default_progress_fn)\n",
    "\n",
    "print(\n",
    "    f\"Converged: {ot.converged}, #iters: {ot.n_iters}, cost: {ot.reg_ot_cost}\"\n",
    ")"
   ]
  },
  {
   "cell_type": "markdown",
   "id": "e7b51753-15c5-47d0-b7cb-f9f4cca84f63",
   "metadata": {},
   "source": [
    "This shows that the solver reports its metrics each 10 *inner* iterations (the default value)."
   ]
  },
  {
   "cell_type": "markdown",
   "id": "e1957d0f-7e53-4dcd-85f1-a61ddb7e99bf",
   "metadata": {},
   "source": [
    "#### With `tqdm`\n",
    "\n",
    "Let's first define a function that updates a [tqdm](https://tqdm.github.io) progress bar."
   ]
  },
  {
   "cell_type": "code",
   "execution_count": 6,
   "id": "f7ac907f-2327-4c79-88f4-b7fdae72df75",
   "metadata": {},
   "outputs": [],
   "source": [
    "def progress_fn(status, *args):\n",
    "    iteration, inner_iterations, total_iter, state = status\n",
    "    iteration = int(iteration) + 1  # from [0;n-1] to [1;n]\n",
    "    inner_iterations = int(inner_iterations)\n",
    "    total_iter = int(total_iter)\n",
    "    errors = np.asarray(state.errors).ravel()\n",
    "\n",
    "    # Avoid reporting error on each iteration,\n",
    "    # because errors are only computed every `inner_iterations`.\n",
    "    if iteration % inner_iterations == 0:\n",
    "        error_idx = max(0, iteration // inner_iterations - 1)\n",
    "        error = errors[error_idx]\n",
    "\n",
    "        pbar.set_postfix_str(f\"error: {error:0.6e}\")\n",
    "        pbar.total = total_iter // inner_iterations\n",
    "        pbar.update()"
   ]
  },
  {
   "cell_type": "markdown",
   "id": "0a412dc6-fada-4ba7-a49d-b29d42f0fc8f",
   "metadata": {},
   "source": [
    "And let's use it in the context of an existing `tqdm` progress bar:"
   ]
  },
  {
   "cell_type": "code",
   "execution_count": 7,
   "id": "d3ab5bce-bb3f-49ae-827c-39548adf2f48",
   "metadata": {},
   "outputs": [
    {
     "name": "stderr",
     "output_type": "stream",
     "text": [
      "  4%|██████▌                                                                                                                                                                                    | 7/200 [00:00<00:08, 22.84it/s, error: 5.124584e-04]\n"
     ]
    }
   ],
   "source": [
    "with tqdm() as pbar:\n",
    "    solve_fn = jax.jit(sinkhorn.solve, static_argnames=[\"progress_fn\"])\n",
    "    ot = solve_fn(geom, a=None, b=None, progress_fn=progress_fn)"
   ]
  },
  {
   "cell_type": "code",
   "execution_count": 8,
   "id": "dee13ce4-344c-47e2-ad5e-599e14e4dce1",
   "metadata": {},
   "outputs": [
    {
     "name": "stdout",
     "output_type": "stream",
     "text": [
      "Converged: True, #iters: 7, cost: 1.2429015636444092\n"
     ]
    }
   ],
   "source": [
    "print(\n",
    "    f\"Converged: {ot.converged}, #iters: {ot.n_iters}, cost: {ot.reg_ot_cost}\"\n",
    ")"
   ]
  },
  {
   "cell_type": "markdown",
   "id": "a52db5bb-a5cf-4484-953b-211f82a487a2",
   "metadata": {},
   "source": [
    "### Tracking progress of Sinkhorn via the class interface\n",
    "\n",
    "Alternatively, we can provide the callback function to the {class}`~ott.solvers.linear.sinkhorn.Sinkhorn` class and display the progress with `tqdm`. Let's define a {class}`~ott.problems.linear.linear_problem.LinearProblem` and run the solver:"
   ]
  },
  {
   "cell_type": "code",
   "execution_count": 9,
   "id": "d2d70a82-8203-45e6-917b-dd7fc59dafb8",
   "metadata": {},
   "outputs": [
    {
     "name": "stderr",
     "output_type": "stream",
     "text": [
      "  4%|██████▌                                                                                                                                                                                    | 7/200 [00:00<00:08, 23.40it/s, error: 5.124584e-04]\n"
     ]
    }
   ],
   "source": [
    "prob = linear_problem.LinearProblem(geom)\n",
    "\n",
    "with tqdm() as pbar:\n",
    "    solver = sinkhorn.Sinkhorn(progress_fn=progress_fn)\n",
    "    ot = jax.jit(solver)(prob)"
   ]
  },
  {
   "cell_type": "code",
   "execution_count": 10,
   "id": "e020a49f-e9f9-4d3e-a5d5-98b08c7d243d",
   "metadata": {},
   "outputs": [
    {
     "name": "stdout",
     "output_type": "stream",
     "text": [
      "Converged: True, #iters: 7, cost: 1.2429015636444092\n"
     ]
    }
   ],
   "source": [
    "print(\n",
    "    f\"Converged: {ot.converged}, #iters: {ot.n_iters}, cost: {ot.reg_ot_cost}\"\n",
    ")"
   ]
  },
  {
   "cell_type": "markdown",
   "id": "b375412e-e374-445f-9330-0cf785d1965e",
   "metadata": {},
   "source": [
    "### Tracking progress of low-rank Sinkhorn via the class interface\n",
    "\n",
    "We can also track progress of the low-rank Sinkhorn solver. Because it currently doesn't have a functional interface, we can only use the {class}`~ott.solvers.linear.sinkhorn_lr.LRSinkhorn` class interface:"
   ]
  },
  {
   "cell_type": "code",
   "execution_count": 11,
   "id": "a78ab13c-d9a2-4201-bb10-cb9bd4ac5f57",
   "metadata": {},
   "outputs": [
    {
     "name": "stderr",
     "output_type": "stream",
     "text": [
      "  8%|██████████████▉                                                                                                                                                                           | 16/200 [00:00<00:07, 23.76it/s, error: 3.191826e-04]\n"
     ]
    }
   ],
   "source": [
    "prob = linear_problem.LinearProblem(geom)\n",
    "rank = 2\n",
    "\n",
    "with tqdm() as pbar:\n",
    "    solver = sinkhorn_lr.LRSinkhorn(rank, progress_fn=progress_fn)\n",
    "    ot = jax.jit(solver)(prob)"
   ]
  },
  {
   "cell_type": "code",
   "execution_count": 12,
   "id": "10563fb7-e982-4607-9f48-c7ac73516abc",
   "metadata": {},
   "outputs": [
    {
     "name": "stdout",
     "output_type": "stream",
     "text": [
      "Converged: True, cost: 1.7340877056121826\n"
     ]
    }
   ],
   "source": [
    "print(f\"Converged: {ot.converged}, cost: {ot.reg_ot_cost}\")"
   ]
  },
  {
   "cell_type": "markdown",
   "id": "1c7a4594-2388-4c07-a670-26cc4f7670fa",
   "metadata": {},
   "source": [
    "## Tracking progress of the Gromov-Wasserstein solver\n",
    "\n",
    "We can track progress of the {class}`~ott.solvers.quadratic.gromov_wasserstein.GromovWasserstein` solver in the same way as with the Sinkhorn solvers. Let's define a small {class}`~ott.problems.quadratic.quadratic_problem.QuadraticProblem`, same as in the {doc}`gromov_wasserstein` notebook:"
   ]
  },
  {
   "cell_type": "code",
   "execution_count": 13,
   "id": "942ca588-4c3b-4cc6-b2d8-642992427c51",
   "metadata": {},
   "outputs": [],
   "source": [
    "# Samples spiral\n",
    "def sample_spiral(\n",
    "    n, min_radius, max_radius, key, min_angle=0, max_angle=10, noise=1.0\n",
    "):\n",
    "    radius = jnp.linspace(min_radius, max_radius, n)\n",
    "    angles = jnp.linspace(min_angle, max_angle, n)\n",
    "    data = []\n",
    "    noise = jax.random.normal(key, (2, n)) * noise\n",
    "    for i in range(n):\n",
    "        x = (radius[i] + noise[0, i]) * jnp.cos(angles[i])\n",
    "        y = (radius[i] + noise[1, i]) * jnp.sin(angles[i])\n",
    "        data.append([x, y])\n",
    "    data = jnp.array(data)\n",
    "    return data\n",
    "\n",
    "\n",
    "# Samples Swiss roll\n",
    "def sample_swiss_roll(\n",
    "    n, min_radius, max_radius, length, key, min_angle=0, max_angle=10, noise=0.1\n",
    "):\n",
    "    spiral = sample_spiral(\n",
    "        n, min_radius, max_radius, key[0], min_angle, max_angle, noise\n",
    "    )\n",
    "    third_axis = jax.random.uniform(key[1], (n, 1)) * length\n",
    "    swiss_roll = jnp.hstack((spiral[:, 0:1], third_axis, spiral[:, 1:]))\n",
    "    return swiss_roll\n",
    "\n",
    "\n",
    "# Data parameters\n",
    "n_spiral = 400\n",
    "n_swiss_roll = 500\n",
    "length = 10\n",
    "min_radius = 3\n",
    "max_radius = 10\n",
    "noise = 0.8\n",
    "min_angle = 0\n",
    "max_angle = 9\n",
    "angle_shift = 3\n",
    "\n",
    "# Seed\n",
    "seed = 14\n",
    "key = jax.random.PRNGKey(seed)\n",
    "key, *subkey = jax.random.split(key, 4)"
   ]
  },
  {
   "cell_type": "code",
   "execution_count": 14,
   "id": "1abae6d0-588b-4ee4-afd9-98ae0ce2d871",
   "metadata": {},
   "outputs": [],
   "source": [
    "spiral = sample_spiral(\n",
    "    n_spiral,\n",
    "    min_radius,\n",
    "    max_radius,\n",
    "    key=subkey[0],\n",
    "    min_angle=min_angle + angle_shift,\n",
    "    max_angle=max_angle + angle_shift,\n",
    "    noise=noise,\n",
    ")\n",
    "swiss_roll = sample_swiss_roll(\n",
    "    n_swiss_roll,\n",
    "    min_radius,\n",
    "    max_radius,\n",
    "    key=subkey[1:],\n",
    "    length=length,\n",
    "    min_angle=min_angle,\n",
    "    max_angle=max_angle,\n",
    ")"
   ]
  },
  {
   "cell_type": "markdown",
   "id": "d77e9d5e-3203-4598-ba38-338a83790919",
   "metadata": {},
   "source": [
    "We can now track the progress while the {class}`~ott.solvers.quadratic.gromov_wasserstein.GromovWasserstein` solver iterates:"
   ]
  },
  {
   "cell_type": "code",
   "execution_count": 15,
   "id": "2918b2b8-a2af-421b-9b73-27652858763d",
   "metadata": {},
   "outputs": [
    {
     "name": "stdout",
     "output_type": "stream",
     "text": [
      "1 / 20 -- -1.0\n",
      "2 / 20 -- 0.1304362416267395\n",
      "3 / 20 -- 0.0898154005408287\n",
      "4 / 20 -- 0.06759566068649292\n",
      "5 / 20 -- 0.05465700849890709\n",
      "\n",
      "5 outer iterations were needed\n",
      "The outer loop of Gromov Wasserstein has converged: True\n",
      "The final regularized GW cost is: 1183.613\n"
     ]
    }
   ],
   "source": [
    "geom_xx = pointcloud.PointCloud(x=spiral, y=spiral)\n",
    "geom_yy = pointcloud.PointCloud(x=swiss_roll, y=swiss_roll)\n",
    "prob = quadratic_problem.QuadraticProblem(geom_xx, geom_yy)\n",
    "\n",
    "solver = gromov_wasserstein.GromovWasserstein(\n",
    "    epsilon=100.0,\n",
    "    max_iterations=20,\n",
    "    store_inner_errors=True,  # needed for reporting errors\n",
    "    progress_fn=utils.default_progress_fn,  # callback function\n",
    ")\n",
    "out = solver(prob)\n",
    "\n",
    "n_outer_iterations = jnp.sum(out.costs != -1)\n",
    "has_converged = bool(out.linear_convergence[n_outer_iterations - 1])\n",
    "\n",
    "print(f\"\\n{n_outer_iterations} outer iterations were needed\")\n",
    "print(f\"The outer loop of Gromov Wasserstein has converged: {out.converged}\")\n",
    "print(f\"The final regularized GW cost is: {out.reg_gw_cost:.3f}\")"
   ]
  },
  {
   "cell_type": "markdown",
   "id": "41dc6533-a707-4f3d-bfc8-bb446fda382c",
   "metadata": {},
   "source": [
    "That's it, this is how to track progress of {class}`~ott.solvers.linear.sinkhorn.Sinkhorn`, {class}`low-rank Sinkhorn <ott.solvers.linear.sinkhorn_lr.LRSinkhorn>`, and {class}`Gromov-Wasserstein <ott.solvers.quadratic.gromov_wasserstein.GromovWasserstein>` solvers!"
   ]
  }
 ],
 "metadata": {
  "kernelspec": {
   "display_name": "ott",
   "language": "python",
   "name": "ott"
  },
  "language_info": {
   "codemirror_mode": {
    "name": "ipython",
    "version": 3
   },
   "file_extension": ".py",
   "mimetype": "text/x-python",
   "name": "python",
   "nbconvert_exporter": "python",
   "pygments_lexer": "ipython3",
   "version": "3.10.6"
  }
 },
 "nbformat": 4,
 "nbformat_minor": 5
}
