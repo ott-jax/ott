{
 "cells": [
  {
   "cell_type": "markdown",
   "metadata": {
    "id": "y18hMXUWJxv6"
   },
   "source": [
    "# Grid Geometry\n",
    "\n",
    "In this tutorial, we cover how to instantiate and use a {class}`~ott.geometry.grid.Grid` geometry.\n",
    "\n",
    "A {class}`~ott.geometry.grid.Grid` geometry can be used to compare probability measures supported on a $d$-dimensional Cartesian grid, namely the Cartesian product of $d$ lists of values, each list $i$ being of size $n_i$. In that case probability measures can be seen as histograms on a set of $N:=\\prod_i n_i$ possible point locations in $\\mathbb{R}^d$.\n",
    "\n",
    "A {class}`~ott.geometry.grid.Grid` geometry assumes that the ground cost between points in the grid is *separable*: For two points $x, y$ in that grid, the cost should be $\\text{cost}(x,y) = \\sum_{i=1}^d \\text{cost}_i(x_i, y_i)$ where $\\text{cost}_i: \\mathbb{R} \\times \\mathbb{R} \\rightarrow \\mathbb{R}$.\n",
    "  \n",
    "The advantage of using {class}`~ott.geometry.grid.Grid` over {class}`~ott.geometry.pointcloud.PointCloud` is that fundamental operations, such as applying the $N\\times N$ square cost matrix of all pairwise distances between the $N$ points in the grid, as well as its kernel, can be efficiently carried out in\n",
    "$O(N^{(1+1/d)})$ operations and similar memory footprint, rather than instantiating naively those matrices as $N^2$ blocks."
   ]
  },
  {
   "cell_type": "code",
   "execution_count": 1,
   "metadata": {},
   "outputs": [],
   "source": [
    "import sys\n",
    "\n",
    "if \"google.colab\" in sys.modules:\n",
    "    %pip install -q git+https://github.com/ott-jax/ott@main"
   ]
  },
  {
   "cell_type": "code",
   "execution_count": 2,
   "metadata": {},
   "outputs": [],
   "source": [
    "import jax\n",
    "import jax.numpy as jnp\n",
    "import numpy as np\n",
    "\n",
    "from ott.geometry import costs, grid, pointcloud\n",
    "from ott.problems.linear import linear_problem\n",
    "from ott.solvers.linear import sinkhorn"
   ]
  },
  {
   "cell_type": "markdown",
   "metadata": {
    "id": "ZW3w2Ys_ulct"
   },
   "source": [
    "## Create {class}`~ott.geometry.grid.Grid` with the `x` argument\n",
    "\n",
    "In this example, the argument `x` is a list of $d=3$ vectors $x_1, x_2, x_3$, of varying sizes $\\{n_1, n_2, n_3\\}$, that describe the locations of the grid, along each dimension. The resulting grid is the Cartesian product of these vectors (seen as sets of values), namely $\\{u\\in x_1\\}\\times \\{u\\in x_2,\\} \\times \\{u\\in x_3\\}$. Assuming each vector is formed with distinct coordinates, that Cartesian product holds $N = n_1 n_2 n_3 = 5 \\times 6 \\times 7 = 210$ distinct points in the example below. `a` and `b` are two histograms on that grid, namely probability vectors of size $N$. Note that, to spice things up, the grid is here is slightly irregular, since locations along each dimension are random."
   ]
  },
  {
   "cell_type": "code",
   "execution_count": 3,
   "metadata": {
    "executionInfo": {
     "elapsed": 5339,
     "status": "ok",
     "timestamp": 1613817615565,
     "user": {
      "displayName": "Laetitia Papaxanthos",
      "photoUrl": "",
      "userId": "13824884068334195048"
     },
     "user_tz": -60
    },
    "id": "Af0dnf1qqHv7"
   },
   "outputs": [],
   "source": [
    "rng = jax.random.PRNGKey(0)\n",
    "keys = jax.random.split(rng, 5)\n",
    "\n",
    "grid_size = (5, 6, 7)\n",
    "x = [\n",
    "    jax.random.uniform(keys[0], (grid_size[0],)),\n",
    "    jax.random.uniform(keys[1], (grid_size[1],)),\n",
    "    jax.random.uniform(keys[2], (grid_size[2],)),\n",
    "]"
   ]
  },
  {
   "cell_type": "markdown",
   "metadata": {},
   "source": [
    "We have now all ingredients to create a `geom` object that will describe that grid. Since we do not specify any cost function for each dimension, denoted as $\\text{cost}_i$ in the formula above, our instantiation will default to the squared-Euclidean distance (between real numbers) for each dimension.Naturally this is equivalent to the squared-Euclidean distance for vectors in $\\mathbb{R}^3$."
   ]
  },
  {
   "cell_type": "code",
   "execution_count": 4,
   "metadata": {},
   "outputs": [],
   "source": [
    "geom = grid.Grid(x=x)"
   ]
  },
  {
   "cell_type": "markdown",
   "metadata": {},
   "source": [
    "We can now generate two histograms `a` and `b` on that grid. Here the total size of these histograms will be equal to $N$, but we create them arranged as a tensor of the same `grid_size` shape."
   ]
  },
  {
   "cell_type": "code",
   "execution_count": 5,
   "metadata": {},
   "outputs": [],
   "source": [
    "a = jax.random.uniform(keys[3], grid_size)\n",
    "b = jax.random.uniform(keys[4], grid_size)\n",
    "a = a.ravel() / jnp.sum(a)  # Normalize to have unit total mass.\n",
    "b = b.ravel() / jnp.sum(b)  # \""
   ]
  },
  {
   "cell_type": "markdown",
   "metadata": {
    "id": "GHrL_JjevsYN"
   },
   "source": [
    "We can now solve a problem on that geometry, moving mass from weights `a` to `b`, by running a {class}`~ott.solvers.linear.sinkhorn.Sinkhorn` solver, to output the regularized optimal transport cost."
   ]
  },
  {
   "cell_type": "code",
   "execution_count": 6,
   "metadata": {
    "executionInfo": {
     "elapsed": 2768,
     "status": "ok",
     "timestamp": 1613817618340,
     "user": {
      "displayName": "Laetitia Papaxanthos",
      "photoUrl": "",
      "userId": "13824884068334195048"
     },
     "user_tz": -60
    },
    "id": "fAoTEGNFv5y7",
    "outputId": "3b639a18-92a8-4f42-aa1f-a6e26cce7b83"
   },
   "outputs": [
    {
     "name": "stdout",
     "output_type": "stream",
     "text": [
      "Regularized optimal transport cost = 0.08210793137550354\n"
     ]
    }
   ],
   "source": [
    "prob = linear_problem.LinearProblem(geom, a=a, b=b)\n",
    "solver = sinkhorn.Sinkhorn()\n",
    "out = solver(prob)\n",
    "\n",
    "print(f\"Regularized optimal transport cost = {out.reg_ot_cost}\")"
   ]
  },
  {
   "cell_type": "markdown",
   "metadata": {
    "id": "96rC8WsdHQEf"
   },
   "source": [
    "## Create {class}`~ott.geometry.grid.Grid` with the `grid_size` argument\n",
    "\n",
    "When only the `grid_size` shape tensor is specified, the grid is assumed to be regular, and locations along each axis are assumed to be of the form $j/(n_i-1)$ for $0\\leq j\\leq n_i-1$. This will therefore result in a simple grid in the 3-D hypercube $[0, 1]^3$. As expected, even when keeping the same histograms `a` and `b`, the OT cost is different, since we have shifted points."
   ]
  },
  {
   "cell_type": "code",
   "execution_count": 7,
   "metadata": {
    "executionInfo": {
     "elapsed": 2014,
     "status": "ok",
     "timestamp": 1613817620772,
     "user": {
      "displayName": "Laetitia Papaxanthos",
      "photoUrl": "",
      "userId": "13824884068334195048"
     },
     "user_tz": -60
    },
    "id": "arLJWk-kklnX",
    "outputId": "77961d66-f220-4cc0-bb89-1240dcf6bb17"
   },
   "outputs": [
    {
     "name": "stdout",
     "output_type": "stream",
     "text": [
      "Regularized optimal transport cost = 0.28149110078811646\n"
     ]
    }
   ],
   "source": [
    "geom = grid.Grid(grid_size=grid_size, epsilon=0.1)\n",
    "\n",
    "# We recycle the same probability vectors\n",
    "prob = linear_problem.LinearProblem(geom, a=a, b=b)\n",
    "\n",
    "out = solver(prob)\n",
    "\n",
    "print(f\"Regularized optimal transport cost = {out.reg_ot_cost}\")"
   ]
  },
  {
   "cell_type": "markdown",
   "metadata": {
    "id": "73KzjNwpAb60"
   },
   "source": [
    "## Different `cost_fn` for each dimension\n",
    "\n",
    "In the examples above, we have assumed that the cost function $\\text{cost}_i$ was the squared Euclidean distance. To illustrate how a different cost function can be chosen for each dimension, we implement an exotic custom cost function between real numbers.\n"
   ]
  },
  {
   "cell_type": "code",
   "execution_count": 8,
   "metadata": {
    "executionInfo": {
     "elapsed": 279,
     "status": "ok",
     "timestamp": 1613817621708,
     "user": {
      "displayName": "Laetitia Papaxanthos",
      "photoUrl": "",
      "userId": "13824884068334195048"
     },
     "user_tz": -60
    },
    "id": "2ilbOUD1Acwj"
   },
   "outputs": [],
   "source": [
    "@jax.tree_util.register_pytree_node_class\n",
    "class MyCost(costs.CostFn):\n",
    "    \"\"\"An unusual cost function.\"\"\"\n",
    "\n",
    "    def norm(self, x):\n",
    "        return jnp.sum(x**3 + jnp.cos(x) ** 2, axis=-1)\n",
    "\n",
    "    def pairwise(self, x, y):\n",
    "        return -jnp.sum(jnp.sin(x + 1) * jnp.sin(y)) * 2"
   ]
  },
  {
   "cell_type": "markdown",
   "metadata": {
    "id": "qPDNxISlAtUa"
   },
   "source": [
    "Using the same grid size, we redefine {class}`~ott.geometry.grid.Grid` with these new cost functions, and recompute a regularized optimal transport cost."
   ]
  },
  {
   "cell_type": "code",
   "execution_count": 9,
   "metadata": {
    "executionInfo": {
     "elapsed": 1810,
     "status": "ok",
     "timestamp": 1613817623524,
     "user": {
      "displayName": "Laetitia Papaxanthos",
      "photoUrl": "",
      "userId": "13824884068334195048"
     },
     "user_tz": -60
    },
    "id": "0q_phX06Ao9d",
    "outputId": "767e0d21-16cc-402e-bec9-5f521f9723d0"
   },
   "outputs": [
    {
     "name": "stdout",
     "output_type": "stream",
     "text": [
      "Regularized optimal transport cost = 1.2038968801498413\n"
     ]
    }
   ],
   "source": [
    "cost_fns = [MyCost(), costs.SqEuclidean(), MyCost()]  # 1 for each dimension.\n",
    "geom = grid.Grid(grid_size=grid_size, cost_fns=cost_fns, epsilon=0.1)\n",
    "prob = linear_problem.LinearProblem(geom, a=a, b=b)\n",
    "out = solver(prob)\n",
    "\n",
    "print(f\"Regularized optimal transport cost = {out.reg_ot_cost}\")"
   ]
  },
  {
   "cell_type": "markdown",
   "metadata": {
    "id": "mr9ogxkxHYsL"
   },
   "source": [
    "## Compare runtime between using {class}`~ott.geometry.grid.Grid` and {class}`~ott.geometry.pointcloud.PointCloud`\n",
    "\n",
    "Why use a {class}`~ott.geometry.grid.Grid` geometry instead of a {class}`~ott.geometry.pointcloud.PointCloud` geometry, defined with $N$ points?. In addition to convenience, the main advantage of {class}`~ott.geometry.grid.Grid` geometries is computational.\n",
    "\n",
    "Indeed, the {class}`~ott.solvers.linear.sinkhorn.Sinkhorn` algorithm applies a kernel operator, derived directly from the geometry, at each of its steps. {class}`~ott.geometry.grid.Grid` geometries apply that kernel in $O(N^{(1+1/d)})$ operations, whereas {class}`~ott.geometry.pointcloud.PointCloud` require a $O(N^2)$ complexity, where $N$ is the total number of points in the grid and $d$ its dimension. Note that these two approaches are numerically equivalent, it's just that the former is more efficient than the latter.\n",
    "\n",
    "You can see this by yourself in the example below. We instantiate two grid geometries that are mathematically equivalent (describing the same points), and show that running {class}`~ott.solvers.linear.sinkhorn.Sinkhorn` iterations with a {class}`~ott.geometry.grid.Grid` is 180 times faster compared to a naive {class}`~ott.geometry.pointcloud.PointCloud`."
   ]
  },
  {
   "cell_type": "code",
   "execution_count": 13,
   "metadata": {
    "executionInfo": {
     "elapsed": 6373,
     "status": "ok",
     "timestamp": 1613817647644,
     "user": {
      "displayName": "Laetitia Papaxanthos",
      "photoUrl": "",
      "userId": "13824884068334195048"
     },
     "user_tz": -60
    },
    "id": "IfARvic82UnF",
    "outputId": "89985d99-857f-4a4c-fa45-407d2245ef49"
   },
   "outputs": [
    {
     "name": "stdout",
     "output_type": "stream",
     "text": [
      "Total size of grid:  46139\n"
     ]
    }
   ],
   "source": [
    "grid_size = (37, 29, 43)\n",
    "\n",
    "rng = jax.random.PRNGKey(2)\n",
    "keys = jax.random.split(rng, 2)\n",
    "a = jax.random.uniform(keys[0], grid_size)\n",
    "b = jax.random.uniform(keys[1], grid_size)\n",
    "a = a.ravel() / jnp.sum(a)\n",
    "b = b.ravel() / jnp.sum(b)\n",
    "\n",
    "print(\"Total size of grid: \", jnp.product(jnp.array(grid_size)))"
   ]
  },
  {
   "cell_type": "code",
   "execution_count": 14,
   "metadata": {},
   "outputs": [
    {
     "name": "stdout",
     "output_type": "stream",
     "text": [
      "2.03 s ± 17.7 ms per loop (mean ± std. dev. of 7 runs, 1 loop each)\n",
      "Regularized optimal transport cost using Grid = 0.10972004383802414\n",
      "\n"
     ]
    }
   ],
   "source": [
    "# Instantiates Grid\n",
    "geometry_grid = grid.Grid(grid_size=grid_size)\n",
    "prob_grid = linear_problem.LinearProblem(geometry_grid, a=a, b=b)\n",
    "\n",
    "%timeit solver(prob_grid).reg_ot_cost.block_until_ready()\n",
    "out_grid = solver(prob_grid)\n",
    "print(\n",
    "    f\"Regularized optimal transport cost using Grid = {out_grid.reg_ot_cost}\\n\"\n",
    ")"
   ]
  },
  {
   "cell_type": "code",
   "execution_count": 15,
   "metadata": {},
   "outputs": [],
   "source": [
    "# List all 3D points in cartesian product.\n",
    "x, y, z = np.mgrid[0 : grid_size[0], 0 : grid_size[1], 0 : grid_size[2]]\n",
    "xyz = jnp.stack(\n",
    "    [\n",
    "        jnp.array(x.ravel()) / jnp.maximum(1, grid_size[0] - 1),\n",
    "        jnp.array(y.ravel()) / jnp.maximum(1, grid_size[1] - 1),\n",
    "        jnp.array(z.ravel()) / jnp.maximum(1, grid_size[2] - 1),\n",
    "    ]\n",
    ").transpose()\n",
    "# Instantiates PointCloud with `batch_size` argument.\n",
    "# Computations require being run in batches, otherwise memory would\n",
    "# overflow. This is achieved by setting `batch_size` to 1024.\n",
    "geometry_pointcloud = pointcloud.PointCloud(xyz, xyz, batch_size=1024)\n",
    "prob_pointcloud = linear_problem.LinearProblem(geometry_pointcloud, a=a, b=b)"
   ]
  },
  {
   "cell_type": "code",
   "execution_count": 16,
   "metadata": {},
   "outputs": [
    {
     "name": "stdout",
     "output_type": "stream",
     "text": [
      "6min 5s ± 5.8 s per loop (mean ± std. dev. of 7 runs, 1 loop each)\n",
      "Regularized optimal transport cost using PointCloud = 0.10972030460834503\n"
     ]
    }
   ],
   "source": [
    "%timeit solver(prob_pointcloud).reg_ot_cost.block_until_ready()\n",
    "out_pointcloud = solver(prob_pointcloud)\n",
    "print(\n",
    "    f\"Regularized optimal transport cost using PointCloud = {out_pointcloud.reg_ot_cost}\"\n",
    ")"
   ]
  }
 ],
 "metadata": {
  "colab": {
   "collapsed_sections": [],
   "last_runtime": {
    "build_target": "",
    "kind": "private"
   },
   "name": "Grid Geometry for OTT.ipynb",
   "provenance": []
  },
  "kernelspec": {
   "display_name": "Python 3 (ipykernel)",
   "language": "python",
   "name": "python3"
  },
  "language_info": {
   "codemirror_mode": {
    "name": "ipython",
    "version": 3
   },
   "file_extension": ".py",
   "mimetype": "text/x-python",
   "name": "python",
   "nbconvert_exporter": "python",
   "pygments_lexer": "ipython3",
   "version": "3.10.8"
  },
  "vscode": {
   "interpreter": {
    "hash": "b0fa6594d8f4cbf19f97940f81e996739fb7646882a419484c72d19e05852a7e"
   }
  }
 },
 "nbformat": 4,
 "nbformat_minor": 1
}
