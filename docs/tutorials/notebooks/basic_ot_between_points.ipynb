{
 "cells": [
  {
   "cell_type": "markdown",
   "id": "7db73a1f",
   "metadata": {},
   "source": [
    "# Getting Started \n",
    "\n",
    "This tutorial covers the most basic use of `ott`:\n",
    "\n",
    "- Compute the optimal transport between two point clouds using the Sinkhorn algorithm. \n",
    "- Use the seamless integration with `jax` to differentiate through this operation."
   ]
  },
  {
   "cell_type": "markdown",
   "id": "f53f8066",
   "metadata": {},
   "source": [
    "## Imports and toy data definition\n",
    "\n",
    "`ott` is built on top of `jax`, so we use `jax` to define all the variables of the problem."
   ]
  },
  {
   "cell_type": "code",
   "execution_count": 1,
   "id": "f3bed78b",
   "metadata": {},
   "outputs": [],
   "source": [
    "import jax\n",
    "import jax.numpy as jnp"
   ]
  },
  {
   "cell_type": "markdown",
   "id": "f0bef1f3",
   "metadata": {},
   "source": [
    "We also import `matplotlib` to plot the results."
   ]
  },
  {
   "cell_type": "code",
   "execution_count": 2,
   "id": "bfa3d604",
   "metadata": {},
   "outputs": [],
   "source": [
    "import matplotlib.pyplot as plt"
   ]
  },
  {
   "cell_type": "markdown",
   "id": "b7d4f008",
   "metadata": {},
   "source": [
    "We define a toy function and use it to generate two datasets of points, `x` and `y`:"
   ]
  },
  {
   "cell_type": "code",
   "execution_count": 3,
   "id": "b917ea6a",
   "metadata": {
    "scrolled": true
   },
   "outputs": [
    {
     "data": {
      "text/plain": [
       "<matplotlib.legend.Legend at 0x28088eeb0>"
      ]
     },
     "execution_count": 3,
     "metadata": {},
     "output_type": "execute_result"
    },
    {
     "data": {
      "image/png": "[encoded data removed]",
      "text/plain": [
       "<Figure size 432x288 with 1 Axes>"
      ]
     },
     "metadata": {
      "needs_background": "light"
     },
     "output_type": "display_data"
    }
   ],
   "source": [
    "def create_points(rng, n_samples_x, n_samples_y, n_features):\n",
    "    rngs = jax.random.split(rng, 3)\n",
    "    x = jax.random.normal(rngs[0], (n_samples_x, n_features)) + 1\n",
    "    y = jax.random.uniform(rngs[1], (n_samples_y, n_features))\n",
    "    return x, y\n",
    "\n",
    "\n",
    "rng = jax.random.PRNGKey(0)\n",
    "n_samples_x, n_samples_y, n_features = 13, 17, 2\n",
    "x, y = create_points(rng, n_samples_x, n_samples_y, n_features)\n",
    "\n",
    "plt.scatter(x[:, 0], x[:, 1], label=\"x\")\n",
    "plt.scatter(y[:, 0], y[:, 1], label=\"y\")\n",
    "plt.legend()"
   ]
  },
  {
   "cell_type": "markdown",
   "id": "5ba96153",
   "metadata": {},
   "source": [
    "## Optimal transport with OTT"
   ]
  },
  {
   "cell_type": "markdown",
   "id": "4b37b6d8",
   "metadata": {},
   "source": [
    "We will now use `ott` to compute the optimal transport between `x` and `y`. To do so, we first create a `geometry` object that defines the geometry between the two point clouds:"
   ]
  },
  {
   "cell_type": "code",
   "execution_count": 4,
   "id": "0f84d96e",
   "metadata": {},
   "outputs": [],
   "source": [
    "from ott.geometry import pointcloud\n",
    "\n",
    "geometry = pointcloud.PointCloud(x, y)"
   ]
  },
  {
   "cell_type": "markdown",
   "id": "028c8c32",
   "metadata": {},
   "source": [
    "In order to compute the optimal transport corresponding to this `geometry`, we use the Sinkhorn algorithm:"
   ]
  },
  {
   "cell_type": "code",
   "execution_count": 5,
   "id": "62d6f9de",
   "metadata": {},
   "outputs": [],
   "source": [
    "from ott.solvers.linear import sinkhorn \n",
    "\n",
    "ot = sinkhorn.solve(geometry) "
   ]
  },
  {
   "cell_type": "markdown",
   "id": "b4d77e66",
   "metadata": {},
   "source": [
    "As a small note: the computations here are *jitted*, meaning that the second time the solver is run it will be much faster:"
   ]
  },
  {
   "cell_type": "code",
   "execution_count": 6,
   "id": "f0152f0d",
   "metadata": {},
   "outputs": [],
   "source": [
    "ot = sinkhorn.solve(geometry) "
   ]
  },
  {
   "cell_type": "markdown",
   "id": "9f0a2a7d",
   "metadata": {},
   "source": [
    "This object `ot` contains all the information about the solution of the optimal transport problems, including the transport plan matrix that indicates how much of the mass of the point `x[i]` is moved towards `y[j]`."
   ]
  },
  {
   "cell_type": "code",
   "execution_count": 7,
   "id": "0299f1da",
   "metadata": {
    "scrolled": false
   },
   "outputs": [
    {
     "data": {
      "text/plain": [
       "<matplotlib.image.AxesImage at 0x2814c6070>"
      ]
     },
     "execution_count": 7,
     "metadata": {},
     "output_type": "execute_result"
    },
    {
     "data": {
      "image/png": "[encoded data removed]",
      "text/plain": [
       "<Figure size 432x288 with 1 Axes>"
      ]
     },
     "metadata": {
      "needs_background": "light"
     },
     "output_type": "display_data"
    }
   ],
   "source": [
    "plt.imshow(ot.matrix)"
   ]
  },
  {
   "cell_type": "markdown",
   "id": "6e1e7610",
   "metadata": {},
   "source": [
    "## Seamless integration in JAX automatic differentiation pipelines\n",
    "\n",
    "We finish this quick tour by illustration one of the most interesting feature of `ott`: most operations are differentiable, and it can be plugged easily into differentiable pipelines built in `jax`, like neural networks.\n",
    "\n",
    "We demonstrate this by differentiating the primal loss of optimal transport with respect to the input dataset.\n",
    "\n",
    "To do so, we simply define a function that takes `y` as input and outputs the loss:"
   ]
  },
  {
   "cell_type": "code",
   "execution_count": 8,
   "id": "c3ddf884",
   "metadata": {},
   "outputs": [
    {
     "data": {
      "text/plain": [
       "DeviceArray(1.2848568, dtype=float32)"
      ]
     },
     "execution_count": 8,
     "metadata": {},
     "output_type": "execute_result"
    }
   ],
   "source": [
    "def primal_cost_from_y(y):\n",
    "    geometry = pointcloud.PointCloud(x, y)\n",
    "    ot = sinkhorn.solve(geometry) \n",
    "    return ot.primal_cost\n",
    "\n",
    "\n",
    "primal_cost_from_y(y)"
   ]
  },
  {
   "cell_type": "markdown",
   "id": "eff2b732",
   "metadata": {},
   "source": [
    "The gradient of this function is obtained as usual with `jax`:"
   ]
  },
  {
   "cell_type": "code",
   "execution_count": 9,
   "id": "c8169565",
   "metadata": {},
   "outputs": [
    {
     "data": {
      "text/plain": [
       "DeviceArray([[-0.13677096, -0.12542462],\n",
       "             [-0.17331457,  0.00316697],\n",
       "             [ 0.00717247,  0.04084158],\n",
       "             [-0.03964072, -0.07097346],\n",
       "             [ 0.03364546, -0.01358469],\n",
       "             [-0.23161316, -0.03622174],\n",
       "             [ 0.02616614,  0.07189351],\n",
       "             [-0.00402123, -0.07266501],\n",
       "             [-0.17247105,  0.0015559 ],\n",
       "             [-0.16569233, -0.09180653],\n",
       "             [ 0.05348989, -0.01223391],\n",
       "             [ 0.04273099, -0.14946938],\n",
       "             [-0.03189152,  0.01724326],\n",
       "             [-0.04778045, -0.05768591],\n",
       "             [ 0.05030239,  0.12066668],\n",
       "             [-0.06080055, -0.06514084],\n",
       "             [ 0.04507273, -0.0108303 ]], dtype=float32)"
      ]
     },
     "execution_count": 9,
     "metadata": {},
     "output_type": "execute_result"
    }
   ],
   "source": [
    "gradient_function = jax.grad(primal_cost_from_y)\n",
    "gradient_function(y)"
   ]
  },
  {
   "cell_type": "markdown",
   "id": "72157157",
   "metadata": {},
   "source": [
    "For instance, this gradient can be used to update the dataset `y` to make it go towards `x`:"
   ]
  },
  {
   "cell_type": "code",
   "execution_count": 10,
   "id": "1429d207",
   "metadata": {},
   "outputs": [
    {
     "data": {
      "text/plain": [
       "<matplotlib.legend.Legend at 0x281386c10>"
      ]
     },
     "execution_count": 10,
     "metadata": {},
     "output_type": "execute_result"
    },
    {
     "data": {
      "image/png": "[encoded data removed]",
      "text/plain": [
       "<Figure size 432x288 with 1 Axes>"
      ]
     },
     "metadata": {
      "needs_background": "light"
     },
     "output_type": "display_data"
    }
   ],
   "source": [
    "step_size = 2.\n",
    "\n",
    "plt.scatter(x[:, 0], x[:, 1], label=\"x\")\n",
    "for i in range(5):\n",
    "    plt.scatter(y[:, 0], y[:, 1], label=f\"y, iteration {i}\")\n",
    "    y -= step_size * gradient_function(y)\n",
    "plt.legend()"
   ]
  },
  {
   "cell_type": "code",
   "execution_count": null,
   "id": "7ec369a5",
   "metadata": {},
   "outputs": [],
   "source": []
  }
 ],
 "metadata": {
  "kernelspec": {
   "display_name": "Python 3 (ipykernel)",
   "language": "python",
   "name": "python3"
  },
  "language_info": {
   "codemirror_mode": {
    "name": "ipython",
    "version": 3
   },
   "file_extension": ".py",
   "mimetype": "text/x-python",
   "name": "python",
   "nbconvert_exporter": "python",
   "pygments_lexer": "ipython3",
   "version": "3.9.12"
  }
 },
 "nbformat": 4,
 "nbformat_minor": 5
}
