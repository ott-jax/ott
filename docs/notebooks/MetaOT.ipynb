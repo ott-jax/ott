{
 "cells": [
  {
   "cell_type": "markdown",
   "id": "1b49a2d5",
   "metadata": {},
   "source": [
    "# Meta Optimal Transport"
   ]
  },
  {
   "cell_type": "code",
   "execution_count": 118,
   "id": "612ba9b2",
   "metadata": {},
   "outputs": [],
   "source": [
    "import os, sys\n",
    "sys.path.append('./ott')"
   ]
  },
  {
   "cell_type": "code",
   "execution_count": 119,
   "id": "896884b2",
   "metadata": {},
   "outputs": [],
   "source": [
    "from ott.geometry import pointcloud, geometry\n",
    "from ott.core import initializers as init_lib\n",
    "from ott.core import quad_problems, linear_problems, sinkhorn\n",
    "\n",
    "import jax\n",
    "from jax import numpy as jnp\n",
    "from flax import linen as nn\n",
    "from flax.training import train_state\n",
    "import optax\n",
    "\n",
    "from hydra import compose, initialize\n",
    "from omegaconf import OmegaConf\n",
    "import hydra\n",
    "from hydra.utils import instantiate\n",
    "\n",
    "\n",
    "import time\n",
    "import os\n",
    "import functools\n",
    "import numpy as np\n",
    "from collections import namedtuple\n",
    "from dataclasses import dataclass\n",
    "import torchvision\n",
    "import matplotlib.pyplot as plt\n",
    "plt.style.use('bmh')\n",
    "\n",
    "\n",
    "from jax.config import config\n",
    "config.update(\"jax_enable_x64\", True)\n",
    "\n",
    "from IPython.core import ultratb\n",
    "sys.excepthook = ultratb.FormattedTB(\n",
    "    mode='Plain', color_scheme='Neutral', call_pdb=1)"
   ]
  },
  {
   "cell_type": "markdown",
   "id": "af1eab5c",
   "metadata": {},
   "source": [
    "# Set parameters"
   ]
  },
  {
   "cell_type": "code",
   "execution_count": 120,
   "id": "444d5054",
   "metadata": {},
   "outputs": [],
   "source": [
    "seed = 0\n",
    "batch_size= 128\n",
    "epsilon = 1e-2\n",
    "\n",
    "### number of training steps\n",
    "num_train_iter= 50000\n",
    "\n",
    "### potential_model_mlp\n",
    "n_hidden= 1024\n",
    "n_hidden_layer= 3\n",
    "n_output=1\n",
    "num_samples_a = num_samples_b = 784\n",
    "num_output = num_samples_a\n",
    "\n",
    "### optimizer\n",
    "learning_rate=1e-3\n",
    "max_grad_norm= 1.\n",
    "\n",
    "\n",
    "print_stride = 100"
   ]
  },
  {
   "cell_type": "markdown",
   "id": "5058d03f",
   "metadata": {},
   "source": [
    "# Model\n",
    "\n",
    "- OT problem between $\\alpha = \\sum_{i=1}^{n_a} a_i \\delta_{x_i}$, $\\beta = \\sum_{j=1}^{n_b} a_j \\delta_{y_j}$\n",
    "- Fix particle locations $(x_i)_i$, $(y_j)_j$, amortize OT problem over collection of problems with varying weights $a=(a_i)_i$, $b=(b_j)_j$\n",
    "- Define potential model as simple feedforward MLP on concatenated weights $[a,b]$"
   ]
  },
  {
   "cell_type": "code",
   "execution_count": 121,
   "id": "5343d9cd",
   "metadata": {},
   "outputs": [],
   "source": [
    "class PotentialMLP(nn.Module):\n",
    "    n_output: int\n",
    "    n_hidden: int\n",
    "    n_hidden_layer: int\n",
    "\n",
    "    @nn.compact\n",
    "    def __call__(self, a, b):\n",
    "        z = jnp.concatenate((a, b))\n",
    "        for i in range(self.n_hidden_layer):\n",
    "            # TODO: get dtype from caller\n",
    "            z = nn.relu(nn.Dense(self.n_hidden, dtype=jnp.float64)(z))\n",
    "        f = nn.Dense(self.n_output, dtype=jnp.float64)(z)\n",
    "        return f\n",
    "    \n",
    "def compute_f(potential_model, a, b, params):\n",
    "   return potential_model.apply({'params': params}, a, b)"
   ]
  },
  {
   "cell_type": "code",
   "execution_count": 122,
   "id": "f99effb0",
   "metadata": {},
   "outputs": [],
   "source": [
    "key = jax.random.PRNGKey(seed)\n",
    "\n",
    "potential_model = PotentialMLP(n_hidden= n_hidden, \n",
    "                               n_hidden_layer=n_hidden_layer, \n",
    "                               n_output=n_output)\n",
    "init_key, key = jax.random.split(key)\n",
    "a_placeholder = jnp.zeros(na)\n",
    "b_placeholder = jnp.zeros(nb)\n",
    "params = potential_model.init(\n",
    "    init_key, a_placeholder, b_placeholder)['params']\n",
    "\n",
    "opt = optax.adam(learning_rate=learning_rate)\n",
    "if max_grad_norm:\n",
    "    opt = optax.chain(optax.clip_by_global_norm(max_grad_norm), opt)\n",
    "    \n",
    "state = train_state.TrainState.create(\n",
    "    apply_fn=potential_model.apply, params=params, tx=opt)\n",
    "\n",
    "\n"
   ]
  },
  {
   "cell_type": "markdown",
   "id": "e365a31d",
   "metadata": {},
   "source": [
    "# Data"
   ]
  },
  {
   "cell_type": "markdown",
   "id": "ed4823d7",
   "metadata": {},
   "source": [
    "Consider each MNIST digit as a discrete distribution with fixed support as pixel coordinates and the weights are the normalized pixel intensity values corresponding to the pixel coordinate for each digit.\n",
    "\n",
    "Hence, $x$ and $y$ correspond to pixel coordinates, and each digit corresponds to a discrete distribition with support of size $n_a=n_b=784$. "
   ]
  },
  {
   "cell_type": "code",
   "execution_count": 123,
   "id": "be5630b7",
   "metadata": {},
   "outputs": [],
   "source": [
    "PairData = namedtuple('PairData', 'a b')\n",
    "PairDataImgs = namedtuple('PairDataImgs', 'a b afull bfull')\n",
    "\n",
    "@dataclass\n",
    "class MNISTPairSampler:\n",
    "    train: bool = True\n",
    "    batch_size: int = 128\n",
    "    epsilon: float = 1e-2\n",
    "    debug: bool = False\n",
    "\n",
    "    def __post_init__(self):\n",
    "        dataset = torchvision.datasets.MNIST(\n",
    "            '/tmp/mnist/',\n",
    "            download=True,\n",
    "            train=self.train,\n",
    "        )\n",
    "        data = dataset.data\n",
    "        data = jnp.float64(data)/255.\n",
    "        data = data.reshape(-1, 784)\n",
    "        data = data/data.sum(axis=1, keepdims=True)\n",
    "        self.data = data\n",
    "\n",
    "        \"\"\"\n",
    "        x_grid = []\n",
    "        for i in jnp.linspace(1, 0, num=28):\n",
    "            for j in jnp.linspace(0, 1, num=28):\n",
    "                x_grid.append([j, i])\n",
    "        \"\"\"\n",
    "\n",
    "        x_grid = jnp.linspace(0, 1, num=784).reshape(784, 1)\n",
    "\n",
    "        x_grid = jnp.array(x_grid)\n",
    "        self.geom = pointcloud.PointCloud(x=x_grid, y=x_grid, epsilon=self.epsilon) #, online=True)\n",
    "\n",
    "        @jax.jit\n",
    "        def _sample(key):\n",
    "            k1, k2, key = jax.random.split(key, num=3)\n",
    "            I = jax.random.randint(k1, shape=[self.batch_size], minval=0, maxval=len(data))\n",
    "            J = jax.random.randint(k2, shape=[self.batch_size], minval=0, maxval=len(data))\n",
    "            a = data[I]\n",
    "            b = data[J]\n",
    "            return PairData(a, b)\n",
    "        self._sample = _sample\n",
    "\n",
    "        if self.debug:\n",
    "            key = jax.random.PRNGKey(0)\n",
    "            self._debug_data = self._sample(key)\n",
    "\n",
    "\n",
    "    def __call__(self, key):\n",
    "        if self.debug:\n",
    "            return self._debug_data\n",
    "        else:\n",
    "            return self._sample(key)\n",
    "\n",
    "        \n",
    "        "
   ]
  },
  {
   "cell_type": "code",
   "execution_count": 124,
   "id": "b0243346",
   "metadata": {},
   "outputs": [],
   "source": [
    "train_sampler = MNISTPairSampler(train=True, batch_size=batch_size, debug=False, epsilon=epsilon)\n",
    "eval_sampler = MNISTPairSampler(train=False, batch_size=batch_size, debug=False, epsilon=epsilon)"
   ]
  },
  {
   "cell_type": "markdown",
   "id": "14bbc08f",
   "metadata": {},
   "source": [
    "# Training Helpers\n",
    "\n",
    "The objective is to predict the optimal Sinkhorn potential. Hence can learn the dual predictor using the dual objective loss "
   ]
  },
  {
   "cell_type": "code",
   "execution_count": 125,
   "id": "06e8481e",
   "metadata": {},
   "outputs": [],
   "source": [
    "\n",
    "def dual_obj_from_f(geom, a, b, f):\n",
    "    g =  geom.update_potential(f, jnp.zeros_like(b), jnp.log(b), 0, axis=0)\n",
    "    g = jnp.where(jnp.isfinite(g), g, 0.)\n",
    "\n",
    "    supp_a = a > 0\n",
    "    supp_b = b > 0\n",
    "    fa = supp_a * geom.potential_from_scaling(a)\n",
    "    div_a = jnp.sum(jnp.where(supp_a, a * (f - fa), 0.0))\n",
    "\n",
    "    gb = supp_b * geom.potential_from_scaling(b)\n",
    "    div_b = jnp.sum(jnp.where(supp_b, b * (g - gb), 0.0))\n",
    "\n",
    "    total_sum = jnp.sum(geom.marginal_from_potentials(f, g))\n",
    "    dual_obj = div_a + div_b + geom.epsilon * (\n",
    "        jnp.sum(a) * jnp.sum(b) - total_sum\n",
    "    )\n",
    "\n",
    "    return dual_obj\n",
    "\n",
    "\n",
    "def dual_obj_loss(potential_model, geom, a, b, params):\n",
    "    f_pred = compute_f(potential_model, a, b, params)\n",
    "    dual_value = dual_obj_from_f(geom, a, b, f_pred)\n",
    "    loss = -dual_value\n",
    "    return loss, f_pred\n",
    "\n",
    "def get_step_fn(potential_model, geom):\n",
    "\n",
    "  def loss_batch(params, a, b):\n",
    "\n",
    "      loss_fn = functools.partial(dual_obj_loss, \n",
    "                                  potential_model=potential_model, \n",
    "                                  geom = geom, \n",
    "                                  params=params)\n",
    "      \n",
    "      loss, f_pred = jax.vmap(loss_fn)(a=a, b=b)\n",
    "      return jnp.mean(loss), f_pred\n",
    "\n",
    "  @jax.jit\n",
    "  def update(state, a, b):\n",
    "      grad_fn = jax.value_and_grad(loss_batch, has_aux=True)\n",
    "      (loss, init_f), grads = grad_fn(state.params, a, b)\n",
    "      return loss, init_f, state.apply_gradients(grads=grads)\n",
    "\n",
    "  return update"
   ]
  },
  {
   "cell_type": "markdown",
   "id": "5029f2bf",
   "metadata": {},
   "source": [
    "# Wrap model in the initializer class"
   ]
  },
  {
   "cell_type": "code",
   "execution_count": 126,
   "id": "9e97a2b7",
   "metadata": {},
   "outputs": [],
   "source": [
    "class MetaOTInitializer(init_lib.DefaultInitializer):\n",
    "\n",
    "  def __init__(self, potential_model, state, geom, get_step_fn, train=False):\n",
    "    self.potential_model = potential_model\n",
    "    self.state = state\n",
    "    self.geom = geom\n",
    "    self.update_fn = jax.jit(get_step_fn(self.potential_model, self.geom))\n",
    "    self.train = train\n",
    "    \n",
    "  \n",
    "  def stateless_init_dual_a(self, ot_problem, lse_mode, state):\n",
    "       _, init_f, state = self.update_fn(state, ot_problem.a, ot_problem.b)\n",
    "       return init_f, state\n",
    "\n",
    "  def init_dual_a(\n",
    "      self, ot_problem: linear_problems.LinearProblem, lse_mode: bool\n",
    "  ) -> jnp.ndarray:\n",
    "    \"\"\"Initialization for Sinkhorn potential/ scaling f_u.\"\"\"\n",
    "\n",
    "    init_f = jax.vmap(compute_f, in_axes=(None, 0, 0, None))(self.potential_model, ot_problem.a, ot_problem.b, self.state.params)\n",
    "    f_u = init_f if lse_mode else ot_problem.scaling_from_potential(init_f)\n",
    "\n",
    "    return f_u\n",
    "\n"
   ]
  },
  {
   "cell_type": "code",
   "execution_count": 127,
   "id": "adb5a8d3",
   "metadata": {},
   "outputs": [],
   "source": [
    "\n",
    "\n",
    "initializer = MetaOTInitializer(potential_model=potential_model, \n",
    "                                state=state, \n",
    "                                geom=train_sampler.geom, \n",
    "                                get_step_fn=get_step_fn,\n",
    "                                train=True)"
   ]
  },
  {
   "cell_type": "markdown",
   "id": "3c65f3c1",
   "metadata": {},
   "source": [
    "# Training Loop"
   ]
  },
  {
   "cell_type": "code",
   "execution_count": null,
   "id": "12088f28",
   "metadata": {
    "scrolled": true
   },
   "outputs": [],
   "source": [
    "\n",
    "train_iter = 0\n",
    "while train_iter < num_train_iter:\n",
    "    key, step_key = jax.random.split(key)\n",
    "    batch = train_sampler(step_key)\n",
    "    loss, init_f, initializer.state = initializer.update_fn(initializer.state, \n",
    "                                                            a=batch.a, \n",
    "                                                            b=batch.b)\n",
    "\n",
    "    if train_iter % print_stride == 0:\n",
    "        print(f'Train iteration: {train_iter} - Loss: {loss}')\n",
    "    train_iter += 1\n",
    "\n",
    "\n",
    "\n"
   ]
  },
  {
   "cell_type": "markdown",
   "id": "b051b9ff",
   "metadata": {},
   "source": [
    "# Evaluate model"
   ]
  },
  {
   "cell_type": "code",
   "execution_count": 115,
   "id": "e72912eb",
   "metadata": {},
   "outputs": [],
   "source": [
    "eval_key = jax.random.PRNGKey(42)\n",
    "num_evals = 10\n",
    "\n",
    "def get_errors(sink_out):\n",
    "    return sink_out.errors[sink_out.errors>-1]\n",
    "\n",
    "error_log = {'gaus':[], 'base': [], 'meta_ot':[]}\n",
    "    \n",
    "for _ in range(num_evals):\n",
    "    eval_key, step_key = jax.random.split(eval_key)\n",
    "    batch = eval_sampler(step_key)\n",
    "\n",
    "\n",
    "    a = batch.a[0]\n",
    "    b = batch.b[0]\n",
    "\n",
    "\n",
    "    sink_kwargs = {'jit': True, \n",
    "                    'threshold': 0.001, \n",
    "                     'inner_iterations':1,\n",
    "                      'max_iterations': 10**5}\n",
    "\n",
    "\n",
    "\n",
    "    ot_problem = linear_problems.LinearProblem(train_sampler.geom, a=batch.a[0:1], b=batch.b[0:1])\n",
    "    init_dual_a = initializer.init_dual_a(ot_problem, lse_mode=True)[0]\n",
    "\n",
    "    mot_sink_out = sinkhorn.sinkhorn(train_sampler.geom, a=a, b=b, init_dual_a=init_dual_a, **sink_kwargs)\n",
    "    base_sink_out = sinkhorn.sinkhorn(train_sampler.geom, a=a, b=b, init_dual_a=None, **sink_kwargs)\n",
    "\n",
    "    ot_problem = linear_problems.LinearProblem(train_sampler.geom, a=a, b=b)\n",
    "    init_dual_a = init_lib.GaussianInitializer().init_dual_a(ot_problem, lse_mode=True)\n",
    "\n",
    "    gaus_sink_out = sinkhorn.sinkhorn(geom, a=a, b=b, init_dual_a=init_dual_a, **sink_kwargs)\n",
    "    \n",
    "    error_log['base'].append(base_sink_out.errors)\n",
    "    error_log['meta_ot'].append(mot_sink_out.errors)\n",
    "    error_log['gaus'].append(gaus_sink_out.errors)"
   ]
  },
  {
   "cell_type": "code",
   "execution_count": 131,
   "id": "207a45f3",
   "metadata": {},
   "outputs": [],
   "source": [
    "def post_process(x, reduction=jnp.mean):\n",
    "    x = x.at[x == -1].set(0)\n",
    "    x = reduction(x, axis=0)\n",
    "    return x[x>0]\n",
    "\n",
    "\n"
   ]
  },
  {
   "cell_type": "code",
   "execution_count": 136,
   "id": "4d959c0c",
   "metadata": {},
   "outputs": [
    {
     "data": {
      "image/png": "[encoded data removed]",
      "text/plain": [
       "<Figure size 720x720 with 1 Axes>"
      ]
     },
     "metadata": {
      "needs_background": "light"
     },
     "output_type": "display_data"
    }
   ],
   "source": [
    "plt.figure(figsize=(10,10))\n",
    "tag_map = {'meta_ot': 'Meta OT', 'gaus': 'Gaussian Init.', 'base': 'Base'}\n",
    "col_map = {'meta_ot': 'red', 'gaus': 'green', 'base': 'blue'}\n",
    "\n",
    "for tag in ['meta_ot', 'base', 'gaus']:\n",
    "    x = post_process(jnp.array(error_log[tag]), reduction=jnp.mean)\n",
    "    plt.plot(x, label=tag_map[tag], color=col_map[tag])\n",
    "    \n",
    "    std = post_process(jnp.array(error_log[tag]), reduction=jnp.std)\n",
    "    plt.plot(x+std, color=col_map[tag], linestyle='--', alpha=0.2)\n",
    "    plt.plot(x-std, color=col_map[tag], linestyle='--', alpha=0.2)\n",
    "    \n",
    "plt.xlabel('Number of Sinkhorn Iterations')\n",
    "plt.ylabel('Average Error')\n",
    "plt.legend()\n",
    "plt.show()"
   ]
  },
  {
   "cell_type": "code",
   "execution_count": null,
   "id": "f8d9c831",
   "metadata": {},
   "outputs": [],
   "source": []
  }
 ],
 "metadata": {
  "kernelspec": {
   "display_name": "filtering",
   "language": "python",
   "name": "filtering"
  },
  "language_info": {
   "codemirror_mode": {
    "name": "ipython",
    "version": 3
   },
   "file_extension": ".py",
   "mimetype": "text/x-python",
   "name": "python",
   "nbconvert_exporter": "python",
   "pygments_lexer": "ipython3",
   "version": "3.8.12"
  }
 },
 "nbformat": 4,
 "nbformat_minor": 5
}
