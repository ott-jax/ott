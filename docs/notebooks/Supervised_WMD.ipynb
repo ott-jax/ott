{
  "cells": [
    {
      "cell_type": "markdown",
      "metadata": {
        "id": "RkhVyymJ9i2W"
      },
      "source": [
        "<h1><center><strong><font color=\"black\"> Optimal Transport : Tutorial for the Supervised Word Mover's Distance using the OTT-JAX toolbox </font></strong></center></h1>\n",
        "<h3><center><font color=\"black\"><strong>Violaine Courrier & Gaspard Michel</strong></font></center></h3>\n",
        "\n",
        "<center>\n",
        "2022 \n",
        "</center>"
      ]
    },
    {
      "cell_type": "markdown",
      "metadata": {
        "id": "H0dZWcNMnzOp"
      },
      "source": [
        "This tutorial shows how to implement [Supervised Word Mover’s Distance](https://proceedings.neurips.cc/paper/2016/file/10c66082c124f8afe3df4886f5e516e0-Paper.pdf) using ott-jax, sinkhorn divergence and jax gradient functionalities. The first part of this tutorial will be focus on building (normalized) document word histograms and embeddings. To this end, we adapt [ott-jax's tutorial on sinkhorn divergence](https://ott-jax.readthedocs.io/en/latest/notebooks/One_Sinkhorn.html)."
      ]
    },
    {
      "cell_type": "code",
      "execution_count": 1,
      "metadata": {
        "id": "15XPDdXy9ieH"
      },
      "outputs": [],
      "source": [
        "import jax\n",
        "import jax.numpy as jnp\n",
        "\n",
        "import pandas as pd\n",
        "import numpy as np\n",
        "import matplotlib.pyplot as plt\n",
        "import time\n",
        "import tensorflow as tf\n",
        "from sklearn.neighbors import NeighborhoodComponentsAnalysis\n",
        "from sklearn.manifold import TSNE\n",
        "from tqdm.notebook import tqdm, trange"
      ]
    },
    {
      "cell_type": "code",
      "execution_count": 2,
      "metadata": {
        "colab": {
          "base_uri": "https://localhost:8080/"
        },
        "id": "BKFnKk-TnhFW",
        "outputId": "bd99b2f7-ca81-4799-cc69-ae9308dedd3d"
      },
      "outputs": [
        {
          "output_type": "stream",
          "name": "stdout",
          "text": [
            "Requirement already satisfied: ott-jax in /usr/local/lib/python3.7/dist-packages (0.2.5)\n"
          ]
        }
      ],
      "source": [
        "!pip install ott-jax\n",
        "import ott\n",
        "from ott.tools.sinkhorn_divergence import sinkhorn_divergence\n",
        "from ott.core.sinkhorn import sinkhorn\n",
        "from ott.geometry.pointcloud import PointCloud\n",
        "from ott.geometry.geometry import Geometry"
      ]
    },
    {
      "cell_type": "markdown",
      "metadata": {
        "id": "lMLvxbUbum9I"
      },
      "source": [
        "## From Texts to Word Histograms\n",
        "\n",
        "\n",
        "We use the [keras NLP tutorial](https://keras.io/examples/nlp/pretrained_word_embeddings/) to preprocess raw text (here a subset of texts from the [BBC](http://mlg.ucd.ie/datasets/bbc.html) database) and turn them into word embeddings histograms."
      ]
    },
    {
      "cell_type": "code",
      "execution_count": 35,
      "metadata": {
        "id": "s4YV9ATSl6Wf",
        "colab": {
          "base_uri": "https://localhost:8080/"
        },
        "outputId": "80019f43-d74d-415b-8f73-bb9c8cab6ed5"
      },
      "outputs": [
        {
          "output_type": "stream",
          "name": "stdout",
          "text": [
            "--2022-05-05 14:42:21--  https://storage.googleapis.com/dataset-uploader/bbc/bbc-text.csv\n",
            "Resolving storage.googleapis.com (storage.googleapis.com)... 74.125.200.128, 74.125.68.128, 74.125.24.128, ...\n",
            "Connecting to storage.googleapis.com (storage.googleapis.com)|74.125.200.128|:443... connected.\n",
            "HTTP request sent, awaiting response... 200 OK\n",
            "Length: 5057493 (4.8M) [text/csv]\n",
            "Saving to: ‘bbc-text.csv’\n",
            "\n",
            "bbc-text.csv        100%[===================>]   4.82M  --.-KB/s    in 0.03s   \n",
            "\n",
            "2022-05-05 14:42:22 (162 MB/s) - ‘bbc-text.csv’ saved [5057493/5057493]\n",
            "\n"
          ]
        }
      ],
      "source": [
        "!wget https://storage.googleapis.com/dataset-uploader/bbc/bbc-text.csv"
      ]
    },
    {
      "cell_type": "code",
      "source": [
        "data = pd.read_csv('bbc-text.csv')\n",
        "mapper = { i: j for i,j in zip(data['category'].unique(), range(len(data['category'].unique())))}\n",
        "data['label'] = data['category'].map(lambda x: mapper[x])\n",
        "print(f'There is {data.shape[0]} texts in the dataset')\n",
        "\n",
        "samples = []\n",
        "labels = []\n",
        "for j in data['label'].unique() : \n",
        "    samples.extend(data[data['label']==j].iloc[:80]['text'].tolist())\n",
        "    labels.extend([j]*80)\n",
        "print(f'Keeping {len(labels)} texts')"
      ],
      "metadata": {
        "colab": {
          "base_uri": "https://localhost:8080/"
        },
        "id": "VknTJ6-nrAb-",
        "outputId": "e45b7c74-6a3a-4777-d8c6-3ea9807d94dd"
      },
      "execution_count": 3,
      "outputs": [
        {
          "output_type": "stream",
          "name": "stdout",
          "text": [
            "There is 2225 texts in the dataset\n",
            "Keeping 400 texts\n"
          ]
        }
      ]
    },
    {
      "cell_type": "markdown",
      "metadata": {
        "id": "B5jbFWnOpu6h"
      },
      "source": [
        "Load $80 \\times 5 = 400$ texts, removing headers."
      ]
    },
    {
      "cell_type": "markdown",
      "metadata": {
        "id": "XgRyckjTL_dJ"
      },
      "source": [
        "Most of the texts have a length that concentrates around $2000$ words as shown below, very few exceed $10,000$ words."
      ]
    },
    {
      "cell_type": "code",
      "execution_count": 4,
      "metadata": {
        "colab": {
          "base_uri": "https://localhost:8080/",
          "height": 292
        },
        "id": "yuxmbY58J6sO",
        "outputId": "f7baadbc-91c6-4623-d227-391606c0824f"
      },
      "outputs": [
        {
          "output_type": "display_data",
          "data": {
            "text/plain": [
              "<Figure size 432x288 with 1 Axes>"
            ],
            "image/png": "[encoded data removed]"
          },
          "metadata": {
            "needs_background": "light"
          }
        },
        {
          "output_type": "stream",
          "name": "stdout",
          "text": [
            "Keeping 400 texts\n"
          ]
        }
      ],
      "source": [
        "plt.rcParams.update({'font.size': 18})\n",
        "text_lengths = [len(sample) for sample in samples]\n",
        "hist, bins = np.histogram(text_lengths, bins=100)\n",
        "logbins = np.logspace(np.log10(bins[0]),np.log10(bins[-1]),len(bins))\n",
        "plt.hist(text_lengths, bins=logbins)\n",
        "plt.xscale('log')\n",
        "plt.show()\n",
        "#idx_samples_to_drop = [idx for idx, sample in enumerate(samples) if len(sample) < 3000]\n",
        "#samples = [sample for sample in samples if len(sample) < 2000]\n",
        "#samples = [j for i, j in enumerate(samples) if i not in idx_samples_to_drop]\n",
        "#labels = [j for i, j in enumerate(labels) if i not in idx_samples_to_drop]\n",
        "print(f'Keeping {len(samples)} texts')"
      ]
    },
    {
      "cell_type": "markdown",
      "metadata": {
        "id": "k1CobtB-qDar"
      },
      "source": [
        "This is where we use `tf.keras` code to parse these texts, create a vocabulary index, and map texts onto histograms on that vocabulary."
      ]
    },
    {
      "cell_type": "code",
      "execution_count": 5,
      "metadata": {
        "id": "NcY6sLOUt0x0"
      },
      "outputs": [],
      "source": [
        "from tensorflow.keras.layers.experimental.preprocessing import TextVectorization\n",
        "\n",
        "vectorizer = TextVectorization(max_tokens=20000, output_sequence_length=10000)\n",
        "text_ds = tf.data.Dataset.from_tensor_slices(samples).batch(128)\n",
        "vectorizer.adapt(text_ds)\n",
        "voc = vectorizer.get_vocabulary()\n",
        "word_index = dict(zip(voc, range(len(voc))))\n"
      ]
    },
    {
      "cell_type": "markdown",
      "metadata": {
        "id": "bV9aqB_XqQj6"
      },
      "source": [
        "Download pre-trained Word embeddings, here selected to have dimension 50."
      ]
    },
    {
      "cell_type": "code",
      "execution_count": 7,
      "metadata": {
        "colab": {
          "base_uri": "https://localhost:8080/"
        },
        "id": "OLj4UYstvcAv",
        "outputId": "03968379-3ffb-4330-8135-3a30bd3f6107"
      },
      "outputs": [
        {
          "output_type": "stream",
          "name": "stdout",
          "text": [
            "--2022-05-05 11:45:50--  http://nlp.stanford.edu/data/glove.6B.zip\n",
            "Resolving nlp.stanford.edu (nlp.stanford.edu)... 171.64.67.140\n",
            "Connecting to nlp.stanford.edu (nlp.stanford.edu)|171.64.67.140|:80... connected.\n",
            "HTTP request sent, awaiting response... 302 Found\n",
            "Location: https://nlp.stanford.edu/data/glove.6B.zip [following]\n",
            "--2022-05-05 11:45:50--  https://nlp.stanford.edu/data/glove.6B.zip\n",
            "Connecting to nlp.stanford.edu (nlp.stanford.edu)|171.64.67.140|:443... connected.\n",
            "HTTP request sent, awaiting response... 301 Moved Permanently\n",
            "Location: http://downloads.cs.stanford.edu/nlp/data/glove.6B.zip [following]\n",
            "--2022-05-05 11:45:51--  http://downloads.cs.stanford.edu/nlp/data/glove.6B.zip\n",
            "Resolving downloads.cs.stanford.edu (downloads.cs.stanford.edu)... 171.64.64.22\n",
            "Connecting to downloads.cs.stanford.edu (downloads.cs.stanford.edu)|171.64.64.22|:80... connected.\n",
            "HTTP request sent, awaiting response... 200 OK\n",
            "Length: 862182613 (822M) [application/zip]\n",
            "Saving to: ‘glove.6B.zip.2’\n",
            "\n",
            "glove.6B.zip.2        0%[                    ]  50.16K   147KB/s               ^C\n",
            "replace glove.6B.50d.txt? [y]es, [n]o, [A]ll, [N]one, [r]ename: "
          ]
        }
      ],
      "source": [
        "!wget http://nlp.stanford.edu/data/glove.6B.zip\n",
        "!unzip -q glove.6B.zip"
      ]
    },
    {
      "cell_type": "markdown",
      "metadata": {
        "id": "8_ZK2dY5NcCG"
      },
      "source": [
        "We extract the embeddings from the `Glove` vectors that correspond to our vocabulary."
      ]
    },
    {
      "cell_type": "code",
      "execution_count": 6,
      "metadata": {
        "colab": {
          "base_uri": "https://localhost:8080/"
        },
        "id": "btInpOu7oJym",
        "outputId": "9741b949-ed81-45f5-d52d-ada25a31a4a1"
      },
      "outputs": [
        {
          "output_type": "stream",
          "name": "stdout",
          "text": [
            "Found 400000 word vectors.\n",
            "Vocabulary size: 14749.\n",
            "Converted 13478 words (1271 misses)\n"
          ]
        }
      ],
      "source": [
        "embedding_dim = 50\n",
        "embeddings_index = {}\n",
        "with open(\"glove.6B.\" + str(embedding_dim) +\"d.txt\") as f:\n",
        "  for line in f:\n",
        "    word, coefs = line.split(maxsplit=1)\n",
        "    coefs = np.fromstring(coefs, \"f\", sep=\" \")\n",
        "    embeddings_index[word] = coefs\n",
        "\n",
        "print(\"Found %s word vectors.\" % len(embeddings_index))\n",
        "print(\"Vocabulary size: %s.\" % len(voc))\n",
        "\n",
        "num_tokens = len(voc) + 2\n",
        "hits = 0\n",
        "misses = 0\n",
        "max_norm = 0\n",
        "missed = []\n",
        "# Prepare embedding matrix\n",
        "embedding_matrix = np.zeros((num_tokens, embedding_dim))\n",
        "embedding_exists = np.zeros((num_tokens,), dtype=bool)\n",
        "for word, i in word_index.items():\n",
        "  embedding_vector = embeddings_index.get(word)\n",
        "  if embedding_vector is not None:\n",
        "    embedding_matrix[i] = embedding_vector\n",
        "    max_norm = max(np.sum(embedding_vector ** 2), max_norm)\n",
        "    hits += 1\n",
        "    embedding_exists[i] = True\n",
        "  else:\n",
        "    misses += 1\n",
        "    missed.append(word)\n",
        "print(\"Converted %d words (%d misses)\" % (hits, misses))\n",
        "\n",
        "# Normalize Vectors to have maximal norm 1.\n",
        "embedding_matrix /= np.sqrt(max_norm)"
      ]
    },
    {
      "cell_type": "markdown",
      "metadata": {
        "id": "yq6M01GmMnw6"
      },
      "source": [
        "We can now recover $N$ histograms of size $13478$ (the total number of words in the vocabulary) that have embeddings. These histograms are relatively sparse."
      ]
    },
    {
      "cell_type": "code",
      "execution_count": 7,
      "metadata": {
        "id": "R_PL3DQdHbTe"
      },
      "outputs": [],
      "source": [
        "def texts_to_embedding_measures(text):\n",
        "  hist = vectorizer(text)\n",
        "  A = np.zeros((len(text), embedding_matrix.shape[0]))\n",
        "  for i in range(hist.shape[0]):\n",
        "    A[i, hist[i]] = 1.0\n",
        "  A = tf.boolean_mask(A, embedding_exists, axis=1)\n",
        "  return A / tf.reduce_sum(A, axis=1)[:, None]"
      ]
    },
    {
      "cell_type": "code",
      "execution_count": 8,
      "metadata": {
        "id": "HV0l4abvjxs0"
      },
      "outputs": [],
      "source": [
        "HIST = texts_to_embedding_measures(samples) # Histograms\n",
        "HIST = jnp.array(HIST) \n",
        "X = jnp.array(tf.boolean_mask(embedding_matrix, embedding_exists, axis=0)) # embeddings for all words."
      ]
    },
    {
      "cell_type": "markdown",
      "metadata": {
        "id": "mGZfaThb555q"
      },
      "source": [
        "A final simplification layer: only keep top 2000 words. This allows to speed-up the training and only serves as simplification purposes"
      ]
    },
    {
      "cell_type": "code",
      "execution_count": 9,
      "metadata": {
        "colab": {
          "base_uri": "https://localhost:8080/"
        },
        "id": "aMLXIOV0599V",
        "outputId": "9fee7034-6462-4c21-8ae0-48a68d9daa99"
      },
      "outputs": [
        {
          "output_type": "stream",
          "name": "stdout",
          "text": [
            "400 texts supported on up to 2000 words of dimension 50\n"
          ]
        }
      ],
      "source": [
        "indices = jnp.argsort(jnp.sum(HIST, axis=0))\n",
        "nmax = 2000\n",
        "HIST = HIST[:,indices[-nmax:]]\n",
        "HIST = jnp.array(HIST)\n",
        "# Renormalize so that lines sum to 1\n",
        "HIST = HIST / jnp.sum(HIST, axis=1)[:, None]\n",
        "\n",
        "#HIST_test = HIST_test[:,indices[-nmax:]]\n",
        "#HIST_test = jnp.array(HIST_test)\n",
        "# Renormalize so that lines sum to 1\n",
        "#HIST_test = HIST_test / jnp.sum(HIST_test, axis=1)[:, None]\n",
        "\n",
        "# Drop embeddings not used.\n",
        "X = X[indices[-nmax:],:]\n",
        "print(f'{HIST.shape[0]} texts supported on up to {HIST.shape[1]} words of dimension {X.shape[1]}')"
      ]
    },
    {
      "cell_type": "code",
      "execution_count": 10,
      "metadata": {
        "colab": {
          "base_uri": "https://localhost:8080/"
        },
        "id": "w60gLnVOtmn1",
        "outputId": "90338ec7-1ee6-41c7-94d7-87e2dd130bba"
      },
      "outputs": [
        {
          "output_type": "stream",
          "name": "stdout",
          "text": [
            "Histograme shape (m,n): (400, 2000)\n",
            "Word Embedding matrix X shape (n,d) : (2000, 50)\n"
          ]
        }
      ],
      "source": [
        "print(f\"Histograme shape (m,n): {HIST.shape}\") \n",
        "print(f'Word Embedding matrix X shape (n,d) : {X.shape}')"
      ]
    },
    {
      "cell_type": "markdown",
      "source": [
        "# Supervised Word Mover Distance"
      ],
      "metadata": {
        "id": "iQyOaN7LlzLg"
      }
    },
    {
      "cell_type": "markdown",
      "source": [
        "The Supervised Word Mover Distance can be computed between document $a$ and document $b$ (that come together with their bag of word representations $d_a$ and $d_b$ respêctively) as:\n",
        "\n",
        "$$ D_{A,w}(d_a, d_b) = \\underset{T\\ge 0}{\\min} \\sum_{i,j=1}^n T_{ij} ||A(x_i - x_i)||_2^2 \\quad \\text{s.t} \\quad \\sum_{i=1}^n T_{ij} = \\tilde{d}_{a,i}, \\quad \\sum_{j=1}^n T_{ij} = \\tilde{d}_{a,j} \\quad \\forall i,j \\leq n$$\n",
        "\n",
        "where $n$ is the total number of words, $x_i$ is the embedding vector of word $i$ and $\\tilde{d}_a = \\frac{w * d_a}{w^\\top d_a}$ where $*$ denotes the elementwise hadamard product. Matrix $A \\in \\mathbb{R}^{r\\times d}$ and vector $w \\in \\mathbb{R}^n$ are two learnable parameters of the problem. \n",
        "\n",
        "In order to introduce supervision in the problem, S-WMD minimizes a loss function similar to the one use in *Neighborhood Component Analysis*: \n",
        "\n",
        "$$\\ell(A,w) = - \\sum_{a=1}^m \\log \\left( \\sum_{b: y_b = y_a}^m \\frac{\\exp\\{-D_{A,w}(d_a, d_b) \\} }{\\sum_{c \\neq a} \\exp\\{-D_{A,w}(d_a, d_c) }\\right) \\quad (1)$$\n",
        "\n",
        "where $m$ is the total number of documents. This loss function ressemble the Leave One Out error of a KNN classifier."
      ],
      "metadata": {
        "id": "TVNka85al3GA"
      }
    },
    {
      "cell_type": "markdown",
      "source": [
        "## NCA Initialization"
      ],
      "metadata": {
        "id": "AXKJhTqG-JL4"
      }
    },
    {
      "cell_type": "markdown",
      "source": [
        "Supervised Word Mover Distance uses *Neighborhood Component Analysis* together with *Word Centroid Distance* to initialize the matrix $A$. More specifically, we compute the documents centroids as: \n",
        "$$ c_a = Xd_a$$ \n",
        "where $X$ is the embedding matrix and $d_a$ the bag of word representation of document $a$.\n",
        "\n",
        "Then, the NCA algorithm finds a matrix $A$ such that the *K-Nearest Neighborhood* classification accuracy using distance metric $||A(x_i - x_i)||_2^2$ is maximized under the stochastic neighborhood process defines in equation (1)."
      ],
      "metadata": {
        "id": "xRJFYuZbln6K"
      }
    },
    {
      "cell_type": "code",
      "source": [
        "def WCD_centroids(X, d) : \n",
        "  \"\"\"Compute Word Centroid Distance centroids as d_a @ X of shape (n_documents, emb_dim)\"\"\"\n",
        "  dim = X.shape[1]\n",
        "  n = d.shape[0]\n",
        "  d_center = np.zeros((n, dim))\n",
        "  for i in range(n) :\n",
        "    d_center[i,:] = d[i] @ X\n",
        "  return d_center\n"
      ],
      "metadata": {
        "id": "FI4EUjE2-SC_"
      },
      "execution_count": 11,
      "outputs": []
    },
    {
      "cell_type": "code",
      "source": [
        "# r is the first dimension of matrix A\n",
        "r = 10\n",
        "\n",
        "nca = NeighborhoodComponentsAnalysis(n_components = r, random_state=42,max_iter=1000)\n",
        "\n",
        "centroids = WCD_centroids(X, HIST)\n",
        "nca.fit(centroids, np.array(labels))\n",
        "A = jnp.asarray(nca.components_)\n",
        "A /= jnp.linalg.norm(A)\n",
        "\n",
        "w = jnp.ones(X.shape[0])"
      ],
      "metadata": {
        "id": "m7zlLOaX-L04"
      },
      "execution_count": 12,
      "outputs": []
    },
    {
      "cell_type": "markdown",
      "source": [
        "### Starting embedding"
      ],
      "metadata": {
        "id": "ndaQi8eo13FF"
      }
    },
    {
      "cell_type": "markdown",
      "source": [
        "We provide a visualization of the learned matrix by computing $D_(A,w)$ for a set of document and project it to a $2$ dimensional space using **TSNE**."
      ],
      "metadata": {
        "id": "bpzVozVFnIL-"
      }
    },
    {
      "cell_type": "code",
      "source": [
        "sink_div = jax.jit(jax.vmap(\n",
        "    lambda geom, HIST_1, HIST_2, : jax.vmap(\n",
        "        lambda geom, hist_1, hist_2 : sinkhorn_divergence(\n",
        "          PointCloud, geom, geom,  epsilon = 5e-1,\n",
        "          a= hist_1, \n",
        "          b= hist_2,\n",
        "          sinkhorn_kwargs = {'threshold' : 1e-2},\n",
        "          ).divergence,\n",
        "        in_axes=[None, 0, None])(geom, HIST_1, HIST_2),\n",
        "    in_axes=[ None, None,0]))"
      ],
      "metadata": {
        "id": "fHjRcXIJF0HT"
      },
      "execution_count": 13,
      "outputs": []
    },
    {
      "cell_type": "code",
      "source": [
        "#We select 100 texts (20 texts per label) to test the embedding\n",
        "indices = []\n",
        "for j in np.unique(labels) : \n",
        "    indices.extend(np.where(labels == j)[0][:20].tolist())\n",
        "indices = jnp.asarray(indices)"
      ],
      "metadata": {
        "id": "N8oXZ0M416X4"
      },
      "execution_count": 14,
      "outputs": []
    },
    {
      "cell_type": "code",
      "source": [
        "HIST_tilde = (w * HIST ) / w.reshape(1,-1).dot(HIST.T).repeat(X.shape[0],axis=0).T\n",
        "lin_trans = np.matmul(X, A.T) "
      ],
      "metadata": {
        "id": "vYJd3maZ16X5"
      },
      "execution_count": 28,
      "outputs": []
    },
    {
      "cell_type": "code",
      "source": [
        "%%time\n",
        "pairwise_dist = np.array(sink_div(lin_trans, HIST_tilde[indices], HIST_tilde[indices]))"
      ],
      "metadata": {
        "colab": {
          "base_uri": "https://localhost:8080/"
        },
        "id": "wr4jBhR72L8Z",
        "outputId": "abeb5cb6-b460-4b78-a0d3-54ceb4e0fed4"
      },
      "execution_count": 37,
      "outputs": [
        {
          "output_type": "stream",
          "name": "stdout",
          "text": [
            "CPU times: user 6min 2s, sys: 520 ms, total: 6min 3s\n",
            "Wall time: 6min 22s\n"
          ]
        }
      ]
    },
    {
      "cell_type": "code",
      "source": [
        "tsne = TSNE(learning_rate = 'auto', n_iter = 5000)\n",
        "S_wmd_emb = tsne.fit_transform(np.array(pairwise_dist))"
      ],
      "metadata": {
        "colab": {
          "base_uri": "https://localhost:8080/"
        },
        "outputId": "2ad44aca-c4a2-41e2-bbdb-c88c6caa99a0",
        "id": "f-4YDs_A16X5"
      },
      "execution_count": 38,
      "outputs": [
        {
          "output_type": "stream",
          "name": "stderr",
          "text": [
            "/usr/local/lib/python3.7/dist-packages/sklearn/manifold/_t_sne.py:783: FutureWarning: The default initialization in TSNE will change from 'random' to 'pca' in 1.2.\n",
            "  FutureWarning,\n"
          ]
        }
      ]
    },
    {
      "cell_type": "code",
      "source": [
        "labels = jnp.array(labels)\n",
        "plt.figure(figsize = (12,6))\n",
        "for j in np.unique(labels[jnp.array(indices)]) : \n",
        "  idx = np.where(labels[jnp.array(indices)] == j)\n",
        "\n",
        "  plt.scatter(S_wmd_emb[idx,0], S_wmd_emb[idx,1], label = j)\n",
        "#plt.legend(frameon=False, loc = 'upper left', bbox_to_anchor = (1.05,1),borderaxespad=0, mode = 'extend')\n",
        "plt.axis('off')"
      ],
      "metadata": {
        "colab": {
          "base_uri": "https://localhost:8080/",
          "height": 374
        },
        "outputId": "70907739-f65f-4a0d-ba97-b06f2be2edbe",
        "id": "GxTK1nPe16X5"
      },
      "execution_count": 42,
      "outputs": [
        {
          "output_type": "execute_result",
          "data": {
            "text/plain": [
              "(-5.34089720249176, 8.010186314582825, -6.944567012786865, 7.135834980010986)"
            ]
          },
          "metadata": {},
          "execution_count": 42
        },
        {
          "output_type": "display_data",
          "data": {
            "text/plain": [
              "<Figure size 864x432 with 1 Axes>"
            ],
            "image/png": "[encoded data removed]"
          },
          "metadata": {
            "needs_background": "light"
          }
        }
      ]
    },
    {
      "cell_type": "markdown",
      "source": [
        "## Optimization of S-WMD"
      ],
      "metadata": {
        "id": "GekX7NH0_Rnu"
      }
    },
    {
      "cell_type": "markdown",
      "metadata": {
        "id": "aGVYhkRYhrN6"
      },
      "source": [
        "Pseudo-code \\\\\n",
        "![pseudocodeSWMD.png](data:image/png;base64,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)"
      ]
    },
    {
      "cell_type": "markdown",
      "source": [
        "S-WMD is thus a coupling of an Optimal Transport problem (learning $D_{A,W}$) and an optimization problem (minimizing $\\ell(A,w)$ in its argument). \n",
        "\n",
        "We can use `ott-jax` in order to compute fastly the OT distance using the Sinkhorn alogrithm, and directly compute the loss function. We use `jax` automatic differenciation in order to directly compute the gradients of the loss with respect to $A$ and $w$, and optimize using *Stochastic Gradient Descent*. "
      ],
      "metadata": {
        "id": "C18cGf-FkX6a"
      }
    },
    {
      "cell_type": "code",
      "source": [
        "@jax.jit\n",
        "def WCD_matrix(A, centroids) : \n",
        "    \"\"\"Compute Word Centroid Distance cost matrix\"\"\"\n",
        "    dist_func = jax.jit(jax.vmap(\n",
        "        lambda Centroids_1, Centroids_2, A: jax.vmap(\n",
        "            lambda centroid_1, centroid_2, A: -jnp.linalg.norm(\n",
        "                A @ centroid_1- \n",
        "                A @ centroid_2,\n",
        "                ord = 2\n",
        "            )**2,\n",
        "            in_axes=[0, None, None])(Centroids_1, Centroids_2, A),\n",
        "        in_axes=[None, 0, None] ))\n",
        "    \n",
        "    return dist_func(centroids, centroids, A)\n",
        "\n",
        "\n",
        "@jax.jit\n",
        "def loss_func(D_ot_i, valid_nn) : \n",
        "      dmin = jnp.min(D_ot_i)\n",
        "      p_ij = jnp.exp(D_ot_i+dmin) +1e-10\n",
        "      p_ij = p_ij/jnp.sum(p_ij)\n",
        "      \n",
        "      p_i = jnp.sum(p_ij[valid_nn]) +1e-10# to avoid division by 0\n",
        "\n",
        "      return -jnp.log(p_i)\n",
        "\n",
        "@jax.jit\n",
        "def d_tilde(w,d) : \n",
        "  return ((w*d) / (w*d).sum()) + 1e-10 # To avoid nans in grad(w)\n",
        "\n",
        "def batch_loss(\n",
        "             X: jnp.ndarray,\n",
        "             d: jnp.ndarray,\n",
        "             A: jnp.ndarray,\n",
        "             w: jnp.ndarray,\n",
        "             labels,\n",
        "             neighbors,\n",
        "             batch):\n",
        "    \"\"\"Compute the S-WMD loss for one batch of data\"\"\"\n",
        "    loss = 0\n",
        "    AX = jnp.matmul(X,A.T)\n",
        "    for i in batch : \n",
        "      x = labels[neighbors[i]]\n",
        "      y = labels[i]\n",
        "      valid_nn = jnp.where(x==y)\n",
        "\n",
        "      D_ot_i = jitted_multi_ot(AX, d_tilde(w, d[i]), jnp.asarray([d_tilde(w, d[j]) for j in neighbors[i]]))\n",
        "      loss += loss_func(D_ot_i, valid_nn)\n",
        "      del D_ot_i \n",
        "    return loss"
      ],
      "metadata": {
        "id": "zdVeUNBXpIhd"
      },
      "execution_count": 13,
      "outputs": []
    },
    {
      "cell_type": "code",
      "source": [
        "s_wmd_vg = jax.value_and_grad(\n",
        "    (lambda X, HIST, A, w, labels, neighbors, batch : \n",
        "    batch_loss(X, HIST, A, w, labels, neighbors, batch = batch)), argnums = [2,3])\n",
        "\n",
        "jitted_multi_ot = jax.jit(jax.vmap(\n",
        "        lambda AX, HIST_i, HISTS_j: sinkhorn_divergence(\n",
        "          PointCloud, AX, AX,  \n",
        "          cost_fn=ott.geometry.costs.Euclidean(), epsilon = 2e-1,\n",
        "          a= HIST_i, \n",
        "          b= HISTS_j,\n",
        "          sinkhorn_kwargs = {'threshold' : 1e-2, 'momentum': 1.3, 'max_iterations':200},\n",
        "          ).divergence,\n",
        "        in_axes = [None, None, 0]))"
      ],
      "metadata": {
        "id": "GeUQJvUJrDZE"
      },
      "execution_count": 23,
      "outputs": []
    },
    {
      "cell_type": "markdown",
      "source": [
        "To speed up training, S-WMD optimization defines a set of neighbors for each document in the training batch. This set of neighbors is found by taking documents that have a minimal distance from centroids: \n",
        "$$||A(c_a - c_b)||_2^2 $$\n",
        "We can consider the set of $K$ most close neighbors using this distance metric. The higher the number of neighbors and the more accurate the optimization problem is at the cost of training time."
      ],
      "metadata": {
        "id": "B_cg8_xBn-Wd"
      }
    },
    {
      "cell_type": "code",
      "execution_count": 27,
      "metadata": {
        "id": "AqBTjsiCSyiK"
      },
      "outputs": [],
      "source": [
        "d = X.shape[1] #embedding dim\n",
        "n = X.shape[0] #Number of words\n",
        "w = jnp.ones(n) #Initialize w with ones\n",
        "\n",
        "labels = jnp.array(labels)\n",
        "\n",
        "lr_A = 1 #Learning rate for A\n",
        "lr_w = 1 #Learning rate for w"
      ]
    },
    {
      "cell_type": "code",
      "execution_count": 28,
      "metadata": {
        "id": "CzzFapS85SF1"
      },
      "outputs": [],
      "source": [
        "top_k = 20 #Number of neighbors to consider\n",
        "batch_size = 4 #Number of documents per batch. A higher batch size leads to jax memory error (why ?)\n",
        "max_iter = 200 \n"
      ]
    },
    {
      "cell_type": "code",
      "source": [
        "total_loss = 0\n",
        "indices = jnp.arange(HIST.shape[0])\n",
        "rng = jax.random.PRNGKey(0)\n",
        "rngs = jax.random.split(rng, max_iter)\n",
        "indices = jnp.arange(HIST.shape[0])\n",
        "pbar = tqdm(range(0,max_iter), desc = 'S-WMD Loss')\n",
        "\n",
        "for it in pbar : \n",
        "\n",
        "  wcd_matrix = WCD_matrix(A, centroids)\n",
        "  neighbors = jax.lax.top_k(wcd_matrix, top_k)[1][1:]\n",
        "  del wcd_matrix\n",
        "\n",
        "  batch = jax.random.choice(rngs[it], indices, (batch_size,))\n",
        "  loss, (dA, dw) = s_wmd_vg(X, HIST, A, w, labels, neighbors, batch = batch)\n",
        "  A -= lr_A * dA\n",
        "  w -= lr_w * dw\n",
        "\n",
        "  total_loss += loss.item()\n",
        "  pbar.set_description(f'S-WMD Loss: {round(total_loss / (it+1), 4)}')"
      ],
      "metadata": {
        "colab": {
          "base_uri": "https://localhost:8080/",
          "height": 49,
          "referenced_widgets": [
            "d8a34c11225541d1be5e729bf29e28f0",
            "d773578ca69f47058ba5b83debce227e",
            "4155b077ff9e4d678af75452d9428839",
            "3fc64f30fc434378808fb44c9233c420",
            "8ad00229f9b343b7810f4b7f8485c314",
            "a14c51e4a2454a79b5a6a80883c2271e",
            "17bc3151f79645a7a0d6768127852187",
            "31576f3ea4f94b99917c216859281549",
            "240ab47291004f649824995b004ee378",
            "7d87c80e6915440293225b57de269411",
            "5ef062b968b64c709c8e955d9c29e581"
          ]
        },
        "id": "U0nZqlxicdiM",
        "outputId": "c04e928f-dac9-4a7d-a1d2-2d5ddd32a1b0"
      },
      "execution_count": 29,
      "outputs": [
        {
          "output_type": "display_data",
          "data": {
            "text/plain": [
              "S-WMD Loss:   0%|          | 0/200 [00:00<?, ?it/s]"
            ],
            "application/vnd.jupyter.widget-view+json": {
              "version_major": 2,
              "version_minor": 0,
              "model_id": "d8a34c11225541d1be5e729bf29e28f0"
            }
          },
          "metadata": {}
        }
      ]
    },
    {
      "cell_type": "markdown",
      "source": [
        "## Looking at embedding result"
      ],
      "metadata": {
        "id": "8jfzSMlsTly9"
      }
    },
    {
      "cell_type": "code",
      "source": [
        "sink_div = jax.jit(jax.vmap(\n",
        "    lambda geom, HIST_1, HIST_2, : jax.vmap(\n",
        "        lambda geom, hist_1, hist_2 : sinkhorn_divergence(\n",
        "          PointCloud, geom, geom,  epsilon = 5e-1,\n",
        "          a= hist_1, \n",
        "          b= hist_2,\n",
        "          sinkhorn_kwargs = {'threshold' : 1e-2},\n",
        "          ).divergence,\n",
        "        in_axes=[None, 0, None])(geom, HIST_1, HIST_2),\n",
        "    in_axes=[ None, None,0]))"
      ],
      "metadata": {
        "id": "nIi1acY3G8Ly"
      },
      "execution_count": 30,
      "outputs": []
    },
    {
      "cell_type": "code",
      "source": [
        "#We select 100 texts (20 texts per label) to test the embedding\n",
        "indices = []\n",
        "for j in np.unique(labels) : \n",
        "    indices.extend(np.where(labels == j)[0][:20].tolist())\n",
        "indices = jnp.asarray(indices)"
      ],
      "metadata": {
        "id": "ejMzaoCxyiU6"
      },
      "execution_count": 31,
      "outputs": []
    },
    {
      "cell_type": "code",
      "source": [
        "HIST_tilde = (w * HIST ) / w.reshape(1,-1).dot(HIST.T).repeat(X.shape[0],axis=0).T\n",
        "lin_trans = np.matmul(X, A.T) \n",
        "pairwise_dist = sink_div(lin_trans, HIST[indices], HIST[indices])"
      ],
      "metadata": {
        "id": "p8vQ5_BRPr9T"
      },
      "execution_count": 32,
      "outputs": []
    },
    {
      "cell_type": "code",
      "source": [
        "pairwise_dist = np.array(pairwise_dist)\n",
        "pairwise_dist[np.eye(pairwise_dist.shape[0], dtype = bool)]  = 0"
      ],
      "metadata": {
        "id": "ZfS7UA6-CL1r"
      },
      "execution_count": 33,
      "outputs": []
    },
    {
      "cell_type": "code",
      "source": [
        "tsne = TSNE(init = 'pca', learning_rate = 'auto', n_iter = 5000)\n",
        "S_wmd_emb = tsne.fit_transform(np.array(pairwise_dist))"
      ],
      "metadata": {
        "colab": {
          "base_uri": "https://localhost:8080/"
        },
        "id": "WObTUJdlle4C",
        "outputId": "f7801dfc-1c51-4d27-f048-20147a9b4faf"
      },
      "execution_count": 34,
      "outputs": [
        {
          "output_type": "stream",
          "name": "stderr",
          "text": [
            "/usr/local/lib/python3.7/dist-packages/sklearn/manifold/_t_sne.py:986: FutureWarning: The PCA initialization in TSNE will change to have the standard deviation of PC1 equal to 1e-4 in 1.2. This will ensure better convergence.\n",
            "  FutureWarning,\n"
          ]
        }
      ]
    },
    {
      "cell_type": "code",
      "source": [
        "plt.figure(figsize = (12,6))\n",
        "for j in np.unique(labels[jnp.array(indices)]) : \n",
        "  idx = np.where(labels[jnp.array(indices)] == j)\n",
        "\n",
        "  plt.scatter(S_wmd_emb[idx,0], S_wmd_emb[idx,1], label = j)\n",
        "_=plt.axis('off')"
      ],
      "metadata": {
        "colab": {
          "base_uri": "https://localhost:8080/",
          "height": 357
        },
        "id": "5ucq8CKOlkzJ",
        "outputId": "4d965e2c-e2a9-4e44-f1ce-2ea179566d5a"
      },
      "execution_count": 37,
      "outputs": [
        {
          "output_type": "display_data",
          "data": {
            "text/plain": [
              "<Figure size 864x432 with 1 Axes>"
            ],
            "image/png": "[encoded data removed]"
          },
          "metadata": {
            "needs_background": "light"
          }
        }
      ]
    },
    {
      "cell_type": "markdown",
      "source": [
        "The algorithm seems to note have run for enough iterations, the solution found is quite similar to the original solution found by NCA. Increasing the number of neighbors or increasing the number of Sinkhorn's iteration should lead to better result at the cost of increasing computation power"
      ],
      "metadata": {
        "id": "bfg1KJnfnpRk"
      }
    }
  ],
  "metadata": {
    "accelerator": "GPU",
    "colab": {
      "collapsed_sections": [],
      "name": "OT_SWMD.ipynb",
      "provenance": [],
      "toc_visible": true
    },
    "kernelspec": {
      "display_name": "Python 3",
      "name": "python3"
    },
    "language_info": {
      "name": "python"
    },
    "widgets": {
      "application/vnd.jupyter.widget-state+json": {
        "d8a34c11225541d1be5e729bf29e28f0": {
          "model_module": "@jupyter-widgets/controls",
          "model_name": "HBoxModel",
          "model_module_version": "1.5.0",
          "state": {
            "_dom_classes": [],
            "_model_module": "@jupyter-widgets/controls",
            "_model_module_version": "1.5.0",
            "_model_name": "HBoxModel",
            "_view_count": null,
            "_view_module": "@jupyter-widgets/controls",
            "_view_module_version": "1.5.0",
            "_view_name": "HBoxView",
            "box_style": "",
            "children": [
              "IPY_MODEL_d773578ca69f47058ba5b83debce227e",
              "IPY_MODEL_4155b077ff9e4d678af75452d9428839",
              "IPY_MODEL_3fc64f30fc434378808fb44c9233c420"
            ],
            "layout": "IPY_MODEL_8ad00229f9b343b7810f4b7f8485c314"
          }
        },
        "d773578ca69f47058ba5b83debce227e": {
          "model_module": "@jupyter-widgets/controls",
          "model_name": "HTMLModel",
          "model_module_version": "1.5.0",
          "state": {
            "_dom_classes": [],
            "_model_module": "@jupyter-widgets/controls",
            "_model_module_version": "1.5.0",
            "_model_name": "HTMLModel",
            "_view_count": null,
            "_view_module": "@jupyter-widgets/controls",
            "_view_module_version": "1.5.0",
            "_view_name": "HTMLView",
            "description": "",
            "description_tooltip": null,
            "layout": "IPY_MODEL_a14c51e4a2454a79b5a6a80883c2271e",
            "placeholder": "​",
            "style": "IPY_MODEL_17bc3151f79645a7a0d6768127852187",
            "value": "S-WMD Loss: 1.8452: 100%"
          }
        },
        "4155b077ff9e4d678af75452d9428839": {
          "model_module": "@jupyter-widgets/controls",
          "model_name": "FloatProgressModel",
          "model_module_version": "1.5.0",
          "state": {
            "_dom_classes": [],
            "_model_module": "@jupyter-widgets/controls",
            "_model_module_version": "1.5.0",
            "_model_name": "FloatProgressModel",
            "_view_count": null,
            "_view_module": "@jupyter-widgets/controls",
            "_view_module_version": "1.5.0",
            "_view_name": "ProgressView",
            "bar_style": "success",
            "description": "",
            "description_tooltip": null,
            "layout": "IPY_MODEL_31576f3ea4f94b99917c216859281549",
            "max": 200,
            "min": 0,
            "orientation": "horizontal",
            "style": "IPY_MODEL_240ab47291004f649824995b004ee378",
            "value": 200
          }
        },
        "3fc64f30fc434378808fb44c9233c420": {
          "model_module": "@jupyter-widgets/controls",
          "model_name": "HTMLModel",
          "model_module_version": "1.5.0",
          "state": {
            "_dom_classes": [],
            "_model_module": "@jupyter-widgets/controls",
            "_model_module_version": "1.5.0",
            "_model_name": "HTMLModel",
            "_view_count": null,
            "_view_module": "@jupyter-widgets/controls",
            "_view_module_version": "1.5.0",
            "_view_name": "HTMLView",
            "description": "",
            "description_tooltip": null,
            "layout": "IPY_MODEL_7d87c80e6915440293225b57de269411",
            "placeholder": "​",
            "style": "IPY_MODEL_5ef062b968b64c709c8e955d9c29e581",
            "value": " 200/200 [24:48&lt;00:00,  7.41s/it]"
          }
        },
        "8ad00229f9b343b7810f4b7f8485c314": {
          "model_module": "@jupyter-widgets/base",
          "model_name": "LayoutModel",
          "model_module_version": "1.2.0",
          "state": {
            "_model_module": "@jupyter-widgets/base",
            "_model_module_version": "1.2.0",
            "_model_name": "LayoutModel",
            "_view_count": null,
            "_view_module": "@jupyter-widgets/base",
            "_view_module_version": "1.2.0",
            "_view_name": "LayoutView",
            "align_content": null,
            "align_items": null,
            "align_self": null,
            "border": null,
            "bottom": null,
            "display": null,
            "flex": null,
            "flex_flow": null,
            "grid_area": null,
            "grid_auto_columns": null,
            "grid_auto_flow": null,
            "grid_auto_rows": null,
            "grid_column": null,
            "grid_gap": null,
            "grid_row": null,
            "grid_template_areas": null,
            "grid_template_columns": null,
            "grid_template_rows": null,
            "height": null,
            "justify_content": null,
            "justify_items": null,
            "left": null,
            "margin": null,
            "max_height": null,
            "max_width": null,
            "min_height": null,
            "min_width": null,
            "object_fit": null,
            "object_position": null,
            "order": null,
            "overflow": null,
            "overflow_x": null,
            "overflow_y": null,
            "padding": null,
            "right": null,
            "top": null,
            "visibility": null,
            "width": null
          }
        },
        "a14c51e4a2454a79b5a6a80883c2271e": {
          "model_module": "@jupyter-widgets/base",
          "model_name": "LayoutModel",
          "model_module_version": "1.2.0",
          "state": {
            "_model_module": "@jupyter-widgets/base",
            "_model_module_version": "1.2.0",
            "_model_name": "LayoutModel",
            "_view_count": null,
            "_view_module": "@jupyter-widgets/base",
            "_view_module_version": "1.2.0",
            "_view_name": "LayoutView",
            "align_content": null,
            "align_items": null,
            "align_self": null,
            "border": null,
            "bottom": null,
            "display": null,
            "flex": null,
            "flex_flow": null,
            "grid_area": null,
            "grid_auto_columns": null,
            "grid_auto_flow": null,
            "grid_auto_rows": null,
            "grid_column": null,
            "grid_gap": null,
            "grid_row": null,
            "grid_template_areas": null,
            "grid_template_columns": null,
            "grid_template_rows": null,
            "height": null,
            "justify_content": null,
            "justify_items": null,
            "left": null,
            "margin": null,
            "max_height": null,
            "max_width": null,
            "min_height": null,
            "min_width": null,
            "object_fit": null,
            "object_position": null,
            "order": null,
            "overflow": null,
            "overflow_x": null,
            "overflow_y": null,
            "padding": null,
            "right": null,
            "top": null,
            "visibility": null,
            "width": null
          }
        },
        "17bc3151f79645a7a0d6768127852187": {
          "model_module": "@jupyter-widgets/controls",
          "model_name": "DescriptionStyleModel",
          "model_module_version": "1.5.0",
          "state": {
            "_model_module": "@jupyter-widgets/controls",
            "_model_module_version": "1.5.0",
            "_model_name": "DescriptionStyleModel",
            "_view_count": null,
            "_view_module": "@jupyter-widgets/base",
            "_view_module_version": "1.2.0",
            "_view_name": "StyleView",
            "description_width": ""
          }
        },
        "31576f3ea4f94b99917c216859281549": {
          "model_module": "@jupyter-widgets/base",
          "model_name": "LayoutModel",
          "model_module_version": "1.2.0",
          "state": {
            "_model_module": "@jupyter-widgets/base",
            "_model_module_version": "1.2.0",
            "_model_name": "LayoutModel",
            "_view_count": null,
            "_view_module": "@jupyter-widgets/base",
            "_view_module_version": "1.2.0",
            "_view_name": "LayoutView",
            "align_content": null,
            "align_items": null,
            "align_self": null,
            "border": null,
            "bottom": null,
            "display": null,
            "flex": null,
            "flex_flow": null,
            "grid_area": null,
            "grid_auto_columns": null,
            "grid_auto_flow": null,
            "grid_auto_rows": null,
            "grid_column": null,
            "grid_gap": null,
            "grid_row": null,
            "grid_template_areas": null,
            "grid_template_columns": null,
            "grid_template_rows": null,
            "height": null,
            "justify_content": null,
            "justify_items": null,
            "left": null,
            "margin": null,
            "max_height": null,
            "max_width": null,
            "min_height": null,
            "min_width": null,
            "object_fit": null,
            "object_position": null,
            "order": null,
            "overflow": null,
            "overflow_x": null,
            "overflow_y": null,
            "padding": null,
            "right": null,
            "top": null,
            "visibility": null,
            "width": null
          }
        },
        "240ab47291004f649824995b004ee378": {
          "model_module": "@jupyter-widgets/controls",
          "model_name": "ProgressStyleModel",
          "model_module_version": "1.5.0",
          "state": {
            "_model_module": "@jupyter-widgets/controls",
            "_model_module_version": "1.5.0",
            "_model_name": "ProgressStyleModel",
            "_view_count": null,
            "_view_module": "@jupyter-widgets/base",
            "_view_module_version": "1.2.0",
            "_view_name": "StyleView",
            "bar_color": null,
            "description_width": ""
          }
        },
        "7d87c80e6915440293225b57de269411": {
          "model_module": "@jupyter-widgets/base",
          "model_name": "LayoutModel",
          "model_module_version": "1.2.0",
          "state": {
            "_model_module": "@jupyter-widgets/base",
            "_model_module_version": "1.2.0",
            "_model_name": "LayoutModel",
            "_view_count": null,
            "_view_module": "@jupyter-widgets/base",
            "_view_module_version": "1.2.0",
            "_view_name": "LayoutView",
            "align_content": null,
            "align_items": null,
            "align_self": null,
            "border": null,
            "bottom": null,
            "display": null,
            "flex": null,
            "flex_flow": null,
            "grid_area": null,
            "grid_auto_columns": null,
            "grid_auto_flow": null,
            "grid_auto_rows": null,
            "grid_column": null,
            "grid_gap": null,
            "grid_row": null,
            "grid_template_areas": null,
            "grid_template_columns": null,
            "grid_template_rows": null,
            "height": null,
            "justify_content": null,
            "justify_items": null,
            "left": null,
            "margin": null,
            "max_height": null,
            "max_width": null,
            "min_height": null,
            "min_width": null,
            "object_fit": null,
            "object_position": null,
            "order": null,
            "overflow": null,
            "overflow_x": null,
            "overflow_y": null,
            "padding": null,
            "right": null,
            "top": null,
            "visibility": null,
            "width": null
          }
        },
        "5ef062b968b64c709c8e955d9c29e581": {
          "model_module": "@jupyter-widgets/controls",
          "model_name": "DescriptionStyleModel",
          "model_module_version": "1.5.0",
          "state": {
            "_model_module": "@jupyter-widgets/controls",
            "_model_module_version": "1.5.0",
            "_model_name": "DescriptionStyleModel",
            "_view_count": null,
            "_view_module": "@jupyter-widgets/base",
            "_view_module_version": "1.2.0",
            "_view_name": "StyleView",
            "description_width": ""
          }
        }
      }
    }
  },
  "nbformat": 4,
  "nbformat_minor": 0
}