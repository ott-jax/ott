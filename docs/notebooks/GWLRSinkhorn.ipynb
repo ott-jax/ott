{
 "cells": [
  {
   "cell_type": "markdown",
   "metadata": {
    "id": "E_-S77MmiOou"
   },
   "source": [
    "# Low-Rank Gromov-Wasserstein\n",
    "\n",
    "We try in this colab the low-rank (LR) Gromov-Wasserstein Solver, proposed by <cite data-cite=\"scetbon:22\">Scetbon et al.</cite>, a follow up to the LR Sinkhorn solver in <cite data-cite=\"scetbon:21\">Scetbon et al.</cite>."
   ]
  },
  {
   "cell_type": "code",
   "execution_count": 1,
   "metadata": {},
   "outputs": [],
   "source": [
    "%load_ext autoreload\n",
    "%autoreload 2"
   ]
  },
  {
   "cell_type": "code",
   "execution_count": 2,
   "metadata": {},
   "outputs": [],
   "source": [
    "import sys\n",
    "\n",
    "if \"google.colab\" in sys.modules:\n",
    "    !pip install -q git+https://github.com/ott-jax/ott@main"
   ]
  },
  {
   "cell_type": "code",
   "execution_count": 3,
   "metadata": {
    "executionInfo": {
     "elapsed": 1,
     "status": "ok",
     "timestamp": 1642798297986,
     "user": {
      "displayName": "Marco Cuturi",
      "photoUrl": "https://lh3.googleusercontent.com/a-/AOh14Gj0UBKLFbdRpYhnFiILEQ2AgXibacTBJBwmBsE4=s64",
      "userId": "04861232750708981029"
     },
     "user_tz": -60
    },
    "id": "q9wY2bCeUIB0"
   },
   "outputs": [],
   "source": [
    "import jax.numpy as jnp\n",
    "import jax\n",
    "import ott\n",
    "import matplotlib.pyplot as plt"
   ]
  },
  {
   "cell_type": "code",
   "execution_count": 4,
   "metadata": {
    "executionInfo": {
     "elapsed": 3060,
     "status": "ok",
     "timestamp": 1642798306380,
     "user": {
      "displayName": "Marco Cuturi",
      "photoUrl": "https://lh3.googleusercontent.com/a-/AOh14Gj0UBKLFbdRpYhnFiILEQ2AgXibacTBJBwmBsE4=s64",
      "userId": "04861232750708981029"
     },
     "user_tz": -60
    },
    "id": "PfiRNdhVW8hT"
   },
   "outputs": [
    {
     "name": "stderr",
     "output_type": "stream",
     "text": [
      "WARNING:absl:No GPU/TPU found, falling back to CPU. (Set TF_CPP_MIN_LOG_LEVEL=0 and rerun for more info.)\n"
     ]
    }
   ],
   "source": [
    "def create_points(rng, n, m, d1, d2):\n",
    "    rngs = jax.random.split(rng, 5)\n",
    "    x = jax.random.uniform(rngs[0], (n, d1))\n",
    "    y = jax.random.uniform(rngs[1], (m, d2))\n",
    "    a = jax.random.uniform(rngs[2], (n,))\n",
    "    b = jax.random.uniform(rngs[3], (m,))\n",
    "    a = a / jnp.sum(a)\n",
    "    b = b / jnp.sum(b)\n",
    "    z = jax.random.uniform(rngs[4], (m, d1))\n",
    "    return x, y, a, b, z\n",
    "\n",
    "\n",
    "rng = jax.random.PRNGKey(0)\n",
    "n, m, d1, d2 = 24, 17, 2, 3\n",
    "x, y, a, b, z = create_points(rng, n, m, d1, d2)"
   ]
  },
  {
   "cell_type": "markdown",
   "metadata": {
    "id": "y4aQGprB_oeW"
   },
   "source": [
    "Create two toy point clouds of heterogeneous size, and add a third geometry to provide a fused problem (see <cite data-cite=\"vayer:20\">Vayer et al.</cite>).\n"
   ]
  },
  {
   "cell_type": "code",
   "execution_count": 5,
   "metadata": {
    "executionInfo": {
     "elapsed": 53,
     "status": "ok",
     "timestamp": 1642798306574,
     "user": {
      "displayName": "Marco Cuturi",
      "photoUrl": "https://lh3.googleusercontent.com/a-/AOh14Gj0UBKLFbdRpYhnFiILEQ2AgXibacTBJBwmBsE4=s64",
      "userId": "04861232750708981029"
     },
     "user_tz": -60
    },
    "id": "pN_f36ACALET"
   },
   "outputs": [],
   "source": [
    "geom_xx = ott.geometry.pointcloud.PointCloud(x)\n",
    "geom_yy = ott.geometry.pointcloud.PointCloud(y)\n",
    "# below `z` is there only to create n x m geometry\n",
    "geom_xy = ott.geometry.pointcloud.PointCloud(x, z)\n",
    "prob = ott.core.quad_problems.QuadraticProblem(\n",
    "    geom_xx,\n",
    "    geom_yy,\n",
    "    geom_xy=geom_xy,\n",
    "    a=a,\n",
    "    b=b,\n",
    ")"
   ]
  },
  {
   "cell_type": "markdown",
   "metadata": {
    "id": "dS49krqd_weJ"
   },
   "source": [
    "Solve the problem using the Low-Rank Sinkhorn solver."
   ]
  },
  {
   "cell_type": "code",
   "execution_count": 6,
   "metadata": {
    "executionInfo": {
     "elapsed": 10229,
     "status": "ok",
     "timestamp": 1642798316999,
     "user": {
      "displayName": "Marco Cuturi",
      "photoUrl": "https://lh3.googleusercontent.com/a-/AOh14Gj0UBKLFbdRpYhnFiILEQ2AgXibacTBJBwmBsE4=s64",
      "userId": "04861232750708981029"
     },
     "user_tz": -60
    },
    "id": "bVmhqrCdkXxw"
   },
   "outputs": [],
   "source": [
    "solver = ott.core.gromov_wasserstein.GromovWasserstein(rank=6)\n",
    "ot_gwlr = solver(prob)"
   ]
  },
  {
   "cell_type": "markdown",
   "metadata": {
    "id": "vxDoBrusUHmq"
   },
   "source": [
    "Run it with entropic-GW for the sake of comparison"
   ]
  },
  {
   "cell_type": "code",
   "execution_count": 7,
   "metadata": {
    "executionInfo": {
     "elapsed": 5119,
     "status": "ok",
     "timestamp": 1642798322374,
     "user": {
      "displayName": "Marco Cuturi",
      "photoUrl": "https://lh3.googleusercontent.com/a-/AOh14Gj0UBKLFbdRpYhnFiILEQ2AgXibacTBJBwmBsE4=s64",
      "userId": "04861232750708981029"
     },
     "user_tz": -60
    },
    "id": "i6viNhAp8txm"
   },
   "outputs": [],
   "source": [
    "solver = ott.core.gromov_wasserstein.GromovWasserstein(epsilon=0.05)\n",
    "ot_gw = solver(prob)"
   ]
  },
  {
   "cell_type": "markdown",
   "metadata": {
    "id": "w35fLv3oIwLW"
   },
   "source": [
    "One can notice that their outputs are quantitatively similar."
   ]
  },
  {
   "cell_type": "code",
   "execution_count": 8,
   "metadata": {
    "colab": {
     "height": 545
    },
    "executionInfo": {
     "elapsed": 785,
     "status": "ok",
     "timestamp": 1642798323297,
     "user": {
      "displayName": "Marco Cuturi",
      "photoUrl": "https://lh3.googleusercontent.com/a-/AOh14Gj0UBKLFbdRpYhnFiILEQ2AgXibacTBJBwmBsE4=s64",
      "userId": "04861232750708981029"
     },
     "user_tz": -60
    },
    "id": "HMfUh6uE8kdG",
    "outputId": "3feef227-b93c-4783-fba0-09e366f416ea"
   },
   "outputs": [
    {
     "data": {
      "image/png": "[encoded data removed]",
      "text/plain": [
       "<Figure size 432x288 with 2 Axes>"
      ]
     },
     "metadata": {
      "needs_background": "light"
     },
     "output_type": "display_data"
    },
    {
     "data": {
      "image/png": "[encoded data removed]",
      "text/plain": [
       "<Figure size 432x288 with 2 Axes>"
      ]
     },
     "metadata": {
      "needs_background": "light"
     },
     "output_type": "display_data"
    }
   ],
   "source": [
    "def plot_ot(ot, leg):\n",
    "    plt.imshow(ot.matrix, cmap=\"Purples\")\n",
    "    plt.colorbar()\n",
    "    plt.title(leg + \" cost: \" + str(ot.costs[ot.costs > 0][-1]))\n",
    "    plt.show()\n",
    "\n",
    "\n",
    "plot_ot(ot_gwlr, \"Low rank\")\n",
    "plot_ot(ot_gw, \"Entropic\")"
   ]
  }
 ],
 "metadata": {
  "colab": {
   "collapsed_sections": [],
   "last_runtime": {
    "build_target": "//learning/deepmind/public/tools/ml_python:ml_notebook",
    "kind": "private"
   },
   "name": "GWLRSinkhorn.ipynb",
   "provenance": [
    {
     "file_id": "1AYbnnVVudg2LCcmepy2CL8g00EzOx4Jx",
     "timestamp": 1642072748057
    }
   ]
  },
  "kernelspec": {
   "display_name": "Python 3",
   "language": "python",
   "name": "python3"
  },
  "language_info": {
   "codemirror_mode": {
    "name": "ipython",
    "version": 3
   },
   "file_extension": ".py",
   "mimetype": "text/x-python",
   "name": "python",
   "nbconvert_exporter": "python",
   "pygments_lexer": "ipython3",
   "version": "3.9.12"
  }
 },
 "nbformat": 4,
 "nbformat_minor": 1
}
